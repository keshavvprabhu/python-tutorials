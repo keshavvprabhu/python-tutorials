{
  "nbformat": 4,
  "nbformat_minor": 0,
  "metadata": {
    "colab": {
      "name": "Widgets.ipynb",
      "provenance": [],
      "authorship_tag": "ABX9TyNlrloL1/lU5lj0lpH14mEc",
      "include_colab_link": true
    },
    "kernelspec": {
      "name": "python3",
      "display_name": "Python 3"
    },
    "language_info": {
      "name": "python"
    },
    "widgets": {
      "application/vnd.jupyter.widget-state+json": {
        "471b46b571e341f49f5556bd57442483": {
          "model_module": "@jupyter-widgets/controls",
          "model_name": "VBoxModel",
          "model_module_version": "1.5.0",
          "state": {
            "_dom_classes": [
              "widget-interact"
            ],
            "_model_module": "@jupyter-widgets/controls",
            "_model_module_version": "1.5.0",
            "_model_name": "VBoxModel",
            "_view_count": null,
            "_view_module": "@jupyter-widgets/controls",
            "_view_module_version": "1.5.0",
            "_view_name": "VBoxView",
            "box_style": "",
            "children": [
              "IPY_MODEL_e977045baeff4a5c88f9105cf7455297",
              "IPY_MODEL_36090b239846418fa3c569e7d56691b7",
              "IPY_MODEL_746823b70112470095902011e487eaa6",
              "IPY_MODEL_83e4e5ae263a41fbb265938633a8df17"
            ],
            "layout": "IPY_MODEL_755e0b6c78b240f98fae7986de235226"
          }
        },
        "e977045baeff4a5c88f9105cf7455297": {
          "model_module": "@jupyter-widgets/controls",
          "model_name": "IntSliderModel",
          "model_module_version": "1.5.0",
          "state": {
            "_dom_classes": [],
            "_model_module": "@jupyter-widgets/controls",
            "_model_module_version": "1.5.0",
            "_model_name": "IntSliderModel",
            "_view_count": null,
            "_view_module": "@jupyter-widgets/controls",
            "_view_module_version": "1.5.0",
            "_view_name": "IntSliderView",
            "continuous_update": true,
            "description": "m",
            "description_tooltip": null,
            "disabled": false,
            "layout": "IPY_MODEL_a6511a557c334783b9ac1f21f7069496",
            "max": 300,
            "min": -100,
            "orientation": "horizontal",
            "readout": true,
            "readout_format": "d",
            "step": 1,
            "style": "IPY_MODEL_ae7a55937b7f4b5aab563dc5105e0fbd",
            "value": 100
          }
        },
        "36090b239846418fa3c569e7d56691b7": {
          "model_module": "@jupyter-widgets/controls",
          "model_name": "IntSliderModel",
          "model_module_version": "1.5.0",
          "state": {
            "_dom_classes": [],
            "_model_module": "@jupyter-widgets/controls",
            "_model_module_version": "1.5.0",
            "_model_name": "IntSliderModel",
            "_view_count": null,
            "_view_module": "@jupyter-widgets/controls",
            "_view_module_version": "1.5.0",
            "_view_name": "IntSliderView",
            "continuous_update": true,
            "description": "x",
            "description_tooltip": null,
            "disabled": false,
            "layout": "IPY_MODEL_2386f3ea89e249d19be6526c0689c71b",
            "max": 300,
            "min": -100,
            "orientation": "horizontal",
            "readout": true,
            "readout_format": "d",
            "step": 1,
            "style": "IPY_MODEL_3901aa357fec4344902f0af7f10c49dd",
            "value": 100
          }
        },
        "746823b70112470095902011e487eaa6": {
          "model_module": "@jupyter-widgets/controls",
          "model_name": "IntSliderModel",
          "model_module_version": "1.5.0",
          "state": {
            "_dom_classes": [],
            "_model_module": "@jupyter-widgets/controls",
            "_model_module_version": "1.5.0",
            "_model_name": "IntSliderModel",
            "_view_count": null,
            "_view_module": "@jupyter-widgets/controls",
            "_view_module_version": "1.5.0",
            "_view_name": "IntSliderView",
            "continuous_update": true,
            "description": "b",
            "description_tooltip": null,
            "disabled": false,
            "layout": "IPY_MODEL_487c171aaf9743a6904299f98e133616",
            "max": 300,
            "min": -100,
            "orientation": "horizontal",
            "readout": true,
            "readout_format": "d",
            "step": 1,
            "style": "IPY_MODEL_78a7655cde59416b94a06212145c4d29",
            "value": 100
          }
        },
        "83e4e5ae263a41fbb265938633a8df17": {
          "model_module": "@jupyter-widgets/output",
          "model_name": "OutputModel",
          "model_module_version": "1.0.0",
          "state": {
            "_dom_classes": [],
            "_model_module": "@jupyter-widgets/output",
            "_model_module_version": "1.0.0",
            "_model_name": "OutputModel",
            "_view_count": null,
            "_view_module": "@jupyter-widgets/output",
            "_view_module_version": "1.0.0",
            "_view_name": "OutputView",
            "layout": "IPY_MODEL_5c864e3445f14d9dbfa5453f88ef8fee",
            "msg_id": "",
            "outputs": [
              {
                "output_type": "display_data",
                "data": {
                  "text/plain": "10100"
                },
                "metadata": {}
              }
            ]
          }
        },
        "755e0b6c78b240f98fae7986de235226": {
          "model_module": "@jupyter-widgets/base",
          "model_name": "LayoutModel",
          "model_module_version": "1.2.0",
          "state": {
            "_model_module": "@jupyter-widgets/base",
            "_model_module_version": "1.2.0",
            "_model_name": "LayoutModel",
            "_view_count": null,
            "_view_module": "@jupyter-widgets/base",
            "_view_module_version": "1.2.0",
            "_view_name": "LayoutView",
            "align_content": null,
            "align_items": null,
            "align_self": null,
            "border": null,
            "bottom": null,
            "display": null,
            "flex": null,
            "flex_flow": null,
            "grid_area": null,
            "grid_auto_columns": null,
            "grid_auto_flow": null,
            "grid_auto_rows": null,
            "grid_column": null,
            "grid_gap": null,
            "grid_row": null,
            "grid_template_areas": null,
            "grid_template_columns": null,
            "grid_template_rows": null,
            "height": null,
            "justify_content": null,
            "justify_items": null,
            "left": null,
            "margin": null,
            "max_height": null,
            "max_width": null,
            "min_height": null,
            "min_width": null,
            "object_fit": null,
            "object_position": null,
            "order": null,
            "overflow": null,
            "overflow_x": null,
            "overflow_y": null,
            "padding": null,
            "right": null,
            "top": null,
            "visibility": null,
            "width": null
          }
        },
        "a6511a557c334783b9ac1f21f7069496": {
          "model_module": "@jupyter-widgets/base",
          "model_name": "LayoutModel",
          "model_module_version": "1.2.0",
          "state": {
            "_model_module": "@jupyter-widgets/base",
            "_model_module_version": "1.2.0",
            "_model_name": "LayoutModel",
            "_view_count": null,
            "_view_module": "@jupyter-widgets/base",
            "_view_module_version": "1.2.0",
            "_view_name": "LayoutView",
            "align_content": null,
            "align_items": null,
            "align_self": null,
            "border": null,
            "bottom": null,
            "display": null,
            "flex": null,
            "flex_flow": null,
            "grid_area": null,
            "grid_auto_columns": null,
            "grid_auto_flow": null,
            "grid_auto_rows": null,
            "grid_column": null,
            "grid_gap": null,
            "grid_row": null,
            "grid_template_areas": null,
            "grid_template_columns": null,
            "grid_template_rows": null,
            "height": null,
            "justify_content": null,
            "justify_items": null,
            "left": null,
            "margin": null,
            "max_height": null,
            "max_width": null,
            "min_height": null,
            "min_width": null,
            "object_fit": null,
            "object_position": null,
            "order": null,
            "overflow": null,
            "overflow_x": null,
            "overflow_y": null,
            "padding": null,
            "right": null,
            "top": null,
            "visibility": null,
            "width": null
          }
        },
        "ae7a55937b7f4b5aab563dc5105e0fbd": {
          "model_module": "@jupyter-widgets/controls",
          "model_name": "SliderStyleModel",
          "model_module_version": "1.5.0",
          "state": {
            "_model_module": "@jupyter-widgets/controls",
            "_model_module_version": "1.5.0",
            "_model_name": "SliderStyleModel",
            "_view_count": null,
            "_view_module": "@jupyter-widgets/base",
            "_view_module_version": "1.2.0",
            "_view_name": "StyleView",
            "description_width": "",
            "handle_color": null
          }
        },
        "2386f3ea89e249d19be6526c0689c71b": {
          "model_module": "@jupyter-widgets/base",
          "model_name": "LayoutModel",
          "model_module_version": "1.2.0",
          "state": {
            "_model_module": "@jupyter-widgets/base",
            "_model_module_version": "1.2.0",
            "_model_name": "LayoutModel",
            "_view_count": null,
            "_view_module": "@jupyter-widgets/base",
            "_view_module_version": "1.2.0",
            "_view_name": "LayoutView",
            "align_content": null,
            "align_items": null,
            "align_self": null,
            "border": null,
            "bottom": null,
            "display": null,
            "flex": null,
            "flex_flow": null,
            "grid_area": null,
            "grid_auto_columns": null,
            "grid_auto_flow": null,
            "grid_auto_rows": null,
            "grid_column": null,
            "grid_gap": null,
            "grid_row": null,
            "grid_template_areas": null,
            "grid_template_columns": null,
            "grid_template_rows": null,
            "height": null,
            "justify_content": null,
            "justify_items": null,
            "left": null,
            "margin": null,
            "max_height": null,
            "max_width": null,
            "min_height": null,
            "min_width": null,
            "object_fit": null,
            "object_position": null,
            "order": null,
            "overflow": null,
            "overflow_x": null,
            "overflow_y": null,
            "padding": null,
            "right": null,
            "top": null,
            "visibility": null,
            "width": null
          }
        },
        "3901aa357fec4344902f0af7f10c49dd": {
          "model_module": "@jupyter-widgets/controls",
          "model_name": "SliderStyleModel",
          "model_module_version": "1.5.0",
          "state": {
            "_model_module": "@jupyter-widgets/controls",
            "_model_module_version": "1.5.0",
            "_model_name": "SliderStyleModel",
            "_view_count": null,
            "_view_module": "@jupyter-widgets/base",
            "_view_module_version": "1.2.0",
            "_view_name": "StyleView",
            "description_width": "",
            "handle_color": null
          }
        },
        "487c171aaf9743a6904299f98e133616": {
          "model_module": "@jupyter-widgets/base",
          "model_name": "LayoutModel",
          "model_module_version": "1.2.0",
          "state": {
            "_model_module": "@jupyter-widgets/base",
            "_model_module_version": "1.2.0",
            "_model_name": "LayoutModel",
            "_view_count": null,
            "_view_module": "@jupyter-widgets/base",
            "_view_module_version": "1.2.0",
            "_view_name": "LayoutView",
            "align_content": null,
            "align_items": null,
            "align_self": null,
            "border": null,
            "bottom": null,
            "display": null,
            "flex": null,
            "flex_flow": null,
            "grid_area": null,
            "grid_auto_columns": null,
            "grid_auto_flow": null,
            "grid_auto_rows": null,
            "grid_column": null,
            "grid_gap": null,
            "grid_row": null,
            "grid_template_areas": null,
            "grid_template_columns": null,
            "grid_template_rows": null,
            "height": null,
            "justify_content": null,
            "justify_items": null,
            "left": null,
            "margin": null,
            "max_height": null,
            "max_width": null,
            "min_height": null,
            "min_width": null,
            "object_fit": null,
            "object_position": null,
            "order": null,
            "overflow": null,
            "overflow_x": null,
            "overflow_y": null,
            "padding": null,
            "right": null,
            "top": null,
            "visibility": null,
            "width": null
          }
        },
        "78a7655cde59416b94a06212145c4d29": {
          "model_module": "@jupyter-widgets/controls",
          "model_name": "SliderStyleModel",
          "model_module_version": "1.5.0",
          "state": {
            "_model_module": "@jupyter-widgets/controls",
            "_model_module_version": "1.5.0",
            "_model_name": "SliderStyleModel",
            "_view_count": null,
            "_view_module": "@jupyter-widgets/base",
            "_view_module_version": "1.2.0",
            "_view_name": "StyleView",
            "description_width": "",
            "handle_color": null
          }
        },
        "5c864e3445f14d9dbfa5453f88ef8fee": {
          "model_module": "@jupyter-widgets/base",
          "model_name": "LayoutModel",
          "model_module_version": "1.2.0",
          "state": {
            "_model_module": "@jupyter-widgets/base",
            "_model_module_version": "1.2.0",
            "_model_name": "LayoutModel",
            "_view_count": null,
            "_view_module": "@jupyter-widgets/base",
            "_view_module_version": "1.2.0",
            "_view_name": "LayoutView",
            "align_content": null,
            "align_items": null,
            "align_self": null,
            "border": null,
            "bottom": null,
            "display": null,
            "flex": null,
            "flex_flow": null,
            "grid_area": null,
            "grid_auto_columns": null,
            "grid_auto_flow": null,
            "grid_auto_rows": null,
            "grid_column": null,
            "grid_gap": null,
            "grid_row": null,
            "grid_template_areas": null,
            "grid_template_columns": null,
            "grid_template_rows": null,
            "height": null,
            "justify_content": null,
            "justify_items": null,
            "left": null,
            "margin": null,
            "max_height": null,
            "max_width": null,
            "min_height": null,
            "min_width": null,
            "object_fit": null,
            "object_position": null,
            "order": null,
            "overflow": null,
            "overflow_x": null,
            "overflow_y": null,
            "padding": null,
            "right": null,
            "top": null,
            "visibility": null,
            "width": null
          }
        },
        "5dd9055c71f2421b87c0f1d7efb78865": {
          "model_module": "@jupyter-widgets/controls",
          "model_name": "VBoxModel",
          "model_module_version": "1.5.0",
          "state": {
            "_dom_classes": [
              "widget-interact"
            ],
            "_model_module": "@jupyter-widgets/controls",
            "_model_module_version": "1.5.0",
            "_model_name": "VBoxModel",
            "_view_count": null,
            "_view_module": "@jupyter-widgets/controls",
            "_view_module_version": "1.5.0",
            "_view_name": "VBoxView",
            "box_style": "",
            "children": [
              "IPY_MODEL_0df0b0ea8c5a41bca4ef24ec0affae29",
              "IPY_MODEL_428139cb446f4a52a597cc046b2aa3ea",
              "IPY_MODEL_476dbfc578f943adadeaee6eb783b85b"
            ],
            "layout": "IPY_MODEL_fba7981fe7444403bce886840259923c"
          }
        },
        "0df0b0ea8c5a41bca4ef24ec0affae29": {
          "model_module": "@jupyter-widgets/controls",
          "model_name": "FloatSliderModel",
          "model_module_version": "1.5.0",
          "state": {
            "_dom_classes": [],
            "_model_module": "@jupyter-widgets/controls",
            "_model_module_version": "1.5.0",
            "_model_name": "FloatSliderModel",
            "_view_count": null,
            "_view_module": "@jupyter-widgets/controls",
            "_view_module_version": "1.5.0",
            "_view_name": "FloatSliderView",
            "continuous_update": true,
            "description": "slope",
            "description_tooltip": null,
            "disabled": false,
            "layout": "IPY_MODEL_d9762dc8afc241d7b753aca2552db92b",
            "max": 10,
            "min": -10,
            "orientation": "horizontal",
            "readout": true,
            "readout_format": ".2f",
            "step": 0.1,
            "style": "IPY_MODEL_02055f808aba46f481dc0edd5d985013",
            "value": -2.7
          }
        },
        "428139cb446f4a52a597cc046b2aa3ea": {
          "model_module": "@jupyter-widgets/controls",
          "model_name": "FloatSliderModel",
          "model_module_version": "1.5.0",
          "state": {
            "_dom_classes": [],
            "_model_module": "@jupyter-widgets/controls",
            "_model_module_version": "1.5.0",
            "_model_name": "FloatSliderModel",
            "_view_count": null,
            "_view_module": "@jupyter-widgets/controls",
            "_view_module_version": "1.5.0",
            "_view_name": "FloatSliderView",
            "continuous_update": true,
            "description": "intercept",
            "description_tooltip": null,
            "disabled": false,
            "layout": "IPY_MODEL_6c3925f799314c19b9fb769723df35f2",
            "max": 5,
            "min": -5,
            "orientation": "horizontal",
            "readout": true,
            "readout_format": ".2f",
            "step": 0.1,
            "style": "IPY_MODEL_41057eaeebb848fb99a537449205da3d",
            "value": 1.4000000000000004
          }
        },
        "476dbfc578f943adadeaee6eb783b85b": {
          "model_module": "@jupyter-widgets/output",
          "model_name": "OutputModel",
          "model_module_version": "1.0.0",
          "state": {
            "_dom_classes": [],
            "_model_module": "@jupyter-widgets/output",
            "_model_module_version": "1.0.0",
            "_model_name": "OutputModel",
            "_view_count": null,
            "_view_module": "@jupyter-widgets/output",
            "_view_module_version": "1.0.0",
            "_view_name": "OutputView",
            "layout": "IPY_MODEL_0022234e3a6b4e9ea288c067fe736fc9",
            "msg_id": "",
            "outputs": [
              {
                "output_type": "display_data",
                "data": {
                  "text/plain": "<Figure size 432x288 with 1 Axes>",
                  "image/png": "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\n"
                },
                "metadata": {
                  "needs_background": "light"
                }
              }
            ]
          }
        },
        "fba7981fe7444403bce886840259923c": {
          "model_module": "@jupyter-widgets/base",
          "model_name": "LayoutModel",
          "model_module_version": "1.2.0",
          "state": {
            "_model_module": "@jupyter-widgets/base",
            "_model_module_version": "1.2.0",
            "_model_name": "LayoutModel",
            "_view_count": null,
            "_view_module": "@jupyter-widgets/base",
            "_view_module_version": "1.2.0",
            "_view_name": "LayoutView",
            "align_content": null,
            "align_items": null,
            "align_self": null,
            "border": null,
            "bottom": null,
            "display": null,
            "flex": null,
            "flex_flow": null,
            "grid_area": null,
            "grid_auto_columns": null,
            "grid_auto_flow": null,
            "grid_auto_rows": null,
            "grid_column": null,
            "grid_gap": null,
            "grid_row": null,
            "grid_template_areas": null,
            "grid_template_columns": null,
            "grid_template_rows": null,
            "height": null,
            "justify_content": null,
            "justify_items": null,
            "left": null,
            "margin": null,
            "max_height": null,
            "max_width": null,
            "min_height": null,
            "min_width": null,
            "object_fit": null,
            "object_position": null,
            "order": null,
            "overflow": null,
            "overflow_x": null,
            "overflow_y": null,
            "padding": null,
            "right": null,
            "top": null,
            "visibility": null,
            "width": null
          }
        },
        "d9762dc8afc241d7b753aca2552db92b": {
          "model_module": "@jupyter-widgets/base",
          "model_name": "LayoutModel",
          "model_module_version": "1.2.0",
          "state": {
            "_model_module": "@jupyter-widgets/base",
            "_model_module_version": "1.2.0",
            "_model_name": "LayoutModel",
            "_view_count": null,
            "_view_module": "@jupyter-widgets/base",
            "_view_module_version": "1.2.0",
            "_view_name": "LayoutView",
            "align_content": null,
            "align_items": null,
            "align_self": null,
            "border": null,
            "bottom": null,
            "display": null,
            "flex": null,
            "flex_flow": null,
            "grid_area": null,
            "grid_auto_columns": null,
            "grid_auto_flow": null,
            "grid_auto_rows": null,
            "grid_column": null,
            "grid_gap": null,
            "grid_row": null,
            "grid_template_areas": null,
            "grid_template_columns": null,
            "grid_template_rows": null,
            "height": null,
            "justify_content": null,
            "justify_items": null,
            "left": null,
            "margin": null,
            "max_height": null,
            "max_width": null,
            "min_height": null,
            "min_width": null,
            "object_fit": null,
            "object_position": null,
            "order": null,
            "overflow": null,
            "overflow_x": null,
            "overflow_y": null,
            "padding": null,
            "right": null,
            "top": null,
            "visibility": null,
            "width": null
          }
        },
        "02055f808aba46f481dc0edd5d985013": {
          "model_module": "@jupyter-widgets/controls",
          "model_name": "SliderStyleModel",
          "model_module_version": "1.5.0",
          "state": {
            "_model_module": "@jupyter-widgets/controls",
            "_model_module_version": "1.5.0",
            "_model_name": "SliderStyleModel",
            "_view_count": null,
            "_view_module": "@jupyter-widgets/base",
            "_view_module_version": "1.2.0",
            "_view_name": "StyleView",
            "description_width": "",
            "handle_color": null
          }
        },
        "6c3925f799314c19b9fb769723df35f2": {
          "model_module": "@jupyter-widgets/base",
          "model_name": "LayoutModel",
          "model_module_version": "1.2.0",
          "state": {
            "_model_module": "@jupyter-widgets/base",
            "_model_module_version": "1.2.0",
            "_model_name": "LayoutModel",
            "_view_count": null,
            "_view_module": "@jupyter-widgets/base",
            "_view_module_version": "1.2.0",
            "_view_name": "LayoutView",
            "align_content": null,
            "align_items": null,
            "align_self": null,
            "border": null,
            "bottom": null,
            "display": null,
            "flex": null,
            "flex_flow": null,
            "grid_area": null,
            "grid_auto_columns": null,
            "grid_auto_flow": null,
            "grid_auto_rows": null,
            "grid_column": null,
            "grid_gap": null,
            "grid_row": null,
            "grid_template_areas": null,
            "grid_template_columns": null,
            "grid_template_rows": null,
            "height": null,
            "justify_content": null,
            "justify_items": null,
            "left": null,
            "margin": null,
            "max_height": null,
            "max_width": null,
            "min_height": null,
            "min_width": null,
            "object_fit": null,
            "object_position": null,
            "order": null,
            "overflow": null,
            "overflow_x": null,
            "overflow_y": null,
            "padding": null,
            "right": null,
            "top": null,
            "visibility": null,
            "width": null
          }
        },
        "41057eaeebb848fb99a537449205da3d": {
          "model_module": "@jupyter-widgets/controls",
          "model_name": "SliderStyleModel",
          "model_module_version": "1.5.0",
          "state": {
            "_model_module": "@jupyter-widgets/controls",
            "_model_module_version": "1.5.0",
            "_model_name": "SliderStyleModel",
            "_view_count": null,
            "_view_module": "@jupyter-widgets/base",
            "_view_module_version": "1.2.0",
            "_view_name": "StyleView",
            "description_width": "",
            "handle_color": null
          }
        },
        "0022234e3a6b4e9ea288c067fe736fc9": {
          "model_module": "@jupyter-widgets/base",
          "model_name": "LayoutModel",
          "model_module_version": "1.2.0",
          "state": {
            "_model_module": "@jupyter-widgets/base",
            "_model_module_version": "1.2.0",
            "_model_name": "LayoutModel",
            "_view_count": null,
            "_view_module": "@jupyter-widgets/base",
            "_view_module_version": "1.2.0",
            "_view_name": "LayoutView",
            "align_content": null,
            "align_items": null,
            "align_self": null,
            "border": null,
            "bottom": null,
            "display": null,
            "flex": null,
            "flex_flow": null,
            "grid_area": null,
            "grid_auto_columns": null,
            "grid_auto_flow": null,
            "grid_auto_rows": null,
            "grid_column": null,
            "grid_gap": null,
            "grid_row": null,
            "grid_template_areas": null,
            "grid_template_columns": null,
            "grid_template_rows": null,
            "height": null,
            "justify_content": null,
            "justify_items": null,
            "left": null,
            "margin": null,
            "max_height": null,
            "max_width": null,
            "min_height": null,
            "min_width": null,
            "object_fit": null,
            "object_position": null,
            "order": null,
            "overflow": null,
            "overflow_x": null,
            "overflow_y": null,
            "padding": null,
            "right": null,
            "top": null,
            "visibility": null,
            "width": null
          }
        },
        "c4cfb1d86b074f06b0b9d6b45995f5e6": {
          "model_module": "@jupyter-widgets/controls",
          "model_name": "VBoxModel",
          "model_module_version": "1.5.0",
          "state": {
            "_dom_classes": [
              "widget-interact"
            ],
            "_model_module": "@jupyter-widgets/controls",
            "_model_module_version": "1.5.0",
            "_model_name": "VBoxModel",
            "_view_count": null,
            "_view_module": "@jupyter-widgets/controls",
            "_view_module_version": "1.5.0",
            "_view_name": "VBoxView",
            "box_style": "",
            "children": [
              "IPY_MODEL_376bd5cbcd94498b85f1ebd52758c14c",
              "IPY_MODEL_3faa192841eb4df183b525e8c77c154e",
              "IPY_MODEL_ed5812dbfbe2412cbe0d20fa7056675c",
              "IPY_MODEL_a96c6c2c83244064b74f5576e26a7040"
            ],
            "layout": "IPY_MODEL_5ebf1133b55d4445b4f233c0c727b076"
          }
        },
        "376bd5cbcd94498b85f1ebd52758c14c": {
          "model_module": "@jupyter-widgets/controls",
          "model_name": "FloatSliderModel",
          "model_module_version": "1.5.0",
          "state": {
            "_dom_classes": [],
            "_model_module": "@jupyter-widgets/controls",
            "_model_module_version": "1.5.0",
            "_model_name": "FloatSliderModel",
            "_view_count": null,
            "_view_module": "@jupyter-widgets/controls",
            "_view_module_version": "1.5.0",
            "_view_name": "FloatSliderView",
            "continuous_update": true,
            "description": "a",
            "description_tooltip": null,
            "disabled": false,
            "layout": "IPY_MODEL_700f6ffd1efb4e7d82b59a8838ba9f93",
            "max": 10,
            "min": -10,
            "orientation": "horizontal",
            "readout": true,
            "readout_format": ".2f",
            "step": 0.1,
            "style": "IPY_MODEL_20cc8dd9438b48ce88dc904852ba31f7",
            "value": 0
          }
        },
        "3faa192841eb4df183b525e8c77c154e": {
          "model_module": "@jupyter-widgets/controls",
          "model_name": "FloatSliderModel",
          "model_module_version": "1.5.0",
          "state": {
            "_dom_classes": [],
            "_model_module": "@jupyter-widgets/controls",
            "_model_module_version": "1.5.0",
            "_model_name": "FloatSliderModel",
            "_view_count": null,
            "_view_module": "@jupyter-widgets/controls",
            "_view_module_version": "1.5.0",
            "_view_name": "FloatSliderView",
            "continuous_update": true,
            "description": "b",
            "description_tooltip": null,
            "disabled": false,
            "layout": "IPY_MODEL_d2514bc36b854bc4ba28b6e170bf05c6",
            "max": 10,
            "min": -10,
            "orientation": "horizontal",
            "readout": true,
            "readout_format": ".2f",
            "step": 0.1,
            "style": "IPY_MODEL_5b6fdd3c70e84519b409a4680ae9d79f",
            "value": 0
          }
        },
        "ed5812dbfbe2412cbe0d20fa7056675c": {
          "model_module": "@jupyter-widgets/controls",
          "model_name": "FloatSliderModel",
          "model_module_version": "1.5.0",
          "state": {
            "_dom_classes": [],
            "_model_module": "@jupyter-widgets/controls",
            "_model_module_version": "1.5.0",
            "_model_name": "FloatSliderModel",
            "_view_count": null,
            "_view_module": "@jupyter-widgets/controls",
            "_view_module_version": "1.5.0",
            "_view_name": "FloatSliderView",
            "continuous_update": true,
            "description": "c",
            "description_tooltip": null,
            "disabled": false,
            "layout": "IPY_MODEL_38161f72aeb241488f45f6544687e689",
            "max": 10,
            "min": -10,
            "orientation": "horizontal",
            "readout": true,
            "readout_format": ".2f",
            "step": 0.1,
            "style": "IPY_MODEL_7f43cf7d2b75454cb0e9a77041ec4acc",
            "value": 0
          }
        },
        "a96c6c2c83244064b74f5576e26a7040": {
          "model_module": "@jupyter-widgets/output",
          "model_name": "OutputModel",
          "model_module_version": "1.0.0",
          "state": {
            "_dom_classes": [],
            "_model_module": "@jupyter-widgets/output",
            "_model_module_version": "1.0.0",
            "_model_name": "OutputModel",
            "_view_count": null,
            "_view_module": "@jupyter-widgets/output",
            "_view_module_version": "1.0.0",
            "_view_name": "OutputView",
            "layout": "IPY_MODEL_f5fd3998d1a04126918613181e429512",
            "msg_id": "",
            "outputs": [
              {
                "output_type": "stream",
                "name": "stderr",
                "text": [
                  "/usr/local/lib/python3.7/dist-packages/ipykernel_launcher.py:3: RuntimeWarning: divide by zero encountered in power\n",
                  "  This is separate from the ipykernel package so we can avoid doing imports until\n"
                ]
              },
              {
                "output_type": "display_data",
                "data": {
                  "text/plain": "<Figure size 432x288 with 1 Axes>",
                  "image/png": "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\n"
                },
                "metadata": {
                  "needs_background": "light"
                }
              }
            ]
          }
        },
        "5ebf1133b55d4445b4f233c0c727b076": {
          "model_module": "@jupyter-widgets/base",
          "model_name": "LayoutModel",
          "model_module_version": "1.2.0",
          "state": {
            "_model_module": "@jupyter-widgets/base",
            "_model_module_version": "1.2.0",
            "_model_name": "LayoutModel",
            "_view_count": null,
            "_view_module": "@jupyter-widgets/base",
            "_view_module_version": "1.2.0",
            "_view_name": "LayoutView",
            "align_content": null,
            "align_items": null,
            "align_self": null,
            "border": null,
            "bottom": null,
            "display": null,
            "flex": null,
            "flex_flow": null,
            "grid_area": null,
            "grid_auto_columns": null,
            "grid_auto_flow": null,
            "grid_auto_rows": null,
            "grid_column": null,
            "grid_gap": null,
            "grid_row": null,
            "grid_template_areas": null,
            "grid_template_columns": null,
            "grid_template_rows": null,
            "height": null,
            "justify_content": null,
            "justify_items": null,
            "left": null,
            "margin": null,
            "max_height": null,
            "max_width": null,
            "min_height": null,
            "min_width": null,
            "object_fit": null,
            "object_position": null,
            "order": null,
            "overflow": null,
            "overflow_x": null,
            "overflow_y": null,
            "padding": null,
            "right": null,
            "top": null,
            "visibility": null,
            "width": null
          }
        },
        "700f6ffd1efb4e7d82b59a8838ba9f93": {
          "model_module": "@jupyter-widgets/base",
          "model_name": "LayoutModel",
          "model_module_version": "1.2.0",
          "state": {
            "_model_module": "@jupyter-widgets/base",
            "_model_module_version": "1.2.0",
            "_model_name": "LayoutModel",
            "_view_count": null,
            "_view_module": "@jupyter-widgets/base",
            "_view_module_version": "1.2.0",
            "_view_name": "LayoutView",
            "align_content": null,
            "align_items": null,
            "align_self": null,
            "border": null,
            "bottom": null,
            "display": null,
            "flex": null,
            "flex_flow": null,
            "grid_area": null,
            "grid_auto_columns": null,
            "grid_auto_flow": null,
            "grid_auto_rows": null,
            "grid_column": null,
            "grid_gap": null,
            "grid_row": null,
            "grid_template_areas": null,
            "grid_template_columns": null,
            "grid_template_rows": null,
            "height": null,
            "justify_content": null,
            "justify_items": null,
            "left": null,
            "margin": null,
            "max_height": null,
            "max_width": null,
            "min_height": null,
            "min_width": null,
            "object_fit": null,
            "object_position": null,
            "order": null,
            "overflow": null,
            "overflow_x": null,
            "overflow_y": null,
            "padding": null,
            "right": null,
            "top": null,
            "visibility": null,
            "width": null
          }
        },
        "20cc8dd9438b48ce88dc904852ba31f7": {
          "model_module": "@jupyter-widgets/controls",
          "model_name": "SliderStyleModel",
          "model_module_version": "1.5.0",
          "state": {
            "_model_module": "@jupyter-widgets/controls",
            "_model_module_version": "1.5.0",
            "_model_name": "SliderStyleModel",
            "_view_count": null,
            "_view_module": "@jupyter-widgets/base",
            "_view_module_version": "1.2.0",
            "_view_name": "StyleView",
            "description_width": "",
            "handle_color": null
          }
        },
        "d2514bc36b854bc4ba28b6e170bf05c6": {
          "model_module": "@jupyter-widgets/base",
          "model_name": "LayoutModel",
          "model_module_version": "1.2.0",
          "state": {
            "_model_module": "@jupyter-widgets/base",
            "_model_module_version": "1.2.0",
            "_model_name": "LayoutModel",
            "_view_count": null,
            "_view_module": "@jupyter-widgets/base",
            "_view_module_version": "1.2.0",
            "_view_name": "LayoutView",
            "align_content": null,
            "align_items": null,
            "align_self": null,
            "border": null,
            "bottom": null,
            "display": null,
            "flex": null,
            "flex_flow": null,
            "grid_area": null,
            "grid_auto_columns": null,
            "grid_auto_flow": null,
            "grid_auto_rows": null,
            "grid_column": null,
            "grid_gap": null,
            "grid_row": null,
            "grid_template_areas": null,
            "grid_template_columns": null,
            "grid_template_rows": null,
            "height": null,
            "justify_content": null,
            "justify_items": null,
            "left": null,
            "margin": null,
            "max_height": null,
            "max_width": null,
            "min_height": null,
            "min_width": null,
            "object_fit": null,
            "object_position": null,
            "order": null,
            "overflow": null,
            "overflow_x": null,
            "overflow_y": null,
            "padding": null,
            "right": null,
            "top": null,
            "visibility": null,
            "width": null
          }
        },
        "5b6fdd3c70e84519b409a4680ae9d79f": {
          "model_module": "@jupyter-widgets/controls",
          "model_name": "SliderStyleModel",
          "model_module_version": "1.5.0",
          "state": {
            "_model_module": "@jupyter-widgets/controls",
            "_model_module_version": "1.5.0",
            "_model_name": "SliderStyleModel",
            "_view_count": null,
            "_view_module": "@jupyter-widgets/base",
            "_view_module_version": "1.2.0",
            "_view_name": "StyleView",
            "description_width": "",
            "handle_color": null
          }
        },
        "38161f72aeb241488f45f6544687e689": {
          "model_module": "@jupyter-widgets/base",
          "model_name": "LayoutModel",
          "model_module_version": "1.2.0",
          "state": {
            "_model_module": "@jupyter-widgets/base",
            "_model_module_version": "1.2.0",
            "_model_name": "LayoutModel",
            "_view_count": null,
            "_view_module": "@jupyter-widgets/base",
            "_view_module_version": "1.2.0",
            "_view_name": "LayoutView",
            "align_content": null,
            "align_items": null,
            "align_self": null,
            "border": null,
            "bottom": null,
            "display": null,
            "flex": null,
            "flex_flow": null,
            "grid_area": null,
            "grid_auto_columns": null,
            "grid_auto_flow": null,
            "grid_auto_rows": null,
            "grid_column": null,
            "grid_gap": null,
            "grid_row": null,
            "grid_template_areas": null,
            "grid_template_columns": null,
            "grid_template_rows": null,
            "height": null,
            "justify_content": null,
            "justify_items": null,
            "left": null,
            "margin": null,
            "max_height": null,
            "max_width": null,
            "min_height": null,
            "min_width": null,
            "object_fit": null,
            "object_position": null,
            "order": null,
            "overflow": null,
            "overflow_x": null,
            "overflow_y": null,
            "padding": null,
            "right": null,
            "top": null,
            "visibility": null,
            "width": null
          }
        },
        "7f43cf7d2b75454cb0e9a77041ec4acc": {
          "model_module": "@jupyter-widgets/controls",
          "model_name": "SliderStyleModel",
          "model_module_version": "1.5.0",
          "state": {
            "_model_module": "@jupyter-widgets/controls",
            "_model_module_version": "1.5.0",
            "_model_name": "SliderStyleModel",
            "_view_count": null,
            "_view_module": "@jupyter-widgets/base",
            "_view_module_version": "1.2.0",
            "_view_name": "StyleView",
            "description_width": "",
            "handle_color": null
          }
        },
        "f5fd3998d1a04126918613181e429512": {
          "model_module": "@jupyter-widgets/base",
          "model_name": "LayoutModel",
          "model_module_version": "1.2.0",
          "state": {
            "_model_module": "@jupyter-widgets/base",
            "_model_module_version": "1.2.0",
            "_model_name": "LayoutModel",
            "_view_count": null,
            "_view_module": "@jupyter-widgets/base",
            "_view_module_version": "1.2.0",
            "_view_name": "LayoutView",
            "align_content": null,
            "align_items": null,
            "align_self": null,
            "border": null,
            "bottom": null,
            "display": null,
            "flex": null,
            "flex_flow": null,
            "grid_area": null,
            "grid_auto_columns": null,
            "grid_auto_flow": null,
            "grid_auto_rows": null,
            "grid_column": null,
            "grid_gap": null,
            "grid_row": null,
            "grid_template_areas": null,
            "grid_template_columns": null,
            "grid_template_rows": null,
            "height": null,
            "justify_content": null,
            "justify_items": null,
            "left": null,
            "margin": null,
            "max_height": null,
            "max_width": null,
            "min_height": null,
            "min_width": null,
            "object_fit": null,
            "object_position": null,
            "order": null,
            "overflow": null,
            "overflow_x": null,
            "overflow_y": null,
            "padding": null,
            "right": null,
            "top": null,
            "visibility": null,
            "width": null
          }
        }
      }
    }
  },
  "cells": [
    {
      "cell_type": "markdown",
      "metadata": {
        "id": "view-in-github",
        "colab_type": "text"
      },
      "source": [
        "<a href=\"https://colab.research.google.com/github/keshavvprabhu/python-tutorials/blob/main/Widgets.ipynb\" target=\"_parent\"><img src=\"https://colab.research.google.com/assets/colab-badge.svg\" alt=\"Open In Colab\"/></a>"
      ]
    },
    {
      "cell_type": "markdown",
      "source": [
        "# Google Colab - Interactive Graphs, Tables and Widgets"
      ],
      "metadata": {
        "id": "Ei2A4xKFkh1E"
      }
    },
    {
      "cell_type": "markdown",
      "source": [
        "Reference: https://www.youtube.com/watch?v=1d8-KUIC7wQ"
      ],
      "metadata": {
        "id": "EmWiN6Qdkf-3"
      }
    },
    {
      "cell_type": "markdown",
      "source": [
        "## Install Modules\n",
        "Some of these modules are not pre-installed in the Google Colab Environment. Hence we need to install them ourselves."
      ],
      "metadata": {
        "id": "pEWUxAJIkt8g"
      }
    },
    {
      "cell_type": "code",
      "source": [
        "!pip install evidently\n",
        "!pip install facets-overview\n",
        "!pip install yfinance\n",
        "import os\n",
        "os.kill(os.getpid(), 9)   ## does kill -9 <process_id> as sometimes we need to restart the kernel after the installation of the modules"
      ],
      "metadata": {
        "id": "IgSiZ-Wjk24w"
      },
      "execution_count": null,
      "outputs": []
    },
    {
      "cell_type": "markdown",
      "source": [
        "## Import Modules"
      ],
      "metadata": {
        "id": "TOwprC_6kqpU"
      }
    },
    {
      "cell_type": "markdown",
      "source": [
        "This following import is needed in google colab environment for us to be able to use third party widgets that are not natively supported"
      ],
      "metadata": {
        "id": "98EmNg_pldZe"
      }
    },
    {
      "cell_type": "code",
      "execution_count": 2,
      "metadata": {
        "id": "lAKu2vOQkHTE"
      },
      "outputs": [],
      "source": [
        "from google.colab import output\n",
        "output.enable_custom_widget_manager()"
      ]
    },
    {
      "cell_type": "markdown",
      "source": [
        "Now let us import the rest of the third party widgets modules"
      ],
      "metadata": {
        "id": "lSSYTw51llXw"
      }
    },
    {
      "cell_type": "code",
      "source": [
        "from ipywidgets import interact, interactive\n",
        "import ipywidgets as widgets\n",
        "from evidently.dashboard import Dashboard\n",
        "from evidently.tabs import DataDriftTab"
      ],
      "metadata": {
        "id": "2p4GoGfBloqZ"
      },
      "execution_count": 3,
      "outputs": []
    },
    {
      "cell_type": "markdown",
      "source": [
        "Now let us import the commonly used modules"
      ],
      "metadata": {
        "id": "SVY_Q0Xwl7f-"
      }
    },
    {
      "cell_type": "code",
      "source": [
        "import yfinance as yf\n",
        "import pandas as pd\n",
        "import numpy as np\n",
        "import os\n",
        "import base64\n",
        "import matplotlib.pyplot as plt\n",
        "from IPython.core.display import display, HTML\n"
      ],
      "metadata": {
        "id": "b3YZNswRmB5B"
      },
      "execution_count": 5,
      "outputs": []
    },
    {
      "cell_type": "markdown",
      "source": [
        "## Importing sklearn datasets"
      ],
      "metadata": {
        "id": "DuxWw0nKmcAk"
      }
    },
    {
      "cell_type": "code",
      "source": [
        "from sklearn import datasets"
      ],
      "metadata": {
        "id": "OLTRZtY4mfEb"
      },
      "execution_count": 7,
      "outputs": []
    },
    {
      "cell_type": "markdown",
      "source": [
        "Here is the equation for a line (from linear algebra)\n",
        "\n",
        "$y = mx + b$\n",
        "\n",
        "where m is the slope and b is the intercept\n",
        "\n",
        "Now let us try to plot that line interactively.. First we write a function that will simulate the equation"
      ],
      "metadata": {
        "id": "qF6WnQH2mmOS"
      }
    },
    {
      "cell_type": "code",
      "source": [
        "def draw_line(m, x, b):\n",
        "    y = m*x + b\n",
        "    return y"
      ],
      "metadata": {
        "id": "xFeC-Rl1nWAh"
      },
      "execution_count": 6,
      "outputs": []
    },
    {
      "cell_type": "code",
      "source": [
        "interact(draw_line, m=100, x=100, b=100);"
      ],
      "metadata": {
        "colab": {
          "base_uri": "https://localhost:8080/",
          "height": 131,
          "referenced_widgets": [
            "471b46b571e341f49f5556bd57442483",
            "e977045baeff4a5c88f9105cf7455297",
            "36090b239846418fa3c569e7d56691b7",
            "746823b70112470095902011e487eaa6",
            "83e4e5ae263a41fbb265938633a8df17",
            "755e0b6c78b240f98fae7986de235226",
            "a6511a557c334783b9ac1f21f7069496",
            "ae7a55937b7f4b5aab563dc5105e0fbd",
            "2386f3ea89e249d19be6526c0689c71b",
            "3901aa357fec4344902f0af7f10c49dd",
            "487c171aaf9743a6904299f98e133616",
            "78a7655cde59416b94a06212145c4d29",
            "5c864e3445f14d9dbfa5453f88ef8fee"
          ]
        },
        "id": "7M3M3cvFojmY",
        "outputId": "c9d8262e-851c-4454-da0b-15e7c512a893"
      },
      "execution_count": 13,
      "outputs": [
        {
          "output_type": "display_data",
          "data": {
            "text/plain": [
              "interactive(children=(IntSlider(value=100, description='m', max=300, min=-100), IntSlider(value=100, descripti…"
            ],
            "application/vnd.jupyter.widget-view+json": {
              "version_major": 2,
              "version_minor": 0,
              "model_id": "471b46b571e341f49f5556bd57442483"
            }
          },
          "metadata": {
            "application/vnd.jupyter.widget-view+json": {
              "colab": {
                "custom_widget_manager": {
                  "url": "https://ssl.gstatic.com/colaboratory-static/widgets/colab-cdn-widget-manager/a8874ba6619b6106/manager.min.js"
                }
              }
            }
          }
        }
      ]
    },
    {
      "cell_type": "markdown",
      "source": [
        "## Interactive Plot"
      ],
      "metadata": {
        "id": "wdN_k4tRqlxu"
      }
    },
    {
      "cell_type": "code",
      "source": [
        "def linear_func(slope, intercept):\n",
        "    plt.figure()\n",
        "    x=np.linspace(-10,10, num=1000)\n",
        "    plt.ylim(-10, 10)\n",
        "    plt.axvline(color='black')\n",
        "    plt.axhline(color='black')\n",
        "    plt.plot(x, slope*x + intercept, color='blue')\n",
        "    plt.grid()\n",
        "    plt.show()"
      ],
      "metadata": {
        "id": "uACTf7DbqvAi"
      },
      "execution_count": 29,
      "outputs": []
    },
    {
      "cell_type": "code",
      "source": [
        "interactive_plot = interactive(linear_func, slope=(-10.00, 10.00), intercept=(-5.00, 5.00))\n",
        "output = interactive_plot.children[-1]\n",
        "interactive_plot"
      ],
      "metadata": {
        "colab": {
          "base_uri": "https://localhost:8080/",
          "height": 333,
          "referenced_widgets": [
            "5dd9055c71f2421b87c0f1d7efb78865",
            "0df0b0ea8c5a41bca4ef24ec0affae29",
            "428139cb446f4a52a597cc046b2aa3ea",
            "476dbfc578f943adadeaee6eb783b85b",
            "fba7981fe7444403bce886840259923c",
            "d9762dc8afc241d7b753aca2552db92b",
            "02055f808aba46f481dc0edd5d985013",
            "6c3925f799314c19b9fb769723df35f2",
            "41057eaeebb848fb99a537449205da3d",
            "0022234e3a6b4e9ea288c067fe736fc9"
          ]
        },
        "id": "lkpmHz-vrVML",
        "outputId": "9a8b4c07-0838-40bd-d3ab-c5debce3a02e"
      },
      "execution_count": 30,
      "outputs": [
        {
          "output_type": "display_data",
          "data": {
            "text/plain": [
              "interactive(children=(FloatSlider(value=0.0, description='slope', max=10.0, min=-10.0), FloatSlider(value=0.0,…"
            ],
            "application/vnd.jupyter.widget-view+json": {
              "version_major": 2,
              "version_minor": 0,
              "model_id": "5dd9055c71f2421b87c0f1d7efb78865"
            }
          },
          "metadata": {
            "application/vnd.jupyter.widget-view+json": {
              "colab": {
                "custom_widget_manager": {
                  "url": "https://ssl.gstatic.com/colaboratory-static/widgets/colab-cdn-widget-manager/a8874ba6619b6106/manager.min.js"
                }
              }
            }
          }
        }
      ]
    },
    {
      "cell_type": "markdown",
      "source": [
        "## Quadratic Equations\n",
        "\n",
        "Lets try to generate something for quadratic equations of the format\n",
        "\n",
        "$ y = ax^2 + bx + c$ "
      ],
      "metadata": {
        "id": "fmo7MalPtEgu"
      }
    },
    {
      "cell_type": "code",
      "source": [
        "def quadratic_function(a,b,c):\n",
        "    x=np.linspace(-100,100, num=1000)\n",
        "    y = a**x + b*x + c\n",
        "    plt.figure()\n",
        "    plt.ylim(-100, 100)\n",
        "    plt.axvline(color='black')\n",
        "    plt.axhline(color='black')\n",
        "    plt.plot(x, y, color='blue')\n",
        "    plt.grid()\n",
        "    plt.show()"
      ],
      "metadata": {
        "id": "M4ACjDortDvu"
      },
      "execution_count": 39,
      "outputs": []
    },
    {
      "cell_type": "code",
      "source": [
        "interactive_plot = interactive(quadratic_function, a=(-10.00, 10.00), b=(-10.00, 10.00), c=(-10.00, 10.00))\n",
        "output = interactive_plot.children[-1]\n",
        "interactive_plot"
      ],
      "metadata": {
        "colab": {
          "base_uri": "https://localhost:8080/",
          "height": 401,
          "referenced_widgets": [
            "c4cfb1d86b074f06b0b9d6b45995f5e6",
            "376bd5cbcd94498b85f1ebd52758c14c",
            "3faa192841eb4df183b525e8c77c154e",
            "ed5812dbfbe2412cbe0d20fa7056675c",
            "a96c6c2c83244064b74f5576e26a7040",
            "5ebf1133b55d4445b4f233c0c727b076",
            "700f6ffd1efb4e7d82b59a8838ba9f93",
            "20cc8dd9438b48ce88dc904852ba31f7",
            "d2514bc36b854bc4ba28b6e170bf05c6",
            "5b6fdd3c70e84519b409a4680ae9d79f",
            "38161f72aeb241488f45f6544687e689",
            "7f43cf7d2b75454cb0e9a77041ec4acc",
            "f5fd3998d1a04126918613181e429512"
          ]
        },
        "id": "7Gu_fqVtuXj9",
        "outputId": "02e9e18c-9562-4f8e-c238-73a40d55d2ec"
      },
      "execution_count": 41,
      "outputs": [
        {
          "output_type": "display_data",
          "data": {
            "text/plain": [
              "interactive(children=(FloatSlider(value=0.0, description='a', max=10.0, min=-10.0), FloatSlider(value=0.0, des…"
            ],
            "application/vnd.jupyter.widget-view+json": {
              "version_major": 2,
              "version_minor": 0,
              "model_id": "c4cfb1d86b074f06b0b9d6b45995f5e6"
            }
          },
          "metadata": {
            "application/vnd.jupyter.widget-view+json": {
              "colab": {
                "custom_widget_manager": {
                  "url": "https://ssl.gstatic.com/colaboratory-static/widgets/colab-cdn-widget-manager/a8874ba6619b6106/manager.min.js"
                }
              }
            }
          }
        }
      ]
    }
  ]
}