{
  "nbformat": 4,
  "nbformat_minor": 0,
  "metadata": {
    "colab": {
      "name": "PySparkIntro.ipynb",
      "provenance": [],
      "authorship_tag": "ABX9TyM3IRZthhosK8u4rU85aIon",
      "include_colab_link": true
    },
    "kernelspec": {
      "name": "python3",
      "display_name": "Python 3"
    },
    "language_info": {
      "name": "python"
    }
  },
  "cells": [
    {
      "cell_type": "markdown",
      "metadata": {
        "id": "view-in-github",
        "colab_type": "text"
      },
      "source": [
        "<a href=\"https://colab.research.google.com/github/keshavvprabhu/python-tutorials/blob/main/PySparkIntro.ipynb\" target=\"_parent\"><img src=\"https://colab.research.google.com/assets/colab-badge.svg\" alt=\"Open In Colab\"/></a>"
      ]
    },
    {
      "cell_type": "markdown",
      "metadata": {
        "id": "3kXUSZPPuZFV"
      },
      "source": [
        "# PySpark Introduction"
      ]
    },
    {
      "cell_type": "markdown",
      "metadata": {
        "id": "4U5tUruaudG-"
      },
      "source": [
        "## Installing PySpark"
      ]
    },
    {
      "cell_type": "code",
      "metadata": {
        "colab": {
          "base_uri": "https://localhost:8080/"
        },
        "id": "QW7iv3Lqt5mC",
        "outputId": "dcb37438-4d3b-4796-9f8f-a8778c19f82c"
      },
      "source": [
        "!pip install pyspark"
      ],
      "execution_count": null,
      "outputs": [
        {
          "output_type": "stream",
          "name": "stdout",
          "text": [
            "Collecting pyspark\n",
            "  Downloading pyspark-3.2.0.tar.gz (281.3 MB)\n",
            "\u001b[K     |████████████████████████████████| 281.3 MB 30 kB/s \n",
            "\u001b[?25hCollecting py4j==0.10.9.2\n",
            "  Downloading py4j-0.10.9.2-py2.py3-none-any.whl (198 kB)\n",
            "\u001b[K     |████████████████████████████████| 198 kB 11.8 MB/s \n",
            "\u001b[?25hBuilding wheels for collected packages: pyspark\n",
            "  Building wheel for pyspark (setup.py) ... \u001b[?25l\u001b[?25hdone\n",
            "  Created wheel for pyspark: filename=pyspark-3.2.0-py2.py3-none-any.whl size=281805912 sha256=51ad3aae307f83157b489db355143a49c1cc090e6ece844303cd26285667c2b6\n",
            "  Stored in directory: /root/.cache/pip/wheels/0b/de/d2/9be5d59d7331c6c2a7c1b6d1a4f463ce107332b1ecd4e80718\n",
            "Successfully built pyspark\n",
            "Installing collected packages: py4j, pyspark\n",
            "Successfully installed py4j-0.10.9.2 pyspark-3.2.0\n"
          ]
        }
      ]
    },
    {
      "cell_type": "code",
      "metadata": {
        "id": "O2LQE7N_uYk8"
      },
      "source": [
        "from pyspark.sql import SparkSession"
      ],
      "execution_count": null,
      "outputs": []
    },
    {
      "cell_type": "code",
      "metadata": {
        "id": "k9MehCvAu9Zx"
      },
      "source": [
        "spark=SparkSession.builder.appName('Exercise1').getOrCreate()"
      ],
      "execution_count": null,
      "outputs": []
    },
    {
      "cell_type": "code",
      "metadata": {
        "colab": {
          "base_uri": "https://localhost:8080/",
          "height": 221
        },
        "id": "vskivUYtvJnb",
        "outputId": "32384a7e-5546-4dab-fce6-73e7e6cbdced"
      },
      "source": [
        "spark"
      ],
      "execution_count": null,
      "outputs": [
        {
          "output_type": "execute_result",
          "data": {
            "text/html": [
              "\n",
              "            <div>\n",
              "                <p><b>SparkSession - in-memory</b></p>\n",
              "                \n",
              "        <div>\n",
              "            <p><b>SparkContext</b></p>\n",
              "\n",
              "            <p><a href=\"http://5be3e9499302:4040\">Spark UI</a></p>\n",
              "\n",
              "            <dl>\n",
              "              <dt>Version</dt>\n",
              "                <dd><code>v3.2.0</code></dd>\n",
              "              <dt>Master</dt>\n",
              "                <dd><code>local[*]</code></dd>\n",
              "              <dt>AppName</dt>\n",
              "                <dd><code>Exercise1</code></dd>\n",
              "            </dl>\n",
              "        </div>\n",
              "        \n",
              "            </div>\n",
              "        "
            ],
            "text/plain": [
              "<pyspark.sql.session.SparkSession at 0x7fa8cc4c1d50>"
            ]
          },
          "metadata": {},
          "execution_count": 6
        }
      ]
    },
    {
      "cell_type": "code",
      "metadata": {
        "id": "Q_t_NhVyvNf4"
      },
      "source": [
        "df = spark.read.option(\"Header\", \"True\").csv(\"Social_Network_Ads.csv\", inferSchema=True)"
      ],
      "execution_count": null,
      "outputs": []
    },
    {
      "cell_type": "code",
      "metadata": {
        "colab": {
          "base_uri": "https://localhost:8080/"
        },
        "id": "1pXaQfN2vfQB",
        "outputId": "2e14d8b7-9be4-4fb3-9051-dcf610051df7"
      },
      "source": [
        "df"
      ],
      "execution_count": null,
      "outputs": [
        {
          "output_type": "execute_result",
          "data": {
            "text/plain": [
              "DataFrame[Age: int, EstimatedSalary: int, Purchased: int]"
            ]
          },
          "metadata": {},
          "execution_count": 22
        }
      ]
    },
    {
      "cell_type": "code",
      "metadata": {
        "colab": {
          "base_uri": "https://localhost:8080/"
        },
        "id": "JI8nOrY0vp2I",
        "outputId": "fd5c9d8f-ad28-475e-dab1-ba61bf79619d"
      },
      "source": [
        "df.show()"
      ],
      "execution_count": null,
      "outputs": [
        {
          "output_type": "stream",
          "name": "stdout",
          "text": [
            "+---+---------------+---------+\n",
            "|Age|EstimatedSalary|Purchased|\n",
            "+---+---------------+---------+\n",
            "| 19|          19000|        0|\n",
            "| 35|          20000|        0|\n",
            "| 26|          43000|        0|\n",
            "| 27|          57000|        0|\n",
            "| 19|          76000|        0|\n",
            "| 27|          58000|        0|\n",
            "| 27|          84000|        0|\n",
            "| 32|         150000|        1|\n",
            "| 25|          33000|        0|\n",
            "| 35|          65000|        0|\n",
            "| 26|          80000|        0|\n",
            "| 26|          52000|        0|\n",
            "| 20|          86000|        0|\n",
            "| 32|          18000|        0|\n",
            "| 18|          82000|        0|\n",
            "| 29|          80000|        0|\n",
            "| 47|          25000|        1|\n",
            "| 45|          26000|        1|\n",
            "| 46|          28000|        1|\n",
            "| 48|          29000|        1|\n",
            "+---+---------------+---------+\n",
            "only showing top 20 rows\n",
            "\n"
          ]
        }
      ]
    },
    {
      "cell_type": "code",
      "metadata": {
        "colab": {
          "base_uri": "https://localhost:8080/"
        },
        "id": "mzTAAkM7v4gD",
        "outputId": "34cd46ca-736c-4bc3-81a9-ffa0064c2345"
      },
      "source": [
        "type(df)"
      ],
      "execution_count": null,
      "outputs": [
        {
          "output_type": "execute_result",
          "data": {
            "text/plain": [
              "pyspark.sql.dataframe.DataFrame"
            ]
          },
          "metadata": {},
          "execution_count": 16
        }
      ]
    },
    {
      "cell_type": "code",
      "metadata": {
        "colab": {
          "base_uri": "https://localhost:8080/"
        },
        "id": "TMRLGISZv9Tv",
        "outputId": "6bb1cb75-9e33-45f1-f305-a97ceb288302"
      },
      "source": [
        "df.head(3)"
      ],
      "execution_count": null,
      "outputs": [
        {
          "output_type": "execute_result",
          "data": {
            "text/plain": [
              "[Row(Age=19, EstimatedSalary=19000, Purchased=0),\n",
              " Row(Age=35, EstimatedSalary=20000, Purchased=0),\n",
              " Row(Age=26, EstimatedSalary=43000, Purchased=0)]"
            ]
          },
          "metadata": {},
          "execution_count": 24
        }
      ]
    },
    {
      "cell_type": "markdown",
      "metadata": {
        "id": "lxlX7yLIwJTg"
      },
      "source": [
        "## Part 1\n",
        "\n",
        "In this section we will do the following:\n",
        "\n",
        "\n",
        "*   Reading a dataset\n",
        "*   Checking the datatypes of the column(Schema)\n",
        "*   Seleting Columns and Indexing\n",
        "*   Check Describe option (Similar to Pandas)\n",
        "*   Adding Columns\n",
        "*   Dropping Columns\n",
        "\n"
      ]
    },
    {
      "cell_type": "markdown",
      "metadata": {
        "id": "pbRK1_j4w8LU"
      },
      "source": [
        "## Checking the datatypes schema"
      ]
    },
    {
      "cell_type": "code",
      "metadata": {
        "colab": {
          "base_uri": "https://localhost:8080/"
        },
        "id": "A4kaJYZ3w7L_",
        "outputId": "de86d001-2743-4991-be1d-5c78ed793af9"
      },
      "source": [
        "df.printSchema()"
      ],
      "execution_count": null,
      "outputs": [
        {
          "output_type": "stream",
          "name": "stdout",
          "text": [
            "root\n",
            " |-- Age: integer (nullable = true)\n",
            " |-- EstimatedSalary: integer (nullable = true)\n",
            " |-- Purchased: integer (nullable = true)\n",
            "\n"
          ]
        }
      ]
    },
    {
      "cell_type": "code",
      "metadata": {
        "colab": {
          "base_uri": "https://localhost:8080/"
        },
        "id": "MjFTvRXJwhcw",
        "outputId": "e8b74f60-ca07-4b9a-c882-efb7ff86d10c"
      },
      "source": [
        "df.columns"
      ],
      "execution_count": null,
      "outputs": [
        {
          "output_type": "execute_result",
          "data": {
            "text/plain": [
              "['Age', 'EstimatedSalary', 'Purchased']"
            ]
          },
          "metadata": {},
          "execution_count": 28
        }
      ]
    },
    {
      "cell_type": "code",
      "metadata": {
        "colab": {
          "base_uri": "https://localhost:8080/"
        },
        "id": "M5YZz8t9xpvO",
        "outputId": "b1c3df5e-d8b8-494e-e527-0a96b63343cf"
      },
      "source": [
        "df.head(3)"
      ],
      "execution_count": null,
      "outputs": [
        {
          "output_type": "execute_result",
          "data": {
            "text/plain": [
              "[Row(Age=19, EstimatedSalary=19000, Purchased=0),\n",
              " Row(Age=35, EstimatedSalary=20000, Purchased=0),\n",
              " Row(Age=26, EstimatedSalary=43000, Purchased=0)]"
            ]
          },
          "metadata": {},
          "execution_count": 29
        }
      ]
    },
    {
      "cell_type": "code",
      "metadata": {
        "id": "TYI3qEAIx6Wu"
      },
      "source": [
        "## Selecting columns from dataframe"
      ],
      "execution_count": null,
      "outputs": []
    },
    {
      "cell_type": "code",
      "metadata": {
        "colab": {
          "base_uri": "https://localhost:8080/"
        },
        "id": "TfWdEFb5xtQZ",
        "outputId": "68607197-19cb-4323-af20-bc938d655a2c"
      },
      "source": [
        "df.select('Age', 'EstimatedSalary').show()"
      ],
      "execution_count": null,
      "outputs": [
        {
          "output_type": "stream",
          "name": "stdout",
          "text": [
            "+---+---------------+\n",
            "|Age|EstimatedSalary|\n",
            "+---+---------------+\n",
            "| 19|          19000|\n",
            "| 35|          20000|\n",
            "| 26|          43000|\n",
            "| 27|          57000|\n",
            "| 19|          76000|\n",
            "| 27|          58000|\n",
            "| 27|          84000|\n",
            "| 32|         150000|\n",
            "| 25|          33000|\n",
            "| 35|          65000|\n",
            "| 26|          80000|\n",
            "| 26|          52000|\n",
            "| 20|          86000|\n",
            "| 32|          18000|\n",
            "| 18|          82000|\n",
            "| 29|          80000|\n",
            "| 47|          25000|\n",
            "| 45|          26000|\n",
            "| 46|          28000|\n",
            "| 48|          29000|\n",
            "+---+---------------+\n",
            "only showing top 20 rows\n",
            "\n"
          ]
        }
      ]
    },
    {
      "cell_type": "code",
      "metadata": {
        "colab": {
          "base_uri": "https://localhost:8080/"
        },
        "id": "-WUihB5KyG6v",
        "outputId": "98b8c022-4fb9-4340-c4d9-e7a10deba370"
      },
      "source": [
        "df.dtypes"
      ],
      "execution_count": null,
      "outputs": [
        {
          "output_type": "execute_result",
          "data": {
            "text/plain": [
              "[('Age', 'int'), ('EstimatedSalary', 'int'), ('Purchased', 'int')]"
            ]
          },
          "metadata": {},
          "execution_count": 32
        }
      ]
    },
    {
      "cell_type": "code",
      "metadata": {
        "colab": {
          "base_uri": "https://localhost:8080/"
        },
        "id": "F7fl4byqyLJv",
        "outputId": "e0a7f73f-2e09-42b8-e533-6b4c30b07cbb"
      },
      "source": [
        "df.describe().show()"
      ],
      "execution_count": null,
      "outputs": [
        {
          "output_type": "stream",
          "name": "stdout",
          "text": [
            "+-------+------------------+----------------+------------------+\n",
            "|summary|               Age| EstimatedSalary|         Purchased|\n",
            "+-------+------------------+----------------+------------------+\n",
            "|  count|               400|             400|               400|\n",
            "|   mean|            37.655|         69742.5|            0.3575|\n",
            "| stddev|10.482876597307927|34096.9602824248|0.4798639635968691|\n",
            "|    min|                18|           15000|                 0|\n",
            "|    max|                60|          150000|                 1|\n",
            "+-------+------------------+----------------+------------------+\n",
            "\n"
          ]
        }
      ]
    },
    {
      "cell_type": "code",
      "metadata": {
        "id": "a7apDWNZyQ3P"
      },
      "source": [
        "## Adding columns\n",
        "new_df = df.withColumn('Age after 2 years', df['Age']+2)"
      ],
      "execution_count": null,
      "outputs": []
    },
    {
      "cell_type": "code",
      "metadata": {
        "colab": {
          "base_uri": "https://localhost:8080/"
        },
        "id": "wAhJKtNOymHS",
        "outputId": "8af9fca3-ebcf-42c5-d1f9-e02601fcf51f"
      },
      "source": [
        "new_df.show()"
      ],
      "execution_count": null,
      "outputs": [
        {
          "output_type": "stream",
          "name": "stdout",
          "text": [
            "+---+---------------+---------+-----------------+\n",
            "|Age|EstimatedSalary|Purchased|Age after 2 years|\n",
            "+---+---------------+---------+-----------------+\n",
            "| 19|          19000|        0|               21|\n",
            "| 35|          20000|        0|               37|\n",
            "| 26|          43000|        0|               28|\n",
            "| 27|          57000|        0|               29|\n",
            "| 19|          76000|        0|               21|\n",
            "| 27|          58000|        0|               29|\n",
            "| 27|          84000|        0|               29|\n",
            "| 32|         150000|        1|               34|\n",
            "| 25|          33000|        0|               27|\n",
            "| 35|          65000|        0|               37|\n",
            "| 26|          80000|        0|               28|\n",
            "| 26|          52000|        0|               28|\n",
            "| 20|          86000|        0|               22|\n",
            "| 32|          18000|        0|               34|\n",
            "| 18|          82000|        0|               20|\n",
            "| 29|          80000|        0|               31|\n",
            "| 47|          25000|        1|               49|\n",
            "| 45|          26000|        1|               47|\n",
            "| 46|          28000|        1|               48|\n",
            "| 48|          29000|        1|               50|\n",
            "+---+---------------+---------+-----------------+\n",
            "only showing top 20 rows\n",
            "\n"
          ]
        }
      ]
    },
    {
      "cell_type": "code",
      "metadata": {
        "id": "BCnQp9QhyuVG"
      },
      "source": [
        "new_df = new_df.withColumnRenamed('Age after 2 years', 'Age+2yrs')"
      ],
      "execution_count": null,
      "outputs": []
    },
    {
      "cell_type": "code",
      "metadata": {
        "colab": {
          "base_uri": "https://localhost:8080/"
        },
        "id": "MjAorbhOy7kW",
        "outputId": "3d5e247b-43a7-4a49-9660-e885a98d3a85"
      },
      "source": [
        "new_df.show()"
      ],
      "execution_count": null,
      "outputs": [
        {
          "output_type": "stream",
          "name": "stdout",
          "text": [
            "+---+---------------+---------+--------+\n",
            "|Age|EstimatedSalary|Purchased|Age+2yrs|\n",
            "+---+---------------+---------+--------+\n",
            "| 19|          19000|        0|      21|\n",
            "| 35|          20000|        0|      37|\n",
            "| 26|          43000|        0|      28|\n",
            "| 27|          57000|        0|      29|\n",
            "| 19|          76000|        0|      21|\n",
            "| 27|          58000|        0|      29|\n",
            "| 27|          84000|        0|      29|\n",
            "| 32|         150000|        1|      34|\n",
            "| 25|          33000|        0|      27|\n",
            "| 35|          65000|        0|      37|\n",
            "| 26|          80000|        0|      28|\n",
            "| 26|          52000|        0|      28|\n",
            "| 20|          86000|        0|      22|\n",
            "| 32|          18000|        0|      34|\n",
            "| 18|          82000|        0|      20|\n",
            "| 29|          80000|        0|      31|\n",
            "| 47|          25000|        1|      49|\n",
            "| 45|          26000|        1|      47|\n",
            "| 46|          28000|        1|      48|\n",
            "| 48|          29000|        1|      50|\n",
            "+---+---------------+---------+--------+\n",
            "only showing top 20 rows\n",
            "\n"
          ]
        }
      ]
    },
    {
      "cell_type": "code",
      "metadata": {
        "id": "jBRSH3B5zInO"
      },
      "source": [
        "new_df = new_df.drop(\"Age+2yrs\")"
      ],
      "execution_count": null,
      "outputs": []
    },
    {
      "cell_type": "code",
      "metadata": {
        "colab": {
          "base_uri": "https://localhost:8080/"
        },
        "id": "68Eapg39zYHI",
        "outputId": "eed13ddb-b5cd-428c-e7a3-832dd3b5f348"
      },
      "source": [
        "new_df.show()"
      ],
      "execution_count": null,
      "outputs": [
        {
          "output_type": "stream",
          "name": "stdout",
          "text": [
            "+---+---------------+---------+\n",
            "|Age|EstimatedSalary|Purchased|\n",
            "+---+---------------+---------+\n",
            "| 19|          19000|        0|\n",
            "| 35|          20000|        0|\n",
            "| 26|          43000|        0|\n",
            "| 27|          57000|        0|\n",
            "| 19|          76000|        0|\n",
            "| 27|          58000|        0|\n",
            "| 27|          84000|        0|\n",
            "| 32|         150000|        1|\n",
            "| 25|          33000|        0|\n",
            "| 35|          65000|        0|\n",
            "| 26|          80000|        0|\n",
            "| 26|          52000|        0|\n",
            "| 20|          86000|        0|\n",
            "| 32|          18000|        0|\n",
            "| 18|          82000|        0|\n",
            "| 29|          80000|        0|\n",
            "| 47|          25000|        1|\n",
            "| 45|          26000|        1|\n",
            "| 46|          28000|        1|\n",
            "| 48|          29000|        1|\n",
            "+---+---------------+---------+\n",
            "only showing top 20 rows\n",
            "\n"
          ]
        }
      ]
    },
    {
      "cell_type": "code",
      "metadata": {
        "colab": {
          "base_uri": "https://localhost:8080/"
        },
        "id": "__H5nMimzcqz",
        "outputId": "ae7208cc-ed9b-4022-e070-418ffc575389"
      },
      "source": [
        "df.na.drop().show()"
      ],
      "execution_count": null,
      "outputs": [
        {
          "output_type": "stream",
          "name": "stdout",
          "text": [
            "+---+---------------+---------+\n",
            "|Age|EstimatedSalary|Purchased|\n",
            "+---+---------------+---------+\n",
            "| 19|          19000|        0|\n",
            "| 35|          20000|        0|\n",
            "| 26|          43000|        0|\n",
            "| 27|          57000|        0|\n",
            "| 19|          76000|        0|\n",
            "| 27|          58000|        0|\n",
            "| 27|          84000|        0|\n",
            "| 32|         150000|        1|\n",
            "| 25|          33000|        0|\n",
            "| 35|          65000|        0|\n",
            "| 26|          80000|        0|\n",
            "| 26|          52000|        0|\n",
            "| 20|          86000|        0|\n",
            "| 32|          18000|        0|\n",
            "| 18|          82000|        0|\n",
            "| 29|          80000|        0|\n",
            "| 47|          25000|        1|\n",
            "| 45|          26000|        1|\n",
            "| 46|          28000|        1|\n",
            "| 48|          29000|        1|\n",
            "+---+---------------+---------+\n",
            "only showing top 20 rows\n",
            "\n"
          ]
        }
      ]
    },
    {
      "cell_type": "code",
      "metadata": {
        "colab": {
          "base_uri": "https://localhost:8080/"
        },
        "id": "VuTbOCb6zme4",
        "outputId": "1d199678-98aa-4ed8-b6f5-55e2fa990de4"
      },
      "source": [
        "df.na.drop(how=\"any\", thresh=2).show()"
      ],
      "execution_count": null,
      "outputs": [
        {
          "output_type": "stream",
          "name": "stdout",
          "text": [
            "+---+---------------+---------+\n",
            "|Age|EstimatedSalary|Purchased|\n",
            "+---+---------------+---------+\n",
            "| 19|          19000|        0|\n",
            "| 35|          20000|        0|\n",
            "| 26|          43000|        0|\n",
            "| 27|          57000|        0|\n",
            "| 19|          76000|        0|\n",
            "| 27|          58000|        0|\n",
            "| 27|          84000|        0|\n",
            "| 32|         150000|        1|\n",
            "| 25|          33000|        0|\n",
            "| 35|          65000|        0|\n",
            "| 26|          80000|        0|\n",
            "| 26|          52000|        0|\n",
            "| 20|          86000|        0|\n",
            "| 32|          18000|        0|\n",
            "| 18|          82000|        0|\n",
            "| 29|          80000|        0|\n",
            "| 47|          25000|        1|\n",
            "| 45|          26000|        1|\n",
            "| 46|          28000|        1|\n",
            "| 48|          29000|        1|\n",
            "+---+---------------+---------+\n",
            "only showing top 20 rows\n",
            "\n"
          ]
        }
      ]
    }
  ]
}