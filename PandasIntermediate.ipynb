{
  "nbformat": 4,
  "nbformat_minor": 0,
  "metadata": {
    "colab": {
      "name": "PandasIntermediate.ipynb",
      "provenance": [],
      "authorship_tag": "ABX9TyNgCVYOFcTY9ErTttC/k7NJ",
      "include_colab_link": true
    },
    "kernelspec": {
      "name": "python3",
      "display_name": "Python 3"
    },
    "language_info": {
      "name": "python"
    }
  },
  "cells": [
    {
      "cell_type": "markdown",
      "metadata": {
        "id": "view-in-github",
        "colab_type": "text"
      },
      "source": [
        "<a href=\"https://colab.research.google.com/github/keshavvprabhu/python-tutorials/blob/main/PandasIntermediate.ipynb\" target=\"_parent\"><img src=\"https://colab.research.google.com/assets/colab-badge.svg\" alt=\"Open In Colab\"/></a>"
      ]
    },
    {
      "cell_type": "code",
      "execution_count": 99,
      "metadata": {
        "id": "KhUTE7eYCVZp"
      },
      "outputs": [],
      "source": [
        "import pandas as pd\n",
        "import numpy as np\n",
        "import matplotlib.pyplot as plt\n",
        "%matplotlib inline"
      ]
    },
    {
      "cell_type": "code",
      "source": [
        "pd.__version__"
      ],
      "metadata": {
        "colab": {
          "base_uri": "https://localhost:8080/",
          "height": 36
        },
        "id": "2rBBIKggDNMj",
        "outputId": "dbe1a7bc-e9bc-4a85-b51d-90af3398a003"
      },
      "execution_count": 100,
      "outputs": [
        {
          "output_type": "execute_result",
          "data": {
            "text/plain": [
              "'1.3.5'"
            ],
            "application/vnd.google.colaboratory.intrinsic+json": {
              "type": "string"
            }
          },
          "metadata": {},
          "execution_count": 100
        }
      ]
    },
    {
      "cell_type": "code",
      "source": [
        "df = pd.read_csv('ted.csv')"
      ],
      "metadata": {
        "id": "zL18T23ACg-3"
      },
      "execution_count": 101,
      "outputs": []
    },
    {
      "cell_type": "code",
      "source": [
        "df.shape"
      ],
      "metadata": {
        "colab": {
          "base_uri": "https://localhost:8080/"
        },
        "id": "dIyqZ4vXDJ1i",
        "outputId": "d08623f2-fd3e-4897-cd0a-411058db8531"
      },
      "execution_count": 102,
      "outputs": [
        {
          "output_type": "execute_result",
          "data": {
            "text/plain": [
              "(2550, 17)"
            ]
          },
          "metadata": {},
          "execution_count": 102
        }
      ]
    },
    {
      "cell_type": "code",
      "source": [
        "df.info()"
      ],
      "metadata": {
        "colab": {
          "base_uri": "https://localhost:8080/"
        },
        "id": "-0P2qgoVDDDV",
        "outputId": "fc8c860c-fa55-4379-dc0c-131b67cc80b2"
      },
      "execution_count": 103,
      "outputs": [
        {
          "output_type": "stream",
          "name": "stdout",
          "text": [
            "<class 'pandas.core.frame.DataFrame'>\n",
            "RangeIndex: 2550 entries, 0 to 2549\n",
            "Data columns (total 17 columns):\n",
            " #   Column              Non-Null Count  Dtype \n",
            "---  ------              --------------  ----- \n",
            " 0   comments            2550 non-null   int64 \n",
            " 1   description         2550 non-null   object\n",
            " 2   duration            2550 non-null   int64 \n",
            " 3   event               2550 non-null   object\n",
            " 4   film_date           2550 non-null   int64 \n",
            " 5   languages           2550 non-null   int64 \n",
            " 6   main_speaker        2550 non-null   object\n",
            " 7   name                2550 non-null   object\n",
            " 8   num_speaker         2550 non-null   int64 \n",
            " 9   published_date      2550 non-null   int64 \n",
            " 10  ratings             2550 non-null   object\n",
            " 11  related_talks       2550 non-null   object\n",
            " 12  speaker_occupation  2544 non-null   object\n",
            " 13  tags                2550 non-null   object\n",
            " 14  title               2550 non-null   object\n",
            " 15  url                 2550 non-null   object\n",
            " 16  views               2550 non-null   int64 \n",
            "dtypes: int64(7), object(10)\n",
            "memory usage: 338.8+ KB\n"
          ]
        }
      ]
    },
    {
      "cell_type": "code",
      "source": [
        "df.dtypes"
      ],
      "metadata": {
        "colab": {
          "base_uri": "https://localhost:8080/"
        },
        "id": "-Wxb_Hl3DfoU",
        "outputId": "0dea1bdb-a83a-4301-da0f-e5674d9f8d1a"
      },
      "execution_count": 104,
      "outputs": [
        {
          "output_type": "execute_result",
          "data": {
            "text/plain": [
              "comments               int64\n",
              "description           object\n",
              "duration               int64\n",
              "event                 object\n",
              "film_date              int64\n",
              "languages              int64\n",
              "main_speaker          object\n",
              "name                  object\n",
              "num_speaker            int64\n",
              "published_date         int64\n",
              "ratings               object\n",
              "related_talks         object\n",
              "speaker_occupation    object\n",
              "tags                  object\n",
              "title                 object\n",
              "url                   object\n",
              "views                  int64\n",
              "dtype: object"
            ]
          },
          "metadata": {},
          "execution_count": 104
        }
      ]
    },
    {
      "cell_type": "code",
      "source": [
        "df.columns"
      ],
      "metadata": {
        "colab": {
          "base_uri": "https://localhost:8080/"
        },
        "id": "OZn0s0QtC808",
        "outputId": "b04a639f-2180-4640-9443-b8ea56d735fd"
      },
      "execution_count": 105,
      "outputs": [
        {
          "output_type": "execute_result",
          "data": {
            "text/plain": [
              "Index(['comments', 'description', 'duration', 'event', 'film_date',\n",
              "       'languages', 'main_speaker', 'name', 'num_speaker', 'published_date',\n",
              "       'ratings', 'related_talks', 'speaker_occupation', 'tags', 'title',\n",
              "       'url', 'views'],\n",
              "      dtype='object')"
            ]
          },
          "metadata": {},
          "execution_count": 105
        }
      ]
    },
    {
      "cell_type": "code",
      "source": [
        "df.describe()"
      ],
      "metadata": {
        "colab": {
          "base_uri": "https://localhost:8080/",
          "height": 300
        },
        "id": "kdtt78h6C_f4",
        "outputId": "dc069ea0-7152-42d0-8915-de379a9d38eb"
      },
      "execution_count": 106,
      "outputs": [
        {
          "output_type": "execute_result",
          "data": {
            "text/plain": [
              "          comments     duration     film_date    languages  num_speaker  \\\n",
              "count  2550.000000  2550.000000  2.550000e+03  2550.000000  2550.000000   \n",
              "mean    191.562353   826.510196  1.321928e+09    27.326275     1.028235   \n",
              "std     282.315223   374.009138  1.197391e+08     9.563452     0.207705   \n",
              "min       2.000000   135.000000  7.464960e+07     0.000000     1.000000   \n",
              "25%      63.000000   577.000000  1.257466e+09    23.000000     1.000000   \n",
              "50%     118.000000   848.000000  1.333238e+09    28.000000     1.000000   \n",
              "75%     221.750000  1046.750000  1.412964e+09    33.000000     1.000000   \n",
              "max    6404.000000  5256.000000  1.503792e+09    72.000000     5.000000   \n",
              "\n",
              "       published_date         views  \n",
              "count    2.550000e+03  2.550000e+03  \n",
              "mean     1.343525e+09  1.698297e+06  \n",
              "std      9.464009e+07  2.498479e+06  \n",
              "min      1.151367e+09  5.044300e+04  \n",
              "25%      1.268463e+09  7.557928e+05  \n",
              "50%      1.340935e+09  1.124524e+06  \n",
              "75%      1.423432e+09  1.700760e+06  \n",
              "max      1.506092e+09  4.722711e+07  "
            ],
            "text/html": [
              "\n",
              "  <div id=\"df-4f1526fd-d7fe-4333-a705-9c08020c8e31\">\n",
              "    <div class=\"colab-df-container\">\n",
              "      <div>\n",
              "<style scoped>\n",
              "    .dataframe tbody tr th:only-of-type {\n",
              "        vertical-align: middle;\n",
              "    }\n",
              "\n",
              "    .dataframe tbody tr th {\n",
              "        vertical-align: top;\n",
              "    }\n",
              "\n",
              "    .dataframe thead th {\n",
              "        text-align: right;\n",
              "    }\n",
              "</style>\n",
              "<table border=\"1\" class=\"dataframe\">\n",
              "  <thead>\n",
              "    <tr style=\"text-align: right;\">\n",
              "      <th></th>\n",
              "      <th>comments</th>\n",
              "      <th>duration</th>\n",
              "      <th>film_date</th>\n",
              "      <th>languages</th>\n",
              "      <th>num_speaker</th>\n",
              "      <th>published_date</th>\n",
              "      <th>views</th>\n",
              "    </tr>\n",
              "  </thead>\n",
              "  <tbody>\n",
              "    <tr>\n",
              "      <th>count</th>\n",
              "      <td>2550.000000</td>\n",
              "      <td>2550.000000</td>\n",
              "      <td>2.550000e+03</td>\n",
              "      <td>2550.000000</td>\n",
              "      <td>2550.000000</td>\n",
              "      <td>2.550000e+03</td>\n",
              "      <td>2.550000e+03</td>\n",
              "    </tr>\n",
              "    <tr>\n",
              "      <th>mean</th>\n",
              "      <td>191.562353</td>\n",
              "      <td>826.510196</td>\n",
              "      <td>1.321928e+09</td>\n",
              "      <td>27.326275</td>\n",
              "      <td>1.028235</td>\n",
              "      <td>1.343525e+09</td>\n",
              "      <td>1.698297e+06</td>\n",
              "    </tr>\n",
              "    <tr>\n",
              "      <th>std</th>\n",
              "      <td>282.315223</td>\n",
              "      <td>374.009138</td>\n",
              "      <td>1.197391e+08</td>\n",
              "      <td>9.563452</td>\n",
              "      <td>0.207705</td>\n",
              "      <td>9.464009e+07</td>\n",
              "      <td>2.498479e+06</td>\n",
              "    </tr>\n",
              "    <tr>\n",
              "      <th>min</th>\n",
              "      <td>2.000000</td>\n",
              "      <td>135.000000</td>\n",
              "      <td>7.464960e+07</td>\n",
              "      <td>0.000000</td>\n",
              "      <td>1.000000</td>\n",
              "      <td>1.151367e+09</td>\n",
              "      <td>5.044300e+04</td>\n",
              "    </tr>\n",
              "    <tr>\n",
              "      <th>25%</th>\n",
              "      <td>63.000000</td>\n",
              "      <td>577.000000</td>\n",
              "      <td>1.257466e+09</td>\n",
              "      <td>23.000000</td>\n",
              "      <td>1.000000</td>\n",
              "      <td>1.268463e+09</td>\n",
              "      <td>7.557928e+05</td>\n",
              "    </tr>\n",
              "    <tr>\n",
              "      <th>50%</th>\n",
              "      <td>118.000000</td>\n",
              "      <td>848.000000</td>\n",
              "      <td>1.333238e+09</td>\n",
              "      <td>28.000000</td>\n",
              "      <td>1.000000</td>\n",
              "      <td>1.340935e+09</td>\n",
              "      <td>1.124524e+06</td>\n",
              "    </tr>\n",
              "    <tr>\n",
              "      <th>75%</th>\n",
              "      <td>221.750000</td>\n",
              "      <td>1046.750000</td>\n",
              "      <td>1.412964e+09</td>\n",
              "      <td>33.000000</td>\n",
              "      <td>1.000000</td>\n",
              "      <td>1.423432e+09</td>\n",
              "      <td>1.700760e+06</td>\n",
              "    </tr>\n",
              "    <tr>\n",
              "      <th>max</th>\n",
              "      <td>6404.000000</td>\n",
              "      <td>5256.000000</td>\n",
              "      <td>1.503792e+09</td>\n",
              "      <td>72.000000</td>\n",
              "      <td>5.000000</td>\n",
              "      <td>1.506092e+09</td>\n",
              "      <td>4.722711e+07</td>\n",
              "    </tr>\n",
              "  </tbody>\n",
              "</table>\n",
              "</div>\n",
              "      <button class=\"colab-df-convert\" onclick=\"convertToInteractive('df-4f1526fd-d7fe-4333-a705-9c08020c8e31')\"\n",
              "              title=\"Convert this dataframe to an interactive table.\"\n",
              "              style=\"display:none;\">\n",
              "        \n",
              "  <svg xmlns=\"http://www.w3.org/2000/svg\" height=\"24px\"viewBox=\"0 0 24 24\"\n",
              "       width=\"24px\">\n",
              "    <path d=\"M0 0h24v24H0V0z\" fill=\"none\"/>\n",
              "    <path d=\"M18.56 5.44l.94 2.06.94-2.06 2.06-.94-2.06-.94-.94-2.06-.94 2.06-2.06.94zm-11 1L8.5 8.5l.94-2.06 2.06-.94-2.06-.94L8.5 2.5l-.94 2.06-2.06.94zm10 10l.94 2.06.94-2.06 2.06-.94-2.06-.94-.94-2.06-.94 2.06-2.06.94z\"/><path d=\"M17.41 7.96l-1.37-1.37c-.4-.4-.92-.59-1.43-.59-.52 0-1.04.2-1.43.59L10.3 9.45l-7.72 7.72c-.78.78-.78 2.05 0 2.83L4 21.41c.39.39.9.59 1.41.59.51 0 1.02-.2 1.41-.59l7.78-7.78 2.81-2.81c.8-.78.8-2.07 0-2.86zM5.41 20L4 18.59l7.72-7.72 1.47 1.35L5.41 20z\"/>\n",
              "  </svg>\n",
              "      </button>\n",
              "      \n",
              "  <style>\n",
              "    .colab-df-container {\n",
              "      display:flex;\n",
              "      flex-wrap:wrap;\n",
              "      gap: 12px;\n",
              "    }\n",
              "\n",
              "    .colab-df-convert {\n",
              "      background-color: #E8F0FE;\n",
              "      border: none;\n",
              "      border-radius: 50%;\n",
              "      cursor: pointer;\n",
              "      display: none;\n",
              "      fill: #1967D2;\n",
              "      height: 32px;\n",
              "      padding: 0 0 0 0;\n",
              "      width: 32px;\n",
              "    }\n",
              "\n",
              "    .colab-df-convert:hover {\n",
              "      background-color: #E2EBFA;\n",
              "      box-shadow: 0px 1px 2px rgba(60, 64, 67, 0.3), 0px 1px 3px 1px rgba(60, 64, 67, 0.15);\n",
              "      fill: #174EA6;\n",
              "    }\n",
              "\n",
              "    [theme=dark] .colab-df-convert {\n",
              "      background-color: #3B4455;\n",
              "      fill: #D2E3FC;\n",
              "    }\n",
              "\n",
              "    [theme=dark] .colab-df-convert:hover {\n",
              "      background-color: #434B5C;\n",
              "      box-shadow: 0px 1px 3px 1px rgba(0, 0, 0, 0.15);\n",
              "      filter: drop-shadow(0px 1px 2px rgba(0, 0, 0, 0.3));\n",
              "      fill: #FFFFFF;\n",
              "    }\n",
              "  </style>\n",
              "\n",
              "      <script>\n",
              "        const buttonEl =\n",
              "          document.querySelector('#df-4f1526fd-d7fe-4333-a705-9c08020c8e31 button.colab-df-convert');\n",
              "        buttonEl.style.display =\n",
              "          google.colab.kernel.accessAllowed ? 'block' : 'none';\n",
              "\n",
              "        async function convertToInteractive(key) {\n",
              "          const element = document.querySelector('#df-4f1526fd-d7fe-4333-a705-9c08020c8e31');\n",
              "          const dataTable =\n",
              "            await google.colab.kernel.invokeFunction('convertToInteractive',\n",
              "                                                     [key], {});\n",
              "          if (!dataTable) return;\n",
              "\n",
              "          const docLinkHtml = 'Like what you see? Visit the ' +\n",
              "            '<a target=\"_blank\" href=https://colab.research.google.com/notebooks/data_table.ipynb>data table notebook</a>'\n",
              "            + ' to learn more about interactive tables.';\n",
              "          element.innerHTML = '';\n",
              "          dataTable['output_type'] = 'display_data';\n",
              "          await google.colab.output.renderOutput(dataTable, element);\n",
              "          const docLink = document.createElement('div');\n",
              "          docLink.innerHTML = docLinkHtml;\n",
              "          element.appendChild(docLink);\n",
              "        }\n",
              "      </script>\n",
              "    </div>\n",
              "  </div>\n",
              "  "
            ]
          },
          "metadata": {},
          "execution_count": 106
        }
      ]
    },
    {
      "cell_type": "code",
      "source": [
        "df.isna().sum()"
      ],
      "metadata": {
        "colab": {
          "base_uri": "https://localhost:8080/"
        },
        "id": "budYh_mPD0uT",
        "outputId": "46ab1516-4154-40d7-f5a3-7878477f30cf"
      },
      "execution_count": 107,
      "outputs": [
        {
          "output_type": "execute_result",
          "data": {
            "text/plain": [
              "comments              0\n",
              "description           0\n",
              "duration              0\n",
              "event                 0\n",
              "film_date             0\n",
              "languages             0\n",
              "main_speaker          0\n",
              "name                  0\n",
              "num_speaker           0\n",
              "published_date        0\n",
              "ratings               0\n",
              "related_talks         0\n",
              "speaker_occupation    6\n",
              "tags                  0\n",
              "title                 0\n",
              "url                   0\n",
              "views                 0\n",
              "dtype: int64"
            ]
          },
          "metadata": {},
          "execution_count": 107
        }
      ]
    },
    {
      "cell_type": "markdown",
      "source": [
        "Which talks provoke the most online discussion?"
      ],
      "metadata": {
        "id": "l4X-FSJUEJsh"
      }
    },
    {
      "cell_type": "code",
      "source": [
        "df.sort_values('comments', ascending=False)"
      ],
      "metadata": {
        "colab": {
          "base_uri": "https://localhost:8080/",
          "height": 1000
        },
        "id": "rTUhARkXEXe9",
        "outputId": "26ec4088-34cc-44f6-fc59-7e5e87c30133"
      },
      "execution_count": 108,
      "outputs": [
        {
          "output_type": "execute_result",
          "data": {
            "text/plain": [
              "      comments                                        description  duration  \\\n",
              "96        6404  Richard Dawkins urges all atheists to openly s...      1750   \n",
              "0         4553  Sir Ken Robinson makes an entertaining and pro...      1164   \n",
              "644       3356  Questions of good and evil, right and wrong ar...      1386   \n",
              "201       2877  Jill Bolte Taylor got a research opportunity f...      1099   \n",
              "1787      2673  Our consciousness is a fundamental aspect of o...      1117   \n",
              "...        ...                                                ...       ...   \n",
              "2407         5  Grammy-winning Silk Road Ensemble display thei...       389   \n",
              "2528         3  Digital archaeologist Chance Coughenour is usi...       717   \n",
              "2542         3  In the century-old statues that occupy Cape To...       795   \n",
              "2501         3  Meet Françoise Mouly, The New Yorker's art dir...       509   \n",
              "2534         2  What the astronauts felt when they saw Earth f...       725   \n",
              "\n",
              "               event   film_date  languages         main_speaker  \\\n",
              "96           TED2002  1012608000         42      Richard Dawkins   \n",
              "0            TED2006  1140825600         60         Ken Robinson   \n",
              "644          TED2010  1265846400         39           Sam Harris   \n",
              "201          TED2008  1204070400         49    Jill Bolte Taylor   \n",
              "1787         TED2014  1395100800         33       David Chalmers   \n",
              "...              ...         ...        ...                  ...   \n",
              "2407         TED2016  1455494400          0   Silk Road Ensemble   \n",
              "2528     TEDxHamburg  1465344000          5    Chance Coughenour   \n",
              "2542  TEDGlobal 2017  1503792000          1   Sethembile Msezane   \n",
              "2501          TEDNYC  1488931200         12      Françoise Mouly   \n",
              "2534       TEDxSkoll  1491523200          1       Benjamin Grant   \n",
              "\n",
              "                                                   name  num_speaker  \\\n",
              "96                    Richard Dawkins: Militant atheism            1   \n",
              "0             Ken Robinson: Do schools kill creativity?            1   \n",
              "644      Sam Harris: Science can answer moral questions            1   \n",
              "201             Jill Bolte Taylor: My stroke of insight            1   \n",
              "1787  David Chalmers: How do you explain consciousness?            1   \n",
              "...                                                 ...          ...   \n",
              "2407                    Silk Road Ensemble: \"Turceasca\"            1   \n",
              "2528  Chance Coughenour: How your pictures can help ...            1   \n",
              "2542  Sethembile Msezane: Living sculptures that sta...            1   \n",
              "2501  Françoise Mouly: The stories behind The New Yo...            1   \n",
              "2534  Benjamin Grant: What it feels like to see Eart...            1   \n",
              "\n",
              "      published_date                                            ratings  \\\n",
              "96        1176689220  [{'id': 3, 'name': 'Courageous', 'count': 3236...   \n",
              "0         1151367060  [{'id': 7, 'name': 'Funny', 'count': 19645}, {...   \n",
              "644       1269249180  [{'id': 8, 'name': 'Informative', 'count': 923...   \n",
              "201       1205284200  [{'id': 22, 'name': 'Fascinating', 'count': 14...   \n",
              "1787      1405350484  [{'id': 25, 'name': 'OK', 'count': 280}, {'id'...   \n",
              "...              ...                                                ...   \n",
              "2407      1489759215  [{'id': 1, 'name': 'Beautiful', 'count': 80}, ...   \n",
              "2528      1504209631  [{'id': 9, 'name': 'Ingenious', 'count': 16}, ...   \n",
              "2542      1505488093  [{'id': 1, 'name': 'Beautiful', 'count': 41}, ...   \n",
              "2501      1501770244  [{'id': 7, 'name': 'Funny', 'count': 10}, {'id...   \n",
              "2534      1504814438  [{'id': 10, 'name': 'Inspiring', 'count': 46},...   \n",
              "\n",
              "                                          related_talks  \\\n",
              "96    [{'id': 86, 'hero': 'https://pe.tedcdn.com/ima...   \n",
              "0     [{'id': 865, 'hero': 'https://pe.tedcdn.com/im...   \n",
              "644   [{'id': 666, 'hero': 'https://pe.tedcdn.com/im...   \n",
              "201   [{'id': 184, 'hero': 'https://pe.tedcdn.com/im...   \n",
              "1787  [{'id': 1308, 'hero': 'https://pe.tedcdn.com/i...   \n",
              "...                                                 ...   \n",
              "2407  [{'id': 2611, 'hero': 'https://pe.tedcdn.com/i...   \n",
              "2528  [{'id': 2673, 'hero': 'https://pe.tedcdn.com/i...   \n",
              "2542  [{'id': 2873, 'hero': 'https://pe.tedcdn.com/i...   \n",
              "2501  [{'id': 2479, 'hero': 'https://pe.tedcdn.com/i...   \n",
              "2534  [{'id': 2511, 'hero': 'https://pe.tedcdn.com/i...   \n",
              "\n",
              "               speaker_occupation  \\\n",
              "96         Evolutionary biologist   \n",
              "0                 Author/educator   \n",
              "644   Neuroscientist, philosopher   \n",
              "201                Neuroanatomist   \n",
              "1787                  Philosopher   \n",
              "...                           ...   \n",
              "2407            Musical explorers   \n",
              "2528        Digital archaeologist   \n",
              "2542                       Artist   \n",
              "2501                   Art editor   \n",
              "2534                       Author   \n",
              "\n",
              "                                                   tags  \\\n",
              "96    ['God', 'atheism', 'culture', 'religion', 'sci...   \n",
              "0     ['children', 'creativity', 'culture', 'dance',...   \n",
              "644   ['culture', 'evolutionary psychology', 'global...   \n",
              "201   ['biology', 'brain', 'consciousness', 'global ...   \n",
              "1787  ['brain', 'consciousness', 'neuroscience', 'ph...   \n",
              "...                                                 ...   \n",
              "2407      ['art', 'live music', 'music', 'performance']   \n",
              "2528  ['TEDx', 'ancient world', 'archaeology', 'cons...   \n",
              "2542  ['Africa', 'activism', 'art', 'community', 'hi...   \n",
              "2501  ['TEDNYC', 'art', 'creativity', 'culture', 'de...   \n",
              "2534  ['TEDx', 'art', 'climate change', 'environment...   \n",
              "\n",
              "                                                  title  \\\n",
              "96                                     Militant atheism   \n",
              "0                           Do schools kill creativity?   \n",
              "644                  Science can answer moral questions   \n",
              "201                                My stroke of insight   \n",
              "1787                  How do you explain consciousness?   \n",
              "...                                                 ...   \n",
              "2407                                        \"Turceasca\"   \n",
              "2528    How your pictures can help reclaim lost history   \n",
              "2542  Living sculptures that stand for history's truths   \n",
              "2501  The stories behind The New Yorker's iconic covers   \n",
              "2534         What it feels like to see Earth from space   \n",
              "\n",
              "                                                    url     views  \n",
              "96    https://www.ted.com/talks/richard_dawkins_on_m...   4374792  \n",
              "0     https://www.ted.com/talks/ken_robinson_says_sc...  47227110  \n",
              "644   https://www.ted.com/talks/sam_harris_science_c...   3433437  \n",
              "201   https://www.ted.com/talks/jill_bolte_taylor_s_...  21190883  \n",
              "1787  https://www.ted.com/talks/david_chalmers_how_d...   2162764  \n",
              "...                                                 ...       ...  \n",
              "2407  https://www.ted.com/talks/silk_road_ensemble_t...    640734  \n",
              "2528  https://www.ted.com/talks/chance_coughenour_ho...    539207  \n",
              "2542  https://www.ted.com/talks/sethembile_msezane_l...    542088  \n",
              "2501  https://www.ted.com/talks/francoise_mouly_the_...    839040  \n",
              "2534  https://www.ted.com/talks/benjamin_grant_what_...    646174  \n",
              "\n",
              "[2550 rows x 17 columns]"
            ],
            "text/html": [
              "\n",
              "  <div id=\"df-9aa94bd7-bcd8-42de-a0b1-2b39a208083b\">\n",
              "    <div class=\"colab-df-container\">\n",
              "      <div>\n",
              "<style scoped>\n",
              "    .dataframe tbody tr th:only-of-type {\n",
              "        vertical-align: middle;\n",
              "    }\n",
              "\n",
              "    .dataframe tbody tr th {\n",
              "        vertical-align: top;\n",
              "    }\n",
              "\n",
              "    .dataframe thead th {\n",
              "        text-align: right;\n",
              "    }\n",
              "</style>\n",
              "<table border=\"1\" class=\"dataframe\">\n",
              "  <thead>\n",
              "    <tr style=\"text-align: right;\">\n",
              "      <th></th>\n",
              "      <th>comments</th>\n",
              "      <th>description</th>\n",
              "      <th>duration</th>\n",
              "      <th>event</th>\n",
              "      <th>film_date</th>\n",
              "      <th>languages</th>\n",
              "      <th>main_speaker</th>\n",
              "      <th>name</th>\n",
              "      <th>num_speaker</th>\n",
              "      <th>published_date</th>\n",
              "      <th>ratings</th>\n",
              "      <th>related_talks</th>\n",
              "      <th>speaker_occupation</th>\n",
              "      <th>tags</th>\n",
              "      <th>title</th>\n",
              "      <th>url</th>\n",
              "      <th>views</th>\n",
              "    </tr>\n",
              "  </thead>\n",
              "  <tbody>\n",
              "    <tr>\n",
              "      <th>96</th>\n",
              "      <td>6404</td>\n",
              "      <td>Richard Dawkins urges all atheists to openly s...</td>\n",
              "      <td>1750</td>\n",
              "      <td>TED2002</td>\n",
              "      <td>1012608000</td>\n",
              "      <td>42</td>\n",
              "      <td>Richard Dawkins</td>\n",
              "      <td>Richard Dawkins: Militant atheism</td>\n",
              "      <td>1</td>\n",
              "      <td>1176689220</td>\n",
              "      <td>[{'id': 3, 'name': 'Courageous', 'count': 3236...</td>\n",
              "      <td>[{'id': 86, 'hero': 'https://pe.tedcdn.com/ima...</td>\n",
              "      <td>Evolutionary biologist</td>\n",
              "      <td>['God', 'atheism', 'culture', 'religion', 'sci...</td>\n",
              "      <td>Militant atheism</td>\n",
              "      <td>https://www.ted.com/talks/richard_dawkins_on_m...</td>\n",
              "      <td>4374792</td>\n",
              "    </tr>\n",
              "    <tr>\n",
              "      <th>0</th>\n",
              "      <td>4553</td>\n",
              "      <td>Sir Ken Robinson makes an entertaining and pro...</td>\n",
              "      <td>1164</td>\n",
              "      <td>TED2006</td>\n",
              "      <td>1140825600</td>\n",
              "      <td>60</td>\n",
              "      <td>Ken Robinson</td>\n",
              "      <td>Ken Robinson: Do schools kill creativity?</td>\n",
              "      <td>1</td>\n",
              "      <td>1151367060</td>\n",
              "      <td>[{'id': 7, 'name': 'Funny', 'count': 19645}, {...</td>\n",
              "      <td>[{'id': 865, 'hero': 'https://pe.tedcdn.com/im...</td>\n",
              "      <td>Author/educator</td>\n",
              "      <td>['children', 'creativity', 'culture', 'dance',...</td>\n",
              "      <td>Do schools kill creativity?</td>\n",
              "      <td>https://www.ted.com/talks/ken_robinson_says_sc...</td>\n",
              "      <td>47227110</td>\n",
              "    </tr>\n",
              "    <tr>\n",
              "      <th>644</th>\n",
              "      <td>3356</td>\n",
              "      <td>Questions of good and evil, right and wrong ar...</td>\n",
              "      <td>1386</td>\n",
              "      <td>TED2010</td>\n",
              "      <td>1265846400</td>\n",
              "      <td>39</td>\n",
              "      <td>Sam Harris</td>\n",
              "      <td>Sam Harris: Science can answer moral questions</td>\n",
              "      <td>1</td>\n",
              "      <td>1269249180</td>\n",
              "      <td>[{'id': 8, 'name': 'Informative', 'count': 923...</td>\n",
              "      <td>[{'id': 666, 'hero': 'https://pe.tedcdn.com/im...</td>\n",
              "      <td>Neuroscientist, philosopher</td>\n",
              "      <td>['culture', 'evolutionary psychology', 'global...</td>\n",
              "      <td>Science can answer moral questions</td>\n",
              "      <td>https://www.ted.com/talks/sam_harris_science_c...</td>\n",
              "      <td>3433437</td>\n",
              "    </tr>\n",
              "    <tr>\n",
              "      <th>201</th>\n",
              "      <td>2877</td>\n",
              "      <td>Jill Bolte Taylor got a research opportunity f...</td>\n",
              "      <td>1099</td>\n",
              "      <td>TED2008</td>\n",
              "      <td>1204070400</td>\n",
              "      <td>49</td>\n",
              "      <td>Jill Bolte Taylor</td>\n",
              "      <td>Jill Bolte Taylor: My stroke of insight</td>\n",
              "      <td>1</td>\n",
              "      <td>1205284200</td>\n",
              "      <td>[{'id': 22, 'name': 'Fascinating', 'count': 14...</td>\n",
              "      <td>[{'id': 184, 'hero': 'https://pe.tedcdn.com/im...</td>\n",
              "      <td>Neuroanatomist</td>\n",
              "      <td>['biology', 'brain', 'consciousness', 'global ...</td>\n",
              "      <td>My stroke of insight</td>\n",
              "      <td>https://www.ted.com/talks/jill_bolte_taylor_s_...</td>\n",
              "      <td>21190883</td>\n",
              "    </tr>\n",
              "    <tr>\n",
              "      <th>1787</th>\n",
              "      <td>2673</td>\n",
              "      <td>Our consciousness is a fundamental aspect of o...</td>\n",
              "      <td>1117</td>\n",
              "      <td>TED2014</td>\n",
              "      <td>1395100800</td>\n",
              "      <td>33</td>\n",
              "      <td>David Chalmers</td>\n",
              "      <td>David Chalmers: How do you explain consciousness?</td>\n",
              "      <td>1</td>\n",
              "      <td>1405350484</td>\n",
              "      <td>[{'id': 25, 'name': 'OK', 'count': 280}, {'id'...</td>\n",
              "      <td>[{'id': 1308, 'hero': 'https://pe.tedcdn.com/i...</td>\n",
              "      <td>Philosopher</td>\n",
              "      <td>['brain', 'consciousness', 'neuroscience', 'ph...</td>\n",
              "      <td>How do you explain consciousness?</td>\n",
              "      <td>https://www.ted.com/talks/david_chalmers_how_d...</td>\n",
              "      <td>2162764</td>\n",
              "    </tr>\n",
              "    <tr>\n",
              "      <th>...</th>\n",
              "      <td>...</td>\n",
              "      <td>...</td>\n",
              "      <td>...</td>\n",
              "      <td>...</td>\n",
              "      <td>...</td>\n",
              "      <td>...</td>\n",
              "      <td>...</td>\n",
              "      <td>...</td>\n",
              "      <td>...</td>\n",
              "      <td>...</td>\n",
              "      <td>...</td>\n",
              "      <td>...</td>\n",
              "      <td>...</td>\n",
              "      <td>...</td>\n",
              "      <td>...</td>\n",
              "      <td>...</td>\n",
              "      <td>...</td>\n",
              "    </tr>\n",
              "    <tr>\n",
              "      <th>2407</th>\n",
              "      <td>5</td>\n",
              "      <td>Grammy-winning Silk Road Ensemble display thei...</td>\n",
              "      <td>389</td>\n",
              "      <td>TED2016</td>\n",
              "      <td>1455494400</td>\n",
              "      <td>0</td>\n",
              "      <td>Silk Road Ensemble</td>\n",
              "      <td>Silk Road Ensemble: \"Turceasca\"</td>\n",
              "      <td>1</td>\n",
              "      <td>1489759215</td>\n",
              "      <td>[{'id': 1, 'name': 'Beautiful', 'count': 80}, ...</td>\n",
              "      <td>[{'id': 2611, 'hero': 'https://pe.tedcdn.com/i...</td>\n",
              "      <td>Musical explorers</td>\n",
              "      <td>['art', 'live music', 'music', 'performance']</td>\n",
              "      <td>\"Turceasca\"</td>\n",
              "      <td>https://www.ted.com/talks/silk_road_ensemble_t...</td>\n",
              "      <td>640734</td>\n",
              "    </tr>\n",
              "    <tr>\n",
              "      <th>2528</th>\n",
              "      <td>3</td>\n",
              "      <td>Digital archaeologist Chance Coughenour is usi...</td>\n",
              "      <td>717</td>\n",
              "      <td>TEDxHamburg</td>\n",
              "      <td>1465344000</td>\n",
              "      <td>5</td>\n",
              "      <td>Chance Coughenour</td>\n",
              "      <td>Chance Coughenour: How your pictures can help ...</td>\n",
              "      <td>1</td>\n",
              "      <td>1504209631</td>\n",
              "      <td>[{'id': 9, 'name': 'Ingenious', 'count': 16}, ...</td>\n",
              "      <td>[{'id': 2673, 'hero': 'https://pe.tedcdn.com/i...</td>\n",
              "      <td>Digital archaeologist</td>\n",
              "      <td>['TEDx', 'ancient world', 'archaeology', 'cons...</td>\n",
              "      <td>How your pictures can help reclaim lost history</td>\n",
              "      <td>https://www.ted.com/talks/chance_coughenour_ho...</td>\n",
              "      <td>539207</td>\n",
              "    </tr>\n",
              "    <tr>\n",
              "      <th>2542</th>\n",
              "      <td>3</td>\n",
              "      <td>In the century-old statues that occupy Cape To...</td>\n",
              "      <td>795</td>\n",
              "      <td>TEDGlobal 2017</td>\n",
              "      <td>1503792000</td>\n",
              "      <td>1</td>\n",
              "      <td>Sethembile Msezane</td>\n",
              "      <td>Sethembile Msezane: Living sculptures that sta...</td>\n",
              "      <td>1</td>\n",
              "      <td>1505488093</td>\n",
              "      <td>[{'id': 1, 'name': 'Beautiful', 'count': 41}, ...</td>\n",
              "      <td>[{'id': 2873, 'hero': 'https://pe.tedcdn.com/i...</td>\n",
              "      <td>Artist</td>\n",
              "      <td>['Africa', 'activism', 'art', 'community', 'hi...</td>\n",
              "      <td>Living sculptures that stand for history's truths</td>\n",
              "      <td>https://www.ted.com/talks/sethembile_msezane_l...</td>\n",
              "      <td>542088</td>\n",
              "    </tr>\n",
              "    <tr>\n",
              "      <th>2501</th>\n",
              "      <td>3</td>\n",
              "      <td>Meet Françoise Mouly, The New Yorker's art dir...</td>\n",
              "      <td>509</td>\n",
              "      <td>TEDNYC</td>\n",
              "      <td>1488931200</td>\n",
              "      <td>12</td>\n",
              "      <td>Françoise Mouly</td>\n",
              "      <td>Françoise Mouly: The stories behind The New Yo...</td>\n",
              "      <td>1</td>\n",
              "      <td>1501770244</td>\n",
              "      <td>[{'id': 7, 'name': 'Funny', 'count': 10}, {'id...</td>\n",
              "      <td>[{'id': 2479, 'hero': 'https://pe.tedcdn.com/i...</td>\n",
              "      <td>Art editor</td>\n",
              "      <td>['TEDNYC', 'art', 'creativity', 'culture', 'de...</td>\n",
              "      <td>The stories behind The New Yorker's iconic covers</td>\n",
              "      <td>https://www.ted.com/talks/francoise_mouly_the_...</td>\n",
              "      <td>839040</td>\n",
              "    </tr>\n",
              "    <tr>\n",
              "      <th>2534</th>\n",
              "      <td>2</td>\n",
              "      <td>What the astronauts felt when they saw Earth f...</td>\n",
              "      <td>725</td>\n",
              "      <td>TEDxSkoll</td>\n",
              "      <td>1491523200</td>\n",
              "      <td>1</td>\n",
              "      <td>Benjamin Grant</td>\n",
              "      <td>Benjamin Grant: What it feels like to see Eart...</td>\n",
              "      <td>1</td>\n",
              "      <td>1504814438</td>\n",
              "      <td>[{'id': 10, 'name': 'Inspiring', 'count': 46},...</td>\n",
              "      <td>[{'id': 2511, 'hero': 'https://pe.tedcdn.com/i...</td>\n",
              "      <td>Author</td>\n",
              "      <td>['TEDx', 'art', 'climate change', 'environment...</td>\n",
              "      <td>What it feels like to see Earth from space</td>\n",
              "      <td>https://www.ted.com/talks/benjamin_grant_what_...</td>\n",
              "      <td>646174</td>\n",
              "    </tr>\n",
              "  </tbody>\n",
              "</table>\n",
              "<p>2550 rows × 17 columns</p>\n",
              "</div>\n",
              "      <button class=\"colab-df-convert\" onclick=\"convertToInteractive('df-9aa94bd7-bcd8-42de-a0b1-2b39a208083b')\"\n",
              "              title=\"Convert this dataframe to an interactive table.\"\n",
              "              style=\"display:none;\">\n",
              "        \n",
              "  <svg xmlns=\"http://www.w3.org/2000/svg\" height=\"24px\"viewBox=\"0 0 24 24\"\n",
              "       width=\"24px\">\n",
              "    <path d=\"M0 0h24v24H0V0z\" fill=\"none\"/>\n",
              "    <path d=\"M18.56 5.44l.94 2.06.94-2.06 2.06-.94-2.06-.94-.94-2.06-.94 2.06-2.06.94zm-11 1L8.5 8.5l.94-2.06 2.06-.94-2.06-.94L8.5 2.5l-.94 2.06-2.06.94zm10 10l.94 2.06.94-2.06 2.06-.94-2.06-.94-.94-2.06-.94 2.06-2.06.94z\"/><path d=\"M17.41 7.96l-1.37-1.37c-.4-.4-.92-.59-1.43-.59-.52 0-1.04.2-1.43.59L10.3 9.45l-7.72 7.72c-.78.78-.78 2.05 0 2.83L4 21.41c.39.39.9.59 1.41.59.51 0 1.02-.2 1.41-.59l7.78-7.78 2.81-2.81c.8-.78.8-2.07 0-2.86zM5.41 20L4 18.59l7.72-7.72 1.47 1.35L5.41 20z\"/>\n",
              "  </svg>\n",
              "      </button>\n",
              "      \n",
              "  <style>\n",
              "    .colab-df-container {\n",
              "      display:flex;\n",
              "      flex-wrap:wrap;\n",
              "      gap: 12px;\n",
              "    }\n",
              "\n",
              "    .colab-df-convert {\n",
              "      background-color: #E8F0FE;\n",
              "      border: none;\n",
              "      border-radius: 50%;\n",
              "      cursor: pointer;\n",
              "      display: none;\n",
              "      fill: #1967D2;\n",
              "      height: 32px;\n",
              "      padding: 0 0 0 0;\n",
              "      width: 32px;\n",
              "    }\n",
              "\n",
              "    .colab-df-convert:hover {\n",
              "      background-color: #E2EBFA;\n",
              "      box-shadow: 0px 1px 2px rgba(60, 64, 67, 0.3), 0px 1px 3px 1px rgba(60, 64, 67, 0.15);\n",
              "      fill: #174EA6;\n",
              "    }\n",
              "\n",
              "    [theme=dark] .colab-df-convert {\n",
              "      background-color: #3B4455;\n",
              "      fill: #D2E3FC;\n",
              "    }\n",
              "\n",
              "    [theme=dark] .colab-df-convert:hover {\n",
              "      background-color: #434B5C;\n",
              "      box-shadow: 0px 1px 3px 1px rgba(0, 0, 0, 0.15);\n",
              "      filter: drop-shadow(0px 1px 2px rgba(0, 0, 0, 0.3));\n",
              "      fill: #FFFFFF;\n",
              "    }\n",
              "  </style>\n",
              "\n",
              "      <script>\n",
              "        const buttonEl =\n",
              "          document.querySelector('#df-9aa94bd7-bcd8-42de-a0b1-2b39a208083b button.colab-df-convert');\n",
              "        buttonEl.style.display =\n",
              "          google.colab.kernel.accessAllowed ? 'block' : 'none';\n",
              "\n",
              "        async function convertToInteractive(key) {\n",
              "          const element = document.querySelector('#df-9aa94bd7-bcd8-42de-a0b1-2b39a208083b');\n",
              "          const dataTable =\n",
              "            await google.colab.kernel.invokeFunction('convertToInteractive',\n",
              "                                                     [key], {});\n",
              "          if (!dataTable) return;\n",
              "\n",
              "          const docLinkHtml = 'Like what you see? Visit the ' +\n",
              "            '<a target=\"_blank\" href=https://colab.research.google.com/notebooks/data_table.ipynb>data table notebook</a>'\n",
              "            + ' to learn more about interactive tables.';\n",
              "          element.innerHTML = '';\n",
              "          dataTable['output_type'] = 'display_data';\n",
              "          await google.colab.output.renderOutput(dataTable, element);\n",
              "          const docLink = document.createElement('div');\n",
              "          docLink.innerHTML = docLinkHtml;\n",
              "          element.appendChild(docLink);\n",
              "        }\n",
              "      </script>\n",
              "    </div>\n",
              "  </div>\n",
              "  "
            ]
          },
          "metadata": {},
          "execution_count": 108
        }
      ]
    },
    {
      "cell_type": "code",
      "source": [
        "df['views_per_comment'] = df['views']/df['comments']\n",
        "df.sort_values('views_per_comment').head()"
      ],
      "metadata": {
        "colab": {
          "base_uri": "https://localhost:8080/",
          "height": 634
        },
        "id": "UFlca_kxE1TI",
        "outputId": "77d301d3-dbc2-4eb8-8f06-471692095ec3"
      },
      "execution_count": 109,
      "outputs": [
        {
          "output_type": "execute_result",
          "data": {
            "text/plain": [
              "     comments                                        description  duration  \\\n",
              "744       649  Hours before New York lawmakers rejected a key...       453   \n",
              "803       834  David Bismark demos a new system for voting th...       422   \n",
              "96       6404  Richard Dawkins urges all atheists to openly s...      1750   \n",
              "694      1502  Filmmaker Sharmeen Obaid-Chinoy takes on a ter...       489   \n",
              "954      2492  Janet Echelman found her true voice as an arti...       566   \n",
              "\n",
              "                     event   film_date  languages           main_speaker  \\\n",
              "744  New York State Senate  1259712000          0        Diane J. Savino   \n",
              "803         TEDGlobal 2010  1279065600         36          David Bismark   \n",
              "96                 TED2002  1012608000         42        Richard Dawkins   \n",
              "694                TED2010  1265760000         32  Sharmeen Obaid-Chinoy   \n",
              "954                TED2011  1299110400         35         Janet Echelman   \n",
              "\n",
              "                                                  name  num_speaker  \\\n",
              "744    Diane J. Savino: The case for same-sex marriage            1   \n",
              "803              David Bismark: E-voting without fraud            1   \n",
              "96                   Richard Dawkins: Militant atheism            1   \n",
              "694  Sharmeen Obaid-Chinoy: Inside a school for sui...            1   \n",
              "954       Janet Echelman: Taking imagination seriously            1   \n",
              "\n",
              "     published_date                                            ratings  \\\n",
              "744      1282062180  [{'id': 25, 'name': 'OK', 'count': 100}, {'id'...   \n",
              "803      1288685640  [{'id': 25, 'name': 'OK', 'count': 111}, {'id'...   \n",
              "96       1176689220  [{'id': 3, 'name': 'Courageous', 'count': 3236...   \n",
              "694      1274865960  [{'id': 23, 'name': 'Jaw-dropping', 'count': 3...   \n",
              "954      1307489760  [{'id': 23, 'name': 'Jaw-dropping', 'count': 3...   \n",
              "\n",
              "                                         related_talks  \\\n",
              "744  [{'id': 217, 'hero': 'https://pe.tedcdn.com/im...   \n",
              "803  [{'id': 803, 'hero': 'https://pe.tedcdn.com/im...   \n",
              "96   [{'id': 86, 'hero': 'https://pe.tedcdn.com/ima...   \n",
              "694  [{'id': 171, 'hero': 'https://pe.tedcdn.com/im...   \n",
              "954  [{'id': 453, 'hero': 'https://pe.tedcdn.com/im...   \n",
              "\n",
              "         speaker_occupation  \\\n",
              "744                 Senator   \n",
              "803  Voting system designer   \n",
              "96   Evolutionary biologist   \n",
              "694               Filmmaker   \n",
              "954                  Artist   \n",
              "\n",
              "                                                  tags  \\\n",
              "744  ['God', 'LGBT', 'culture', 'government', 'law'...   \n",
              "803  ['culture', 'democracy', 'design', 'global iss...   \n",
              "96   ['God', 'atheism', 'culture', 'religion', 'sci...   \n",
              "694  ['TED Fellows', 'children', 'culture', 'film',...   \n",
              "954  ['art', 'cities', 'culture', 'data', 'design',...   \n",
              "\n",
              "                                   title  \\\n",
              "744       The case for same-sex marriage   \n",
              "803               E-voting without fraud   \n",
              "96                      Militant atheism   \n",
              "694  Inside a school for suicide bombers   \n",
              "954         Taking imagination seriously   \n",
              "\n",
              "                                                   url    views  \\\n",
              "744  https://www.ted.com/talks/diane_j_savino_the_c...   292395   \n",
              "803  https://www.ted.com/talks/david_bismark_e_voti...   543551   \n",
              "96   https://www.ted.com/talks/richard_dawkins_on_m...  4374792   \n",
              "694  https://www.ted.com/talks/sharmeen_obaid_chino...  1057238   \n",
              "954           https://www.ted.com/talks/janet_echelman  1832930   \n",
              "\n",
              "     views_per_comment  \n",
              "744         450.531587  \n",
              "803         651.739808  \n",
              "96          683.134291  \n",
              "694         703.886818  \n",
              "954         735.525682  "
            ],
            "text/html": [
              "\n",
              "  <div id=\"df-ee714013-8246-4a86-bcc9-d6ab65cc9190\">\n",
              "    <div class=\"colab-df-container\">\n",
              "      <div>\n",
              "<style scoped>\n",
              "    .dataframe tbody tr th:only-of-type {\n",
              "        vertical-align: middle;\n",
              "    }\n",
              "\n",
              "    .dataframe tbody tr th {\n",
              "        vertical-align: top;\n",
              "    }\n",
              "\n",
              "    .dataframe thead th {\n",
              "        text-align: right;\n",
              "    }\n",
              "</style>\n",
              "<table border=\"1\" class=\"dataframe\">\n",
              "  <thead>\n",
              "    <tr style=\"text-align: right;\">\n",
              "      <th></th>\n",
              "      <th>comments</th>\n",
              "      <th>description</th>\n",
              "      <th>duration</th>\n",
              "      <th>event</th>\n",
              "      <th>film_date</th>\n",
              "      <th>languages</th>\n",
              "      <th>main_speaker</th>\n",
              "      <th>name</th>\n",
              "      <th>num_speaker</th>\n",
              "      <th>published_date</th>\n",
              "      <th>ratings</th>\n",
              "      <th>related_talks</th>\n",
              "      <th>speaker_occupation</th>\n",
              "      <th>tags</th>\n",
              "      <th>title</th>\n",
              "      <th>url</th>\n",
              "      <th>views</th>\n",
              "      <th>views_per_comment</th>\n",
              "    </tr>\n",
              "  </thead>\n",
              "  <tbody>\n",
              "    <tr>\n",
              "      <th>744</th>\n",
              "      <td>649</td>\n",
              "      <td>Hours before New York lawmakers rejected a key...</td>\n",
              "      <td>453</td>\n",
              "      <td>New York State Senate</td>\n",
              "      <td>1259712000</td>\n",
              "      <td>0</td>\n",
              "      <td>Diane J. Savino</td>\n",
              "      <td>Diane J. Savino: The case for same-sex marriage</td>\n",
              "      <td>1</td>\n",
              "      <td>1282062180</td>\n",
              "      <td>[{'id': 25, 'name': 'OK', 'count': 100}, {'id'...</td>\n",
              "      <td>[{'id': 217, 'hero': 'https://pe.tedcdn.com/im...</td>\n",
              "      <td>Senator</td>\n",
              "      <td>['God', 'LGBT', 'culture', 'government', 'law'...</td>\n",
              "      <td>The case for same-sex marriage</td>\n",
              "      <td>https://www.ted.com/talks/diane_j_savino_the_c...</td>\n",
              "      <td>292395</td>\n",
              "      <td>450.531587</td>\n",
              "    </tr>\n",
              "    <tr>\n",
              "      <th>803</th>\n",
              "      <td>834</td>\n",
              "      <td>David Bismark demos a new system for voting th...</td>\n",
              "      <td>422</td>\n",
              "      <td>TEDGlobal 2010</td>\n",
              "      <td>1279065600</td>\n",
              "      <td>36</td>\n",
              "      <td>David Bismark</td>\n",
              "      <td>David Bismark: E-voting without fraud</td>\n",
              "      <td>1</td>\n",
              "      <td>1288685640</td>\n",
              "      <td>[{'id': 25, 'name': 'OK', 'count': 111}, {'id'...</td>\n",
              "      <td>[{'id': 803, 'hero': 'https://pe.tedcdn.com/im...</td>\n",
              "      <td>Voting system designer</td>\n",
              "      <td>['culture', 'democracy', 'design', 'global iss...</td>\n",
              "      <td>E-voting without fraud</td>\n",
              "      <td>https://www.ted.com/talks/david_bismark_e_voti...</td>\n",
              "      <td>543551</td>\n",
              "      <td>651.739808</td>\n",
              "    </tr>\n",
              "    <tr>\n",
              "      <th>96</th>\n",
              "      <td>6404</td>\n",
              "      <td>Richard Dawkins urges all atheists to openly s...</td>\n",
              "      <td>1750</td>\n",
              "      <td>TED2002</td>\n",
              "      <td>1012608000</td>\n",
              "      <td>42</td>\n",
              "      <td>Richard Dawkins</td>\n",
              "      <td>Richard Dawkins: Militant atheism</td>\n",
              "      <td>1</td>\n",
              "      <td>1176689220</td>\n",
              "      <td>[{'id': 3, 'name': 'Courageous', 'count': 3236...</td>\n",
              "      <td>[{'id': 86, 'hero': 'https://pe.tedcdn.com/ima...</td>\n",
              "      <td>Evolutionary biologist</td>\n",
              "      <td>['God', 'atheism', 'culture', 'religion', 'sci...</td>\n",
              "      <td>Militant atheism</td>\n",
              "      <td>https://www.ted.com/talks/richard_dawkins_on_m...</td>\n",
              "      <td>4374792</td>\n",
              "      <td>683.134291</td>\n",
              "    </tr>\n",
              "    <tr>\n",
              "      <th>694</th>\n",
              "      <td>1502</td>\n",
              "      <td>Filmmaker Sharmeen Obaid-Chinoy takes on a ter...</td>\n",
              "      <td>489</td>\n",
              "      <td>TED2010</td>\n",
              "      <td>1265760000</td>\n",
              "      <td>32</td>\n",
              "      <td>Sharmeen Obaid-Chinoy</td>\n",
              "      <td>Sharmeen Obaid-Chinoy: Inside a school for sui...</td>\n",
              "      <td>1</td>\n",
              "      <td>1274865960</td>\n",
              "      <td>[{'id': 23, 'name': 'Jaw-dropping', 'count': 3...</td>\n",
              "      <td>[{'id': 171, 'hero': 'https://pe.tedcdn.com/im...</td>\n",
              "      <td>Filmmaker</td>\n",
              "      <td>['TED Fellows', 'children', 'culture', 'film',...</td>\n",
              "      <td>Inside a school for suicide bombers</td>\n",
              "      <td>https://www.ted.com/talks/sharmeen_obaid_chino...</td>\n",
              "      <td>1057238</td>\n",
              "      <td>703.886818</td>\n",
              "    </tr>\n",
              "    <tr>\n",
              "      <th>954</th>\n",
              "      <td>2492</td>\n",
              "      <td>Janet Echelman found her true voice as an arti...</td>\n",
              "      <td>566</td>\n",
              "      <td>TED2011</td>\n",
              "      <td>1299110400</td>\n",
              "      <td>35</td>\n",
              "      <td>Janet Echelman</td>\n",
              "      <td>Janet Echelman: Taking imagination seriously</td>\n",
              "      <td>1</td>\n",
              "      <td>1307489760</td>\n",
              "      <td>[{'id': 23, 'name': 'Jaw-dropping', 'count': 3...</td>\n",
              "      <td>[{'id': 453, 'hero': 'https://pe.tedcdn.com/im...</td>\n",
              "      <td>Artist</td>\n",
              "      <td>['art', 'cities', 'culture', 'data', 'design',...</td>\n",
              "      <td>Taking imagination seriously</td>\n",
              "      <td>https://www.ted.com/talks/janet_echelman</td>\n",
              "      <td>1832930</td>\n",
              "      <td>735.525682</td>\n",
              "    </tr>\n",
              "  </tbody>\n",
              "</table>\n",
              "</div>\n",
              "      <button class=\"colab-df-convert\" onclick=\"convertToInteractive('df-ee714013-8246-4a86-bcc9-d6ab65cc9190')\"\n",
              "              title=\"Convert this dataframe to an interactive table.\"\n",
              "              style=\"display:none;\">\n",
              "        \n",
              "  <svg xmlns=\"http://www.w3.org/2000/svg\" height=\"24px\"viewBox=\"0 0 24 24\"\n",
              "       width=\"24px\">\n",
              "    <path d=\"M0 0h24v24H0V0z\" fill=\"none\"/>\n",
              "    <path d=\"M18.56 5.44l.94 2.06.94-2.06 2.06-.94-2.06-.94-.94-2.06-.94 2.06-2.06.94zm-11 1L8.5 8.5l.94-2.06 2.06-.94-2.06-.94L8.5 2.5l-.94 2.06-2.06.94zm10 10l.94 2.06.94-2.06 2.06-.94-2.06-.94-.94-2.06-.94 2.06-2.06.94z\"/><path d=\"M17.41 7.96l-1.37-1.37c-.4-.4-.92-.59-1.43-.59-.52 0-1.04.2-1.43.59L10.3 9.45l-7.72 7.72c-.78.78-.78 2.05 0 2.83L4 21.41c.39.39.9.59 1.41.59.51 0 1.02-.2 1.41-.59l7.78-7.78 2.81-2.81c.8-.78.8-2.07 0-2.86zM5.41 20L4 18.59l7.72-7.72 1.47 1.35L5.41 20z\"/>\n",
              "  </svg>\n",
              "      </button>\n",
              "      \n",
              "  <style>\n",
              "    .colab-df-container {\n",
              "      display:flex;\n",
              "      flex-wrap:wrap;\n",
              "      gap: 12px;\n",
              "    }\n",
              "\n",
              "    .colab-df-convert {\n",
              "      background-color: #E8F0FE;\n",
              "      border: none;\n",
              "      border-radius: 50%;\n",
              "      cursor: pointer;\n",
              "      display: none;\n",
              "      fill: #1967D2;\n",
              "      height: 32px;\n",
              "      padding: 0 0 0 0;\n",
              "      width: 32px;\n",
              "    }\n",
              "\n",
              "    .colab-df-convert:hover {\n",
              "      background-color: #E2EBFA;\n",
              "      box-shadow: 0px 1px 2px rgba(60, 64, 67, 0.3), 0px 1px 3px 1px rgba(60, 64, 67, 0.15);\n",
              "      fill: #174EA6;\n",
              "    }\n",
              "\n",
              "    [theme=dark] .colab-df-convert {\n",
              "      background-color: #3B4455;\n",
              "      fill: #D2E3FC;\n",
              "    }\n",
              "\n",
              "    [theme=dark] .colab-df-convert:hover {\n",
              "      background-color: #434B5C;\n",
              "      box-shadow: 0px 1px 3px 1px rgba(0, 0, 0, 0.15);\n",
              "      filter: drop-shadow(0px 1px 2px rgba(0, 0, 0, 0.3));\n",
              "      fill: #FFFFFF;\n",
              "    }\n",
              "  </style>\n",
              "\n",
              "      <script>\n",
              "        const buttonEl =\n",
              "          document.querySelector('#df-ee714013-8246-4a86-bcc9-d6ab65cc9190 button.colab-df-convert');\n",
              "        buttonEl.style.display =\n",
              "          google.colab.kernel.accessAllowed ? 'block' : 'none';\n",
              "\n",
              "        async function convertToInteractive(key) {\n",
              "          const element = document.querySelector('#df-ee714013-8246-4a86-bcc9-d6ab65cc9190');\n",
              "          const dataTable =\n",
              "            await google.colab.kernel.invokeFunction('convertToInteractive',\n",
              "                                                     [key], {});\n",
              "          if (!dataTable) return;\n",
              "\n",
              "          const docLinkHtml = 'Like what you see? Visit the ' +\n",
              "            '<a target=\"_blank\" href=https://colab.research.google.com/notebooks/data_table.ipynb>data table notebook</a>'\n",
              "            + ' to learn more about interactive tables.';\n",
              "          element.innerHTML = '';\n",
              "          dataTable['output_type'] = 'display_data';\n",
              "          await google.colab.output.renderOutput(dataTable, element);\n",
              "          const docLink = document.createElement('div');\n",
              "          docLink.innerHTML = docLinkHtml;\n",
              "          element.appendChild(docLink);\n",
              "        }\n",
              "      </script>\n",
              "    </div>\n",
              "  </div>\n",
              "  "
            ]
          },
          "metadata": {},
          "execution_count": 109
        }
      ]
    },
    {
      "cell_type": "markdown",
      "source": [
        "## Limitations of the Dataset\n",
        "Consider the limitations and biases of the data provided\n",
        "\n",
        "\n",
        "*   Second level comments and replies\n",
        "*   Older talks have more view and comments. it does not mean that these will remain the most popular ted talk for a long time.\n",
        "\n"
      ],
      "metadata": {
        "id": "KYXN9GtfFu9X"
      }
    },
    {
      "cell_type": "code",
      "source": [
        "new_df = df[df['comments'] >= 1000]\n",
        "new_df['comments'].plot(kind='hist', bins=20)"
      ],
      "metadata": {
        "colab": {
          "base_uri": "https://localhost:8080/",
          "height": 283
        },
        "id": "zbVsKjWqFuRU",
        "outputId": "5138854d-73f4-4bff-a57e-5583d1669bc6"
      },
      "execution_count": 110,
      "outputs": [
        {
          "output_type": "execute_result",
          "data": {
            "text/plain": [
              "<matplotlib.axes._subplots.AxesSubplot at 0x7f366d94d190>"
            ]
          },
          "metadata": {},
          "execution_count": 110
        },
        {
          "output_type": "display_data",
          "data": {
            "text/plain": [
              "<Figure size 432x288 with 1 Axes>"
            ],
            "image/png": "[encoded data removed]"
          },
          "metadata": {
            "needs_background": "light"
          }
        }
      ]
    },
    {
      "cell_type": "markdown",
      "source": [
        "## Note\n",
        "Choose your plot type based on the question that you are trying to answer and the datatypes that you are working with:\n",
        "\n",
        "*   Line plots are useful mostly useful when the x-axis is time-series\n",
        "*   Histograms are great for distributions\n",
        "*   Bar plots are great for comparing categories\n",
        "*   Scatterplots are great for comparing multiple numeric variables\n",
        "\n",
        "You have to choose based on what you're working with. \n",
        "\n",
        "It is generally easier to write pandas plots when compared to writing matplotlib plots.\n",
        "\n",
        "Modify the plot defaults because the defaults will not probably give the the details that you're looking for.\n",
        "\n",
        "There is no right or wrong visualization. But it can be very easy to create a misleading visualization. When you visualize, you are basically summarizing information.\n",
        "\n",
        "\n",
        "\n"
      ],
      "metadata": {
        "id": "qvbzHWt6GQSf"
      }
    },
    {
      "cell_type": "markdown",
      "source": [
        "# Plot the number of talks that took place each year"
      ],
      "metadata": {
        "id": "AVMjk5c6K_3C"
      }
    },
    {
      "cell_type": "code",
      "source": [
        "df.head()\n",
        "df['film_datetime'] = pd.to_datetime(df['film_date'], unit='s') \n",
        "df[['event', 'film_date', 'film_datetime']].sample(10)"
      ],
      "metadata": {
        "colab": {
          "base_uri": "https://localhost:8080/",
          "height": 363
        },
        "id": "TAX4PhS2LEz-",
        "outputId": "f9d32147-646c-4679-cafa-3689e493c7ce"
      },
      "execution_count": 111,
      "outputs": [
        {
          "output_type": "execute_result",
          "data": {
            "text/plain": [
              "                    event   film_date film_datetime\n",
              "1444         TEDxConcorde  1358985600    2013-01-24\n",
              "304               TED2003  1044144000    2003-02-02\n",
              "1227              TED2012  1330473600    2012-02-29\n",
              "1996        TEDWomen 2015  1432771200    2015-05-28\n",
              "2130       TEDGlobal 2014  1412553600    2014-10-06\n",
              "850           TEDMED 2010  1287964800    2010-10-25\n",
              "1159  Mission Blue Voyage  1270857600    2010-04-10\n",
              "604         TEDIndia 2009  1257465600    2009-11-06\n",
              "1721              TED2014  1395360000    2014-03-21\n",
              "1868       TEDGlobal 2014  1413244800    2014-10-14"
            ],
            "text/html": [
              "\n",
              "  <div id=\"df-b1d252c2-e326-4bde-b82d-11fff27f7da4\">\n",
              "    <div class=\"colab-df-container\">\n",
              "      <div>\n",
              "<style scoped>\n",
              "    .dataframe tbody tr th:only-of-type {\n",
              "        vertical-align: middle;\n",
              "    }\n",
              "\n",
              "    .dataframe tbody tr th {\n",
              "        vertical-align: top;\n",
              "    }\n",
              "\n",
              "    .dataframe thead th {\n",
              "        text-align: right;\n",
              "    }\n",
              "</style>\n",
              "<table border=\"1\" class=\"dataframe\">\n",
              "  <thead>\n",
              "    <tr style=\"text-align: right;\">\n",
              "      <th></th>\n",
              "      <th>event</th>\n",
              "      <th>film_date</th>\n",
              "      <th>film_datetime</th>\n",
              "    </tr>\n",
              "  </thead>\n",
              "  <tbody>\n",
              "    <tr>\n",
              "      <th>1444</th>\n",
              "      <td>TEDxConcorde</td>\n",
              "      <td>1358985600</td>\n",
              "      <td>2013-01-24</td>\n",
              "    </tr>\n",
              "    <tr>\n",
              "      <th>304</th>\n",
              "      <td>TED2003</td>\n",
              "      <td>1044144000</td>\n",
              "      <td>2003-02-02</td>\n",
              "    </tr>\n",
              "    <tr>\n",
              "      <th>1227</th>\n",
              "      <td>TED2012</td>\n",
              "      <td>1330473600</td>\n",
              "      <td>2012-02-29</td>\n",
              "    </tr>\n",
              "    <tr>\n",
              "      <th>1996</th>\n",
              "      <td>TEDWomen 2015</td>\n",
              "      <td>1432771200</td>\n",
              "      <td>2015-05-28</td>\n",
              "    </tr>\n",
              "    <tr>\n",
              "      <th>2130</th>\n",
              "      <td>TEDGlobal 2014</td>\n",
              "      <td>1412553600</td>\n",
              "      <td>2014-10-06</td>\n",
              "    </tr>\n",
              "    <tr>\n",
              "      <th>850</th>\n",
              "      <td>TEDMED 2010</td>\n",
              "      <td>1287964800</td>\n",
              "      <td>2010-10-25</td>\n",
              "    </tr>\n",
              "    <tr>\n",
              "      <th>1159</th>\n",
              "      <td>Mission Blue Voyage</td>\n",
              "      <td>1270857600</td>\n",
              "      <td>2010-04-10</td>\n",
              "    </tr>\n",
              "    <tr>\n",
              "      <th>604</th>\n",
              "      <td>TEDIndia 2009</td>\n",
              "      <td>1257465600</td>\n",
              "      <td>2009-11-06</td>\n",
              "    </tr>\n",
              "    <tr>\n",
              "      <th>1721</th>\n",
              "      <td>TED2014</td>\n",
              "      <td>1395360000</td>\n",
              "      <td>2014-03-21</td>\n",
              "    </tr>\n",
              "    <tr>\n",
              "      <th>1868</th>\n",
              "      <td>TEDGlobal 2014</td>\n",
              "      <td>1413244800</td>\n",
              "      <td>2014-10-14</td>\n",
              "    </tr>\n",
              "  </tbody>\n",
              "</table>\n",
              "</div>\n",
              "      <button class=\"colab-df-convert\" onclick=\"convertToInteractive('df-b1d252c2-e326-4bde-b82d-11fff27f7da4')\"\n",
              "              title=\"Convert this dataframe to an interactive table.\"\n",
              "              style=\"display:none;\">\n",
              "        \n",
              "  <svg xmlns=\"http://www.w3.org/2000/svg\" height=\"24px\"viewBox=\"0 0 24 24\"\n",
              "       width=\"24px\">\n",
              "    <path d=\"M0 0h24v24H0V0z\" fill=\"none\"/>\n",
              "    <path d=\"M18.56 5.44l.94 2.06.94-2.06 2.06-.94-2.06-.94-.94-2.06-.94 2.06-2.06.94zm-11 1L8.5 8.5l.94-2.06 2.06-.94-2.06-.94L8.5 2.5l-.94 2.06-2.06.94zm10 10l.94 2.06.94-2.06 2.06-.94-2.06-.94-.94-2.06-.94 2.06-2.06.94z\"/><path d=\"M17.41 7.96l-1.37-1.37c-.4-.4-.92-.59-1.43-.59-.52 0-1.04.2-1.43.59L10.3 9.45l-7.72 7.72c-.78.78-.78 2.05 0 2.83L4 21.41c.39.39.9.59 1.41.59.51 0 1.02-.2 1.41-.59l7.78-7.78 2.81-2.81c.8-.78.8-2.07 0-2.86zM5.41 20L4 18.59l7.72-7.72 1.47 1.35L5.41 20z\"/>\n",
              "  </svg>\n",
              "      </button>\n",
              "      \n",
              "  <style>\n",
              "    .colab-df-container {\n",
              "      display:flex;\n",
              "      flex-wrap:wrap;\n",
              "      gap: 12px;\n",
              "    }\n",
              "\n",
              "    .colab-df-convert {\n",
              "      background-color: #E8F0FE;\n",
              "      border: none;\n",
              "      border-radius: 50%;\n",
              "      cursor: pointer;\n",
              "      display: none;\n",
              "      fill: #1967D2;\n",
              "      height: 32px;\n",
              "      padding: 0 0 0 0;\n",
              "      width: 32px;\n",
              "    }\n",
              "\n",
              "    .colab-df-convert:hover {\n",
              "      background-color: #E2EBFA;\n",
              "      box-shadow: 0px 1px 2px rgba(60, 64, 67, 0.3), 0px 1px 3px 1px rgba(60, 64, 67, 0.15);\n",
              "      fill: #174EA6;\n",
              "    }\n",
              "\n",
              "    [theme=dark] .colab-df-convert {\n",
              "      background-color: #3B4455;\n",
              "      fill: #D2E3FC;\n",
              "    }\n",
              "\n",
              "    [theme=dark] .colab-df-convert:hover {\n",
              "      background-color: #434B5C;\n",
              "      box-shadow: 0px 1px 3px 1px rgba(0, 0, 0, 0.15);\n",
              "      filter: drop-shadow(0px 1px 2px rgba(0, 0, 0, 0.3));\n",
              "      fill: #FFFFFF;\n",
              "    }\n",
              "  </style>\n",
              "\n",
              "      <script>\n",
              "        const buttonEl =\n",
              "          document.querySelector('#df-b1d252c2-e326-4bde-b82d-11fff27f7da4 button.colab-df-convert');\n",
              "        buttonEl.style.display =\n",
              "          google.colab.kernel.accessAllowed ? 'block' : 'none';\n",
              "\n",
              "        async function convertToInteractive(key) {\n",
              "          const element = document.querySelector('#df-b1d252c2-e326-4bde-b82d-11fff27f7da4');\n",
              "          const dataTable =\n",
              "            await google.colab.kernel.invokeFunction('convertToInteractive',\n",
              "                                                     [key], {});\n",
              "          if (!dataTable) return;\n",
              "\n",
              "          const docLinkHtml = 'Like what you see? Visit the ' +\n",
              "            '<a target=\"_blank\" href=https://colab.research.google.com/notebooks/data_table.ipynb>data table notebook</a>'\n",
              "            + ' to learn more about interactive tables.';\n",
              "          element.innerHTML = '';\n",
              "          dataTable['output_type'] = 'display_data';\n",
              "          await google.colab.output.renderOutput(dataTable, element);\n",
              "          const docLink = document.createElement('div');\n",
              "          docLink.innerHTML = docLinkHtml;\n",
              "          element.appendChild(docLink);\n",
              "        }\n",
              "      </script>\n",
              "    </div>\n",
              "  </div>\n",
              "  "
            ]
          },
          "metadata": {},
          "execution_count": 111
        }
      ]
    },
    {
      "cell_type": "code",
      "source": [
        "df['film_datetime'].dt.year.head()"
      ],
      "metadata": {
        "colab": {
          "base_uri": "https://localhost:8080/"
        },
        "id": "wplLjEZ3Mfct",
        "outputId": "3bdc69cb-02c7-45ca-bfe6-80cdbaaf6a1e"
      },
      "execution_count": 112,
      "outputs": [
        {
          "output_type": "execute_result",
          "data": {
            "text/plain": [
              "0    2006\n",
              "1    2006\n",
              "2    2006\n",
              "3    2006\n",
              "4    2006\n",
              "Name: film_datetime, dtype: int64"
            ]
          },
          "metadata": {},
          "execution_count": 112
        }
      ]
    },
    {
      "cell_type": "code",
      "source": [
        "df['film_datetime'].dt.dayofweek.head()"
      ],
      "metadata": {
        "colab": {
          "base_uri": "https://localhost:8080/"
        },
        "id": "Om04uFyjMsUJ",
        "outputId": "537bbaa6-bb36-4bd8-baaf-6bc6da8237d2"
      },
      "execution_count": 113,
      "outputs": [
        {
          "output_type": "execute_result",
          "data": {
            "text/plain": [
              "0    5\n",
              "1    5\n",
              "2    4\n",
              "3    6\n",
              "4    2\n",
              "Name: film_datetime, dtype: int64"
            ]
          },
          "metadata": {},
          "execution_count": 113
        }
      ]
    },
    {
      "cell_type": "code",
      "source": [
        "df['film_datetime'].dt.dayofyear.head()"
      ],
      "metadata": {
        "colab": {
          "base_uri": "https://localhost:8080/"
        },
        "id": "RikFtEb1MyFC",
        "outputId": "a78906f3-570f-4f5d-fdd2-e1276226735a"
      },
      "execution_count": 114,
      "outputs": [
        {
          "output_type": "execute_result",
          "data": {
            "text/plain": [
              "0    56\n",
              "1    56\n",
              "2    55\n",
              "3    57\n",
              "4    53\n",
              "Name: film_datetime, dtype: int64"
            ]
          },
          "metadata": {},
          "execution_count": 114
        }
      ]
    },
    {
      "cell_type": "code",
      "source": [
        "df['film_datetime'].dt.year.value_counts().sort_index().plot(kind='line')"
      ],
      "metadata": {
        "colab": {
          "base_uri": "https://localhost:8080/",
          "height": 283
        },
        "id": "ahiLXgNeNCvx",
        "outputId": "31674619-c2d7-4b43-dfdc-552735ce235a"
      },
      "execution_count": 119,
      "outputs": [
        {
          "output_type": "execute_result",
          "data": {
            "text/plain": [
              "<matplotlib.axes._subplots.AxesSubplot at 0x7f366d6ed8d0>"
            ]
          },
          "metadata": {},
          "execution_count": 119
        },
        {
          "output_type": "display_data",
          "data": {
            "text/plain": [
              "<Figure size 432x288 with 1 Axes>"
            ],
            "image/png": "[encoded data removed]"
          },
          "metadata": {
            "needs_background": "light"
          }
        }
      ]
    },
    {
      "cell_type": "code",
      "source": [
        "df['film_datetime'].max()"
      ],
      "metadata": {
        "colab": {
          "base_uri": "https://localhost:8080/"
        },
        "id": "SBdvaF0GOCnr",
        "outputId": "322cfd01-06e9-478e-d30e-e742a0340e15"
      },
      "execution_count": 120,
      "outputs": [
        {
          "output_type": "execute_result",
          "data": {
            "text/plain": [
              "Timestamp('2017-08-27 00:00:00')"
            ]
          },
          "metadata": {},
          "execution_count": 120
        }
      ]
    },
    {
      "cell_type": "markdown",
      "source": [
        "### Note: If you have datetime data use the datetime datatype"
      ],
      "metadata": {
        "id": "Qn0Gw8UMORfr"
      }
    },
    {
      "cell_type": "markdown",
      "source": [
        "## What were the best events in Ted history to attend?"
      ],
      "metadata": {
        "id": "5m4MU77jGl2D"
      }
    },
    {
      "cell_type": "code",
      "source": [
        "df.head(5)\n",
        "df.groupby(df['event']).views.agg(['mean', 'count', 'sum']).sort_values('sum').tail()\n",
        "# df[df['event', 'views']]"
      ],
      "metadata": {
        "colab": {
          "base_uri": "https://localhost:8080/",
          "height": 237
        },
        "id": "hfksH6NuPI-0",
        "outputId": "edf75702-bd72-45cc-f689-fa0165a406da"
      },
      "execution_count": 135,
      "outputs": [
        {
          "output_type": "execute_result",
          "data": {
            "text/plain": [
              "                        mean  count        sum\n",
              "event                                         \n",
              "TED2006         3.274345e+06     45  147345533\n",
              "TED2015         2.011017e+06     75  150826305\n",
              "TEDGlobal 2013  2.584163e+06     66  170554736\n",
              "TED2014         2.072874e+06     84  174121423\n",
              "TED2013         2.302700e+06     77  177307937"
            ],
            "text/html": [
              "\n",
              "  <div id=\"df-9ea56704-f339-4e0c-b912-9c3d6b6137f4\">\n",
              "    <div class=\"colab-df-container\">\n",
              "      <div>\n",
              "<style scoped>\n",
              "    .dataframe tbody tr th:only-of-type {\n",
              "        vertical-align: middle;\n",
              "    }\n",
              "\n",
              "    .dataframe tbody tr th {\n",
              "        vertical-align: top;\n",
              "    }\n",
              "\n",
              "    .dataframe thead th {\n",
              "        text-align: right;\n",
              "    }\n",
              "</style>\n",
              "<table border=\"1\" class=\"dataframe\">\n",
              "  <thead>\n",
              "    <tr style=\"text-align: right;\">\n",
              "      <th></th>\n",
              "      <th>mean</th>\n",
              "      <th>count</th>\n",
              "      <th>sum</th>\n",
              "    </tr>\n",
              "    <tr>\n",
              "      <th>event</th>\n",
              "      <th></th>\n",
              "      <th></th>\n",
              "      <th></th>\n",
              "    </tr>\n",
              "  </thead>\n",
              "  <tbody>\n",
              "    <tr>\n",
              "      <th>TED2006</th>\n",
              "      <td>3.274345e+06</td>\n",
              "      <td>45</td>\n",
              "      <td>147345533</td>\n",
              "    </tr>\n",
              "    <tr>\n",
              "      <th>TED2015</th>\n",
              "      <td>2.011017e+06</td>\n",
              "      <td>75</td>\n",
              "      <td>150826305</td>\n",
              "    </tr>\n",
              "    <tr>\n",
              "      <th>TEDGlobal 2013</th>\n",
              "      <td>2.584163e+06</td>\n",
              "      <td>66</td>\n",
              "      <td>170554736</td>\n",
              "    </tr>\n",
              "    <tr>\n",
              "      <th>TED2014</th>\n",
              "      <td>2.072874e+06</td>\n",
              "      <td>84</td>\n",
              "      <td>174121423</td>\n",
              "    </tr>\n",
              "    <tr>\n",
              "      <th>TED2013</th>\n",
              "      <td>2.302700e+06</td>\n",
              "      <td>77</td>\n",
              "      <td>177307937</td>\n",
              "    </tr>\n",
              "  </tbody>\n",
              "</table>\n",
              "</div>\n",
              "      <button class=\"colab-df-convert\" onclick=\"convertToInteractive('df-9ea56704-f339-4e0c-b912-9c3d6b6137f4')\"\n",
              "              title=\"Convert this dataframe to an interactive table.\"\n",
              "              style=\"display:none;\">\n",
              "        \n",
              "  <svg xmlns=\"http://www.w3.org/2000/svg\" height=\"24px\"viewBox=\"0 0 24 24\"\n",
              "       width=\"24px\">\n",
              "    <path d=\"M0 0h24v24H0V0z\" fill=\"none\"/>\n",
              "    <path d=\"M18.56 5.44l.94 2.06.94-2.06 2.06-.94-2.06-.94-.94-2.06-.94 2.06-2.06.94zm-11 1L8.5 8.5l.94-2.06 2.06-.94-2.06-.94L8.5 2.5l-.94 2.06-2.06.94zm10 10l.94 2.06.94-2.06 2.06-.94-2.06-.94-.94-2.06-.94 2.06-2.06.94z\"/><path d=\"M17.41 7.96l-1.37-1.37c-.4-.4-.92-.59-1.43-.59-.52 0-1.04.2-1.43.59L10.3 9.45l-7.72 7.72c-.78.78-.78 2.05 0 2.83L4 21.41c.39.39.9.59 1.41.59.51 0 1.02-.2 1.41-.59l7.78-7.78 2.81-2.81c.8-.78.8-2.07 0-2.86zM5.41 20L4 18.59l7.72-7.72 1.47 1.35L5.41 20z\"/>\n",
              "  </svg>\n",
              "      </button>\n",
              "      \n",
              "  <style>\n",
              "    .colab-df-container {\n",
              "      display:flex;\n",
              "      flex-wrap:wrap;\n",
              "      gap: 12px;\n",
              "    }\n",
              "\n",
              "    .colab-df-convert {\n",
              "      background-color: #E8F0FE;\n",
              "      border: none;\n",
              "      border-radius: 50%;\n",
              "      cursor: pointer;\n",
              "      display: none;\n",
              "      fill: #1967D2;\n",
              "      height: 32px;\n",
              "      padding: 0 0 0 0;\n",
              "      width: 32px;\n",
              "    }\n",
              "\n",
              "    .colab-df-convert:hover {\n",
              "      background-color: #E2EBFA;\n",
              "      box-shadow: 0px 1px 2px rgba(60, 64, 67, 0.3), 0px 1px 3px 1px rgba(60, 64, 67, 0.15);\n",
              "      fill: #174EA6;\n",
              "    }\n",
              "\n",
              "    [theme=dark] .colab-df-convert {\n",
              "      background-color: #3B4455;\n",
              "      fill: #D2E3FC;\n",
              "    }\n",
              "\n",
              "    [theme=dark] .colab-df-convert:hover {\n",
              "      background-color: #434B5C;\n",
              "      box-shadow: 0px 1px 3px 1px rgba(0, 0, 0, 0.15);\n",
              "      filter: drop-shadow(0px 1px 2px rgba(0, 0, 0, 0.3));\n",
              "      fill: #FFFFFF;\n",
              "    }\n",
              "  </style>\n",
              "\n",
              "      <script>\n",
              "        const buttonEl =\n",
              "          document.querySelector('#df-9ea56704-f339-4e0c-b912-9c3d6b6137f4 button.colab-df-convert');\n",
              "        buttonEl.style.display =\n",
              "          google.colab.kernel.accessAllowed ? 'block' : 'none';\n",
              "\n",
              "        async function convertToInteractive(key) {\n",
              "          const element = document.querySelector('#df-9ea56704-f339-4e0c-b912-9c3d6b6137f4');\n",
              "          const dataTable =\n",
              "            await google.colab.kernel.invokeFunction('convertToInteractive',\n",
              "                                                     [key], {});\n",
              "          if (!dataTable) return;\n",
              "\n",
              "          const docLinkHtml = 'Like what you see? Visit the ' +\n",
              "            '<a target=\"_blank\" href=https://colab.research.google.com/notebooks/data_table.ipynb>data table notebook</a>'\n",
              "            + ' to learn more about interactive tables.';\n",
              "          element.innerHTML = '';\n",
              "          dataTable['output_type'] = 'display_data';\n",
              "          await google.colab.output.renderOutput(dataTable, element);\n",
              "          const docLink = document.createElement('div');\n",
              "          docLink.innerHTML = docLinkHtml;\n",
              "          element.appendChild(docLink);\n",
              "        }\n",
              "      </script>\n",
              "    </div>\n",
              "  </div>\n",
              "  "
            ]
          },
          "metadata": {},
          "execution_count": 135
        }
      ]
    },
    {
      "cell_type": "markdown",
      "source": [
        "Always acknowledge the weaknesses of your approach\n",
        "You will never have perfect data\n",
        "Watch out for small sample sizes\n",
        "Use count with mean to get the sample sizes"
      ],
      "metadata": {
        "id": "t6VfZmXjRLFV"
      }
    },
    {
      "cell_type": "markdown",
      "source": [
        "## Unpack the ratings data"
      ],
      "metadata": {
        "id": "SH0pRJzyRZ5Z"
      }
    },
    {
      "cell_type": "code",
      "source": [
        "df.ratings.head()"
      ],
      "metadata": {
        "colab": {
          "base_uri": "https://localhost:8080/"
        },
        "id": "yvYVaknXRcNA",
        "outputId": "a95aeb94-3987-4f71-df9d-67f0ccf50210"
      },
      "execution_count": 137,
      "outputs": [
        {
          "output_type": "execute_result",
          "data": {
            "text/plain": [
              "0    [{'id': 7, 'name': 'Funny', 'count': 19645}, {...\n",
              "1    [{'id': 7, 'name': 'Funny', 'count': 544}, {'i...\n",
              "2    [{'id': 7, 'name': 'Funny', 'count': 964}, {'i...\n",
              "3    [{'id': 3, 'name': 'Courageous', 'count': 760}...\n",
              "4    [{'id': 9, 'name': 'Ingenious', 'count': 3202}...\n",
              "Name: ratings, dtype: object"
            ]
          },
          "metadata": {},
          "execution_count": 137
        }
      ]
    },
    {
      "cell_type": "code",
      "source": [
        "df.loc[0, 'ratings']"
      ],
      "metadata": {
        "colab": {
          "base_uri": "https://localhost:8080/",
          "height": 127
        },
        "id": "W7DpIoH_RqVJ",
        "outputId": "9d633f6d-ba59-48bf-c9ae-0eefd101ab24"
      },
      "execution_count": 138,
      "outputs": [
        {
          "output_type": "execute_result",
          "data": {
            "text/plain": [
              "\"[{'id': 7, 'name': 'Funny', 'count': 19645}, {'id': 1, 'name': 'Beautiful', 'count': 4573}, {'id': 9, 'name': 'Ingenious', 'count': 6073}, {'id': 3, 'name': 'Courageous', 'count': 3253}, {'id': 11, 'name': 'Longwinded', 'count': 387}, {'id': 2, 'name': 'Confusing', 'count': 242}, {'id': 8, 'name': 'Informative', 'count': 7346}, {'id': 22, 'name': 'Fascinating', 'count': 10581}, {'id': 21, 'name': 'Unconvincing', 'count': 300}, {'id': 24, 'name': 'Persuasive', 'count': 10704}, {'id': 23, 'name': 'Jaw-dropping', 'count': 4439}, {'id': 25, 'name': 'OK', 'count': 1174}, {'id': 26, 'name': 'Obnoxious', 'count': 209}, {'id': 10, 'name': 'Inspiring', 'count': 24924}]\""
            ],
            "application/vnd.google.colaboratory.intrinsic+json": {
              "type": "string"
            }
          },
          "metadata": {},
          "execution_count": 138
        }
      ]
    },
    {
      "cell_type": "markdown",
      "source": [
        "literal_eval() will change the stringified list or dictionary to the datatype"
      ],
      "metadata": {
        "id": "4j3rcoRZSOwS"
      }
    },
    {
      "cell_type": "code",
      "source": [
        "import ast\n",
        "ast.literal_eval('[1,2,3]')"
      ],
      "metadata": {
        "colab": {
          "base_uri": "https://localhost:8080/"
        },
        "id": "RYjGps89R8f3",
        "outputId": "7053fe22-d059-4dec-e0c6-309ffdf59718"
      },
      "execution_count": 141,
      "outputs": [
        {
          "output_type": "execute_result",
          "data": {
            "text/plain": [
              "[1, 2, 3]"
            ]
          },
          "metadata": {},
          "execution_count": 141
        }
      ]
    },
    {
      "cell_type": "code",
      "source": [
        "def str_to_list(ratings_str):\n",
        "    return ast.literal_eval(ratings_str)"
      ],
      "metadata": {
        "id": "8Vu8b69fSh98"
      },
      "execution_count": 143,
      "outputs": []
    },
    {
      "cell_type": "code",
      "source": [
        "df['ratings'].apply(str_to_list).head()"
      ],
      "metadata": {
        "colab": {
          "base_uri": "https://localhost:8080/"
        },
        "id": "vBToN8feSy5q",
        "outputId": "7f9df2a3-d34e-4f64-c9f0-0657f57b0fef"
      },
      "execution_count": 144,
      "outputs": [
        {
          "output_type": "execute_result",
          "data": {
            "text/plain": [
              "0    [{'id': 7, 'name': 'Funny', 'count': 19645}, {...\n",
              "1    [{'id': 7, 'name': 'Funny', 'count': 544}, {'i...\n",
              "2    [{'id': 7, 'name': 'Funny', 'count': 964}, {'i...\n",
              "3    [{'id': 3, 'name': 'Courageous', 'count': 760}...\n",
              "4    [{'id': 9, 'name': 'Ingenious', 'count': 3202}...\n",
              "Name: ratings, dtype: object"
            ]
          },
          "metadata": {},
          "execution_count": 144
        }
      ]
    },
    {
      "cell_type": "markdown",
      "source": [
        "# Superior method"
      ],
      "metadata": {
        "id": "GS3ZzrqUS7ay"
      }
    },
    {
      "cell_type": "code",
      "source": [
        "df.ratings.apply(ast.literal_eval).head()"
      ],
      "metadata": {
        "colab": {
          "base_uri": "https://localhost:8080/"
        },
        "id": "eVTiN5F9S_EF",
        "outputId": "c0fcb810-dec1-4852-9252-dd613b79fb1b"
      },
      "execution_count": 145,
      "outputs": [
        {
          "output_type": "execute_result",
          "data": {
            "text/plain": [
              "0    [{'id': 7, 'name': 'Funny', 'count': 19645}, {...\n",
              "1    [{'id': 7, 'name': 'Funny', 'count': 544}, {'i...\n",
              "2    [{'id': 7, 'name': 'Funny', 'count': 964}, {'i...\n",
              "3    [{'id': 3, 'name': 'Courageous', 'count': 760}...\n",
              "4    [{'id': 9, 'name': 'Ingenious', 'count': 3202}...\n",
              "Name: ratings, dtype: object"
            ]
          },
          "metadata": {},
          "execution_count": 145
        }
      ]
    },
    {
      "cell_type": "markdown",
      "source": [
        "Lambda Version"
      ],
      "metadata": {
        "id": "fELsOiBITIKv"
      }
    },
    {
      "cell_type": "code",
      "source": [
        "df['ratings_list'] = df.ratings.apply(lambda x: ast.literal_eval(x))"
      ],
      "metadata": {
        "id": "Q61GIQfGTJ5p"
      },
      "execution_count": 148,
      "outputs": []
    },
    {
      "cell_type": "code",
      "source": [
        "df['ratings_list'][0]"
      ],
      "metadata": {
        "colab": {
          "base_uri": "https://localhost:8080/"
        },
        "id": "rLzb-1wqTY_Q",
        "outputId": "b677aea6-85ca-4776-d1a0-f883f2a31f3c"
      },
      "execution_count": 149,
      "outputs": [
        {
          "output_type": "execute_result",
          "data": {
            "text/plain": [
              "[{'count': 19645, 'id': 7, 'name': 'Funny'},\n",
              " {'count': 4573, 'id': 1, 'name': 'Beautiful'},\n",
              " {'count': 6073, 'id': 9, 'name': 'Ingenious'},\n",
              " {'count': 3253, 'id': 3, 'name': 'Courageous'},\n",
              " {'count': 387, 'id': 11, 'name': 'Longwinded'},\n",
              " {'count': 242, 'id': 2, 'name': 'Confusing'},\n",
              " {'count': 7346, 'id': 8, 'name': 'Informative'},\n",
              " {'count': 10581, 'id': 22, 'name': 'Fascinating'},\n",
              " {'count': 300, 'id': 21, 'name': 'Unconvincing'},\n",
              " {'count': 10704, 'id': 24, 'name': 'Persuasive'},\n",
              " {'count': 4439, 'id': 23, 'name': 'Jaw-dropping'},\n",
              " {'count': 1174, 'id': 25, 'name': 'OK'},\n",
              " {'count': 209, 'id': 26, 'name': 'Obnoxious'},\n",
              " {'count': 24924, 'id': 10, 'name': 'Inspiring'}]"
            ]
          },
          "metadata": {},
          "execution_count": 149
        }
      ]
    },
    {
      "cell_type": "code",
      "source": [
        "df.ratings_list[0]"
      ],
      "metadata": {
        "colab": {
          "base_uri": "https://localhost:8080/"
        },
        "id": "RT6llm7HTdX_",
        "outputId": "580af1ee-2bb7-45be-e8b9-7a8536dc9e7c"
      },
      "execution_count": 150,
      "outputs": [
        {
          "output_type": "execute_result",
          "data": {
            "text/plain": [
              "[{'count': 19645, 'id': 7, 'name': 'Funny'},\n",
              " {'count': 4573, 'id': 1, 'name': 'Beautiful'},\n",
              " {'count': 6073, 'id': 9, 'name': 'Ingenious'},\n",
              " {'count': 3253, 'id': 3, 'name': 'Courageous'},\n",
              " {'count': 387, 'id': 11, 'name': 'Longwinded'},\n",
              " {'count': 242, 'id': 2, 'name': 'Confusing'},\n",
              " {'count': 7346, 'id': 8, 'name': 'Informative'},\n",
              " {'count': 10581, 'id': 22, 'name': 'Fascinating'},\n",
              " {'count': 300, 'id': 21, 'name': 'Unconvincing'},\n",
              " {'count': 10704, 'id': 24, 'name': 'Persuasive'},\n",
              " {'count': 4439, 'id': 23, 'name': 'Jaw-dropping'},\n",
              " {'count': 1174, 'id': 25, 'name': 'OK'},\n",
              " {'count': 209, 'id': 26, 'name': 'Obnoxious'},\n",
              " {'count': 24924, 'id': 10, 'name': 'Inspiring'}]"
            ]
          },
          "metadata": {},
          "execution_count": 150
        }
      ]
    },
    {
      "cell_type": "markdown",
      "source": [
        "apply() is discouraged if there is a built in functions. \n",
        "map() does similar functionality and there is overlapping functionality. It should be used as a last resort if you dont care about performance."
      ],
      "metadata": {
        "id": "KqDzH8N4T1SM"
      }
    },
    {
      "cell_type": "code",
      "source": [
        "df.info()"
      ],
      "metadata": {
        "colab": {
          "base_uri": "https://localhost:8080/"
        },
        "id": "fIxmUPWbUKQB",
        "outputId": "624ca686-a619-429d-d702-f1be492027fc"
      },
      "execution_count": 151,
      "outputs": [
        {
          "output_type": "stream",
          "name": "stdout",
          "text": [
            "<class 'pandas.core.frame.DataFrame'>\n",
            "RangeIndex: 2550 entries, 0 to 2549\n",
            "Data columns (total 20 columns):\n",
            " #   Column              Non-Null Count  Dtype         \n",
            "---  ------              --------------  -----         \n",
            " 0   comments            2550 non-null   int64         \n",
            " 1   description         2550 non-null   object        \n",
            " 2   duration            2550 non-null   int64         \n",
            " 3   event               2550 non-null   object        \n",
            " 4   film_date           2550 non-null   int64         \n",
            " 5   languages           2550 non-null   int64         \n",
            " 6   main_speaker        2550 non-null   object        \n",
            " 7   name                2550 non-null   object        \n",
            " 8   num_speaker         2550 non-null   int64         \n",
            " 9   published_date      2550 non-null   int64         \n",
            " 10  ratings             2550 non-null   object        \n",
            " 11  related_talks       2550 non-null   object        \n",
            " 12  speaker_occupation  2544 non-null   object        \n",
            " 13  tags                2550 non-null   object        \n",
            " 14  title               2550 non-null   object        \n",
            " 15  url                 2550 non-null   object        \n",
            " 16  views               2550 non-null   int64         \n",
            " 17  views_per_comment   2550 non-null   float64       \n",
            " 18  film_datetime       2550 non-null   datetime64[ns]\n",
            " 19  ratings_list        2550 non-null   object        \n",
            "dtypes: datetime64[ns](1), float64(1), int64(7), object(11)\n",
            "memory usage: 398.6+ KB\n"
          ]
        }
      ]
    },
    {
      "cell_type": "markdown",
      "source": [
        "## Count the total number of ratings received by each talk"
      ],
      "metadata": {
        "id": "ynuKf02LUPEa"
      }
    },
    {
      "cell_type": "code",
      "source": [
        "def get_num_ratings(list_of_dicts):\n",
        "    num=0\n",
        "    for item in list_of_dicts:\n",
        "        num += item['count']\n",
        "    return num"
      ],
      "metadata": {
        "id": "m06qOWSJUOGr"
      },
      "execution_count": 153,
      "outputs": []
    },
    {
      "cell_type": "code",
      "source": [
        "get_num_ratings(df.ratings_list[0])"
      ],
      "metadata": {
        "colab": {
          "base_uri": "https://localhost:8080/"
        },
        "id": "OAMYNfJIVLYV",
        "outputId": "e29bc98d-6b76-4e1c-d66a-d92676124c63"
      },
      "execution_count": 154,
      "outputs": [
        {
          "output_type": "execute_result",
          "data": {
            "text/plain": [
              "93850"
            ]
          },
          "metadata": {},
          "execution_count": 154
        }
      ]
    },
    {
      "cell_type": "code",
      "source": [
        "df['total_ratings'] = df.ratings_list.apply(get_num_ratings)"
      ],
      "metadata": {
        "id": "c1PIFMRRVSXz"
      },
      "execution_count": 157,
      "outputs": []
    },
    {
      "cell_type": "code",
      "source": [
        "df.total_ratings.describe()"
      ],
      "metadata": {
        "colab": {
          "base_uri": "https://localhost:8080/"
        },
        "id": "CQ2jvaccVgNT",
        "outputId": "c98147b8-6b3a-46f9-b031-a39f701e49c8"
      },
      "execution_count": 158,
      "outputs": [
        {
          "output_type": "execute_result",
          "data": {
            "text/plain": [
              "count     2550.000000\n",
              "mean      2436.408235\n",
              "std       4226.795631\n",
              "min         68.000000\n",
              "25%        870.750000\n",
              "50%       1452.500000\n",
              "75%       2506.750000\n",
              "max      93850.000000\n",
              "Name: total_ratings, dtype: float64"
            ]
          },
          "metadata": {},
          "execution_count": 158
        }
      ]
    },
    {
      "cell_type": "markdown",
      "source": [
        "Same operation but with Lambda function"
      ],
      "metadata": {
        "id": "rU1hMR0-WX0S"
      }
    },
    {
      "cell_type": "code",
      "source": [
        "df.ratings_list.apply(lambda x: get_num_ratings(x))"
      ],
      "metadata": {
        "colab": {
          "base_uri": "https://localhost:8080/"
        },
        "id": "38QIL1RZVvH7",
        "outputId": "22149ecd-3d8c-49de-9522-054465436b2b"
      },
      "execution_count": 159,
      "outputs": [
        {
          "output_type": "execute_result",
          "data": {
            "text/plain": [
              "0       93850\n",
              "1        2936\n",
              "2        2824\n",
              "3        3728\n",
              "4       25620\n",
              "        ...  \n",
              "2545      192\n",
              "2546      151\n",
              "2547      136\n",
              "2548      583\n",
              "2549      142\n",
              "Name: ratings_list, Length: 2550, dtype: int64"
            ]
          },
          "metadata": {},
          "execution_count": 159
        }
      ]
    },
    {
      "cell_type": "markdown",
      "source": [
        "Alternate method: Reading the column as a dataframe"
      ],
      "metadata": {
        "id": "ZE7dJIQYWana"
      }
    },
    {
      "cell_type": "code",
      "source": [
        "pd.DataFrame(df.ratings_list[0])['count'].sum()"
      ],
      "metadata": {
        "colab": {
          "base_uri": "https://localhost:8080/"
        },
        "id": "km2r1kSiWgJ1",
        "outputId": "148ecf6b-5a49-4064-a541-2afe9b79ba7f"
      },
      "execution_count": 168,
      "outputs": [
        {
          "output_type": "execute_result",
          "data": {
            "text/plain": [
              "93850"
            ]
          },
          "metadata": {},
          "execution_count": 168
        }
      ]
    },
    {
      "cell_type": "markdown",
      "source": [
        "## Which occupations deliver the funniest TED Talks on Average?"
      ],
      "metadata": {
        "id": "j7rRO6eCXv2F"
      }
    },
    {
      "cell_type": "markdown",
      "source": [
        "\n",
        "\n",
        "1.   Count the number of funny ratings\n",
        "2.   List item\n",
        "\n"
      ],
      "metadata": {
        "id": "E03HFUaVX2Dj"
      }
    },
    {
      "cell_type": "code",
      "source": [
        "df.ratings_list.head()"
      ],
      "metadata": {
        "colab": {
          "base_uri": "https://localhost:8080/"
        },
        "id": "D2DJBl7BYI4z",
        "outputId": "f5d4020f-934c-4a27-8bac-905ca177f598"
      },
      "execution_count": 169,
      "outputs": [
        {
          "output_type": "execute_result",
          "data": {
            "text/plain": [
              "0    [{'id': 7, 'name': 'Funny', 'count': 19645}, {...\n",
              "1    [{'id': 7, 'name': 'Funny', 'count': 544}, {'i...\n",
              "2    [{'id': 7, 'name': 'Funny', 'count': 964}, {'i...\n",
              "3    [{'id': 3, 'name': 'Courageous', 'count': 760}...\n",
              "4    [{'id': 9, 'name': 'Ingenious', 'count': 3202}...\n",
              "Name: ratings_list, dtype: object"
            ]
          },
          "metadata": {},
          "execution_count": 169
        }
      ]
    },
    {
      "cell_type": "code",
      "source": [
        "pd.DataFrame(df.ratings_list[0])"
      ],
      "metadata": {
        "colab": {
          "base_uri": "https://localhost:8080/",
          "height": 488
        },
        "id": "Kq-terYqYNJw",
        "outputId": "0f38066a-da31-4dc9-a0f0-e692c3ec23e3"
      },
      "execution_count": 174,
      "outputs": [
        {
          "output_type": "execute_result",
          "data": {
            "text/plain": [
              "    id          name  count\n",
              "0    7         Funny  19645\n",
              "1    1     Beautiful   4573\n",
              "2    9     Ingenious   6073\n",
              "3    3    Courageous   3253\n",
              "4   11    Longwinded    387\n",
              "5    2     Confusing    242\n",
              "6    8   Informative   7346\n",
              "7   22   Fascinating  10581\n",
              "8   21  Unconvincing    300\n",
              "9   24    Persuasive  10704\n",
              "10  23  Jaw-dropping   4439\n",
              "11  25            OK   1174\n",
              "12  26     Obnoxious    209\n",
              "13  10     Inspiring  24924"
            ],
            "text/html": [
              "\n",
              "  <div id=\"df-d84c2407-457d-4a20-a333-043c9578b32d\">\n",
              "    <div class=\"colab-df-container\">\n",
              "      <div>\n",
              "<style scoped>\n",
              "    .dataframe tbody tr th:only-of-type {\n",
              "        vertical-align: middle;\n",
              "    }\n",
              "\n",
              "    .dataframe tbody tr th {\n",
              "        vertical-align: top;\n",
              "    }\n",
              "\n",
              "    .dataframe thead th {\n",
              "        text-align: right;\n",
              "    }\n",
              "</style>\n",
              "<table border=\"1\" class=\"dataframe\">\n",
              "  <thead>\n",
              "    <tr style=\"text-align: right;\">\n",
              "      <th></th>\n",
              "      <th>id</th>\n",
              "      <th>name</th>\n",
              "      <th>count</th>\n",
              "    </tr>\n",
              "  </thead>\n",
              "  <tbody>\n",
              "    <tr>\n",
              "      <th>0</th>\n",
              "      <td>7</td>\n",
              "      <td>Funny</td>\n",
              "      <td>19645</td>\n",
              "    </tr>\n",
              "    <tr>\n",
              "      <th>1</th>\n",
              "      <td>1</td>\n",
              "      <td>Beautiful</td>\n",
              "      <td>4573</td>\n",
              "    </tr>\n",
              "    <tr>\n",
              "      <th>2</th>\n",
              "      <td>9</td>\n",
              "      <td>Ingenious</td>\n",
              "      <td>6073</td>\n",
              "    </tr>\n",
              "    <tr>\n",
              "      <th>3</th>\n",
              "      <td>3</td>\n",
              "      <td>Courageous</td>\n",
              "      <td>3253</td>\n",
              "    </tr>\n",
              "    <tr>\n",
              "      <th>4</th>\n",
              "      <td>11</td>\n",
              "      <td>Longwinded</td>\n",
              "      <td>387</td>\n",
              "    </tr>\n",
              "    <tr>\n",
              "      <th>5</th>\n",
              "      <td>2</td>\n",
              "      <td>Confusing</td>\n",
              "      <td>242</td>\n",
              "    </tr>\n",
              "    <tr>\n",
              "      <th>6</th>\n",
              "      <td>8</td>\n",
              "      <td>Informative</td>\n",
              "      <td>7346</td>\n",
              "    </tr>\n",
              "    <tr>\n",
              "      <th>7</th>\n",
              "      <td>22</td>\n",
              "      <td>Fascinating</td>\n",
              "      <td>10581</td>\n",
              "    </tr>\n",
              "    <tr>\n",
              "      <th>8</th>\n",
              "      <td>21</td>\n",
              "      <td>Unconvincing</td>\n",
              "      <td>300</td>\n",
              "    </tr>\n",
              "    <tr>\n",
              "      <th>9</th>\n",
              "      <td>24</td>\n",
              "      <td>Persuasive</td>\n",
              "      <td>10704</td>\n",
              "    </tr>\n",
              "    <tr>\n",
              "      <th>10</th>\n",
              "      <td>23</td>\n",
              "      <td>Jaw-dropping</td>\n",
              "      <td>4439</td>\n",
              "    </tr>\n",
              "    <tr>\n",
              "      <th>11</th>\n",
              "      <td>25</td>\n",
              "      <td>OK</td>\n",
              "      <td>1174</td>\n",
              "    </tr>\n",
              "    <tr>\n",
              "      <th>12</th>\n",
              "      <td>26</td>\n",
              "      <td>Obnoxious</td>\n",
              "      <td>209</td>\n",
              "    </tr>\n",
              "    <tr>\n",
              "      <th>13</th>\n",
              "      <td>10</td>\n",
              "      <td>Inspiring</td>\n",
              "      <td>24924</td>\n",
              "    </tr>\n",
              "  </tbody>\n",
              "</table>\n",
              "</div>\n",
              "      <button class=\"colab-df-convert\" onclick=\"convertToInteractive('df-d84c2407-457d-4a20-a333-043c9578b32d')\"\n",
              "              title=\"Convert this dataframe to an interactive table.\"\n",
              "              style=\"display:none;\">\n",
              "        \n",
              "  <svg xmlns=\"http://www.w3.org/2000/svg\" height=\"24px\"viewBox=\"0 0 24 24\"\n",
              "       width=\"24px\">\n",
              "    <path d=\"M0 0h24v24H0V0z\" fill=\"none\"/>\n",
              "    <path d=\"M18.56 5.44l.94 2.06.94-2.06 2.06-.94-2.06-.94-.94-2.06-.94 2.06-2.06.94zm-11 1L8.5 8.5l.94-2.06 2.06-.94-2.06-.94L8.5 2.5l-.94 2.06-2.06.94zm10 10l.94 2.06.94-2.06 2.06-.94-2.06-.94-.94-2.06-.94 2.06-2.06.94z\"/><path d=\"M17.41 7.96l-1.37-1.37c-.4-.4-.92-.59-1.43-.59-.52 0-1.04.2-1.43.59L10.3 9.45l-7.72 7.72c-.78.78-.78 2.05 0 2.83L4 21.41c.39.39.9.59 1.41.59.51 0 1.02-.2 1.41-.59l7.78-7.78 2.81-2.81c.8-.78.8-2.07 0-2.86zM5.41 20L4 18.59l7.72-7.72 1.47 1.35L5.41 20z\"/>\n",
              "  </svg>\n",
              "      </button>\n",
              "      \n",
              "  <style>\n",
              "    .colab-df-container {\n",
              "      display:flex;\n",
              "      flex-wrap:wrap;\n",
              "      gap: 12px;\n",
              "    }\n",
              "\n",
              "    .colab-df-convert {\n",
              "      background-color: #E8F0FE;\n",
              "      border: none;\n",
              "      border-radius: 50%;\n",
              "      cursor: pointer;\n",
              "      display: none;\n",
              "      fill: #1967D2;\n",
              "      height: 32px;\n",
              "      padding: 0 0 0 0;\n",
              "      width: 32px;\n",
              "    }\n",
              "\n",
              "    .colab-df-convert:hover {\n",
              "      background-color: #E2EBFA;\n",
              "      box-shadow: 0px 1px 2px rgba(60, 64, 67, 0.3), 0px 1px 3px 1px rgba(60, 64, 67, 0.15);\n",
              "      fill: #174EA6;\n",
              "    }\n",
              "\n",
              "    [theme=dark] .colab-df-convert {\n",
              "      background-color: #3B4455;\n",
              "      fill: #D2E3FC;\n",
              "    }\n",
              "\n",
              "    [theme=dark] .colab-df-convert:hover {\n",
              "      background-color: #434B5C;\n",
              "      box-shadow: 0px 1px 3px 1px rgba(0, 0, 0, 0.15);\n",
              "      filter: drop-shadow(0px 1px 2px rgba(0, 0, 0, 0.3));\n",
              "      fill: #FFFFFF;\n",
              "    }\n",
              "  </style>\n",
              "\n",
              "      <script>\n",
              "        const buttonEl =\n",
              "          document.querySelector('#df-d84c2407-457d-4a20-a333-043c9578b32d button.colab-df-convert');\n",
              "        buttonEl.style.display =\n",
              "          google.colab.kernel.accessAllowed ? 'block' : 'none';\n",
              "\n",
              "        async function convertToInteractive(key) {\n",
              "          const element = document.querySelector('#df-d84c2407-457d-4a20-a333-043c9578b32d');\n",
              "          const dataTable =\n",
              "            await google.colab.kernel.invokeFunction('convertToInteractive',\n",
              "                                                     [key], {});\n",
              "          if (!dataTable) return;\n",
              "\n",
              "          const docLinkHtml = 'Like what you see? Visit the ' +\n",
              "            '<a target=\"_blank\" href=https://colab.research.google.com/notebooks/data_table.ipynb>data table notebook</a>'\n",
              "            + ' to learn more about interactive tables.';\n",
              "          element.innerHTML = '';\n",
              "          dataTable['output_type'] = 'display_data';\n",
              "          await google.colab.output.renderOutput(dataTable, element);\n",
              "          const docLink = document.createElement('div');\n",
              "          docLink.innerHTML = docLinkHtml;\n",
              "          element.appendChild(docLink);\n",
              "        }\n",
              "      </script>\n",
              "    </div>\n",
              "  </div>\n",
              "  "
            ]
          },
          "metadata": {},
          "execution_count": 174
        }
      ]
    },
    {
      "cell_type": "code",
      "source": [
        "df['ratings'].str.contains('Funny').value_counts()"
      ],
      "metadata": {
        "colab": {
          "base_uri": "https://localhost:8080/"
        },
        "id": "BMtqMn-MZFC7",
        "outputId": "5fb3d19b-9668-4e4a-e029-ffdb25295e88"
      },
      "execution_count": 178,
      "outputs": [
        {
          "output_type": "execute_result",
          "data": {
            "text/plain": [
              "True    2550\n",
              "Name: ratings, dtype: int64"
            ]
          },
          "metadata": {},
          "execution_count": 178
        }
      ]
    },
    {
      "cell_type": "code",
      "source": [
        "def get_funny_ratings(list_of_dicts):\n",
        "    for d in list_of_dicts:\n",
        "        if d['name'] == 'Funny':\n",
        "            return d['count']"
      ],
      "metadata": {
        "id": "UBGPsbZeYgO9"
      },
      "execution_count": 181,
      "outputs": []
    },
    {
      "cell_type": "code",
      "source": [
        " df['funny_ratings'] = df.ratings_list.apply(get_funny_ratings)"
      ],
      "metadata": {
        "id": "UzfYLiuWYt5D"
      },
      "execution_count": 183,
      "outputs": []
    },
    {
      "cell_type": "code",
      "source": [
        "df.head()"
      ],
      "metadata": {
        "colab": {
          "base_uri": "https://localhost:8080/",
          "height": 699
        },
        "id": "RlKW6eZ3Z6-F",
        "outputId": "2a3d66e8-6583-4c5a-860c-ac2e2fe23406"
      },
      "execution_count": 184,
      "outputs": [
        {
          "output_type": "execute_result",
          "data": {
            "text/plain": [
              "   comments                                        description  duration  \\\n",
              "0      4553  Sir Ken Robinson makes an entertaining and pro...      1164   \n",
              "1       265  With the same humor and humanity he exuded in ...       977   \n",
              "2       124  New York Times columnist David Pogue takes aim...      1286   \n",
              "3       200  In an emotionally charged talk, MacArthur-winn...      1116   \n",
              "4       593  You've never seen data presented like this. Wi...      1190   \n",
              "\n",
              "     event   film_date  languages   main_speaker  \\\n",
              "0  TED2006  1140825600         60   Ken Robinson   \n",
              "1  TED2006  1140825600         43        Al Gore   \n",
              "2  TED2006  1140739200         26    David Pogue   \n",
              "3  TED2006  1140912000         35  Majora Carter   \n",
              "4  TED2006  1140566400         48   Hans Rosling   \n",
              "\n",
              "                                            name  num_speaker  published_date  \\\n",
              "0      Ken Robinson: Do schools kill creativity?            1      1151367060   \n",
              "1           Al Gore: Averting the climate crisis            1      1151367060   \n",
              "2                  David Pogue: Simplicity sells            1      1151367060   \n",
              "3             Majora Carter: Greening the ghetto            1      1151367060   \n",
              "4  Hans Rosling: The best stats you've ever seen            1      1151440680   \n",
              "\n",
              "   ...                                               tags  \\\n",
              "0  ...  ['children', 'creativity', 'culture', 'dance',...   \n",
              "1  ...  ['alternative energy', 'cars', 'climate change...   \n",
              "2  ...  ['computers', 'entertainment', 'interface desi...   \n",
              "3  ...  ['MacArthur grant', 'activism', 'business', 'c...   \n",
              "4  ...  ['Africa', 'Asia', 'Google', 'demo', 'economic...   \n",
              "\n",
              "                             title  \\\n",
              "0      Do schools kill creativity?   \n",
              "1      Averting the climate crisis   \n",
              "2                 Simplicity sells   \n",
              "3              Greening the ghetto   \n",
              "4  The best stats you've ever seen   \n",
              "\n",
              "                                                 url     views  \\\n",
              "0  https://www.ted.com/talks/ken_robinson_says_sc...  47227110   \n",
              "1  https://www.ted.com/talks/al_gore_on_averting_...   3200520   \n",
              "2  https://www.ted.com/talks/david_pogue_says_sim...   1636292   \n",
              "3  https://www.ted.com/talks/majora_carter_s_tale...   1697550   \n",
              "4  https://www.ted.com/talks/hans_rosling_shows_t...  12005869   \n",
              "\n",
              "  views_per_comment film_datetime  \\\n",
              "0      10372.745443    2006-02-25   \n",
              "1      12077.433962    2006-02-25   \n",
              "2      13195.903226    2006-02-24   \n",
              "3       8487.750000    2006-02-26   \n",
              "4      20245.984823    2006-02-22   \n",
              "\n",
              "                                        ratings_list  Total Ratings  \\\n",
              "0  [{'id': 7, 'name': 'Funny', 'count': 19645}, {...          93850   \n",
              "1  [{'id': 7, 'name': 'Funny', 'count': 544}, {'i...           2936   \n",
              "2  [{'id': 7, 'name': 'Funny', 'count': 964}, {'i...           2824   \n",
              "3  [{'id': 3, 'name': 'Courageous', 'count': 760}...           3728   \n",
              "4  [{'id': 9, 'name': 'Ingenious', 'count': 3202}...          25620   \n",
              "\n",
              "  total_ratings funny_ratings  \n",
              "0         93850         19645  \n",
              "1          2936           544  \n",
              "2          2824           964  \n",
              "3          3728            59  \n",
              "4         25620          1390  \n",
              "\n",
              "[5 rows x 23 columns]"
            ],
            "text/html": [
              "\n",
              "  <div id=\"df-328ad50a-429b-41e0-bda0-372685ebcc56\">\n",
              "    <div class=\"colab-df-container\">\n",
              "      <div>\n",
              "<style scoped>\n",
              "    .dataframe tbody tr th:only-of-type {\n",
              "        vertical-align: middle;\n",
              "    }\n",
              "\n",
              "    .dataframe tbody tr th {\n",
              "        vertical-align: top;\n",
              "    }\n",
              "\n",
              "    .dataframe thead th {\n",
              "        text-align: right;\n",
              "    }\n",
              "</style>\n",
              "<table border=\"1\" class=\"dataframe\">\n",
              "  <thead>\n",
              "    <tr style=\"text-align: right;\">\n",
              "      <th></th>\n",
              "      <th>comments</th>\n",
              "      <th>description</th>\n",
              "      <th>duration</th>\n",
              "      <th>event</th>\n",
              "      <th>film_date</th>\n",
              "      <th>languages</th>\n",
              "      <th>main_speaker</th>\n",
              "      <th>name</th>\n",
              "      <th>num_speaker</th>\n",
              "      <th>published_date</th>\n",
              "      <th>...</th>\n",
              "      <th>tags</th>\n",
              "      <th>title</th>\n",
              "      <th>url</th>\n",
              "      <th>views</th>\n",
              "      <th>views_per_comment</th>\n",
              "      <th>film_datetime</th>\n",
              "      <th>ratings_list</th>\n",
              "      <th>Total Ratings</th>\n",
              "      <th>total_ratings</th>\n",
              "      <th>funny_ratings</th>\n",
              "    </tr>\n",
              "  </thead>\n",
              "  <tbody>\n",
              "    <tr>\n",
              "      <th>0</th>\n",
              "      <td>4553</td>\n",
              "      <td>Sir Ken Robinson makes an entertaining and pro...</td>\n",
              "      <td>1164</td>\n",
              "      <td>TED2006</td>\n",
              "      <td>1140825600</td>\n",
              "      <td>60</td>\n",
              "      <td>Ken Robinson</td>\n",
              "      <td>Ken Robinson: Do schools kill creativity?</td>\n",
              "      <td>1</td>\n",
              "      <td>1151367060</td>\n",
              "      <td>...</td>\n",
              "      <td>['children', 'creativity', 'culture', 'dance',...</td>\n",
              "      <td>Do schools kill creativity?</td>\n",
              "      <td>https://www.ted.com/talks/ken_robinson_says_sc...</td>\n",
              "      <td>47227110</td>\n",
              "      <td>10372.745443</td>\n",
              "      <td>2006-02-25</td>\n",
              "      <td>[{'id': 7, 'name': 'Funny', 'count': 19645}, {...</td>\n",
              "      <td>93850</td>\n",
              "      <td>93850</td>\n",
              "      <td>19645</td>\n",
              "    </tr>\n",
              "    <tr>\n",
              "      <th>1</th>\n",
              "      <td>265</td>\n",
              "      <td>With the same humor and humanity he exuded in ...</td>\n",
              "      <td>977</td>\n",
              "      <td>TED2006</td>\n",
              "      <td>1140825600</td>\n",
              "      <td>43</td>\n",
              "      <td>Al Gore</td>\n",
              "      <td>Al Gore: Averting the climate crisis</td>\n",
              "      <td>1</td>\n",
              "      <td>1151367060</td>\n",
              "      <td>...</td>\n",
              "      <td>['alternative energy', 'cars', 'climate change...</td>\n",
              "      <td>Averting the climate crisis</td>\n",
              "      <td>https://www.ted.com/talks/al_gore_on_averting_...</td>\n",
              "      <td>3200520</td>\n",
              "      <td>12077.433962</td>\n",
              "      <td>2006-02-25</td>\n",
              "      <td>[{'id': 7, 'name': 'Funny', 'count': 544}, {'i...</td>\n",
              "      <td>2936</td>\n",
              "      <td>2936</td>\n",
              "      <td>544</td>\n",
              "    </tr>\n",
              "    <tr>\n",
              "      <th>2</th>\n",
              "      <td>124</td>\n",
              "      <td>New York Times columnist David Pogue takes aim...</td>\n",
              "      <td>1286</td>\n",
              "      <td>TED2006</td>\n",
              "      <td>1140739200</td>\n",
              "      <td>26</td>\n",
              "      <td>David Pogue</td>\n",
              "      <td>David Pogue: Simplicity sells</td>\n",
              "      <td>1</td>\n",
              "      <td>1151367060</td>\n",
              "      <td>...</td>\n",
              "      <td>['computers', 'entertainment', 'interface desi...</td>\n",
              "      <td>Simplicity sells</td>\n",
              "      <td>https://www.ted.com/talks/david_pogue_says_sim...</td>\n",
              "      <td>1636292</td>\n",
              "      <td>13195.903226</td>\n",
              "      <td>2006-02-24</td>\n",
              "      <td>[{'id': 7, 'name': 'Funny', 'count': 964}, {'i...</td>\n",
              "      <td>2824</td>\n",
              "      <td>2824</td>\n",
              "      <td>964</td>\n",
              "    </tr>\n",
              "    <tr>\n",
              "      <th>3</th>\n",
              "      <td>200</td>\n",
              "      <td>In an emotionally charged talk, MacArthur-winn...</td>\n",
              "      <td>1116</td>\n",
              "      <td>TED2006</td>\n",
              "      <td>1140912000</td>\n",
              "      <td>35</td>\n",
              "      <td>Majora Carter</td>\n",
              "      <td>Majora Carter: Greening the ghetto</td>\n",
              "      <td>1</td>\n",
              "      <td>1151367060</td>\n",
              "      <td>...</td>\n",
              "      <td>['MacArthur grant', 'activism', 'business', 'c...</td>\n",
              "      <td>Greening the ghetto</td>\n",
              "      <td>https://www.ted.com/talks/majora_carter_s_tale...</td>\n",
              "      <td>1697550</td>\n",
              "      <td>8487.750000</td>\n",
              "      <td>2006-02-26</td>\n",
              "      <td>[{'id': 3, 'name': 'Courageous', 'count': 760}...</td>\n",
              "      <td>3728</td>\n",
              "      <td>3728</td>\n",
              "      <td>59</td>\n",
              "    </tr>\n",
              "    <tr>\n",
              "      <th>4</th>\n",
              "      <td>593</td>\n",
              "      <td>You've never seen data presented like this. Wi...</td>\n",
              "      <td>1190</td>\n",
              "      <td>TED2006</td>\n",
              "      <td>1140566400</td>\n",
              "      <td>48</td>\n",
              "      <td>Hans Rosling</td>\n",
              "      <td>Hans Rosling: The best stats you've ever seen</td>\n",
              "      <td>1</td>\n",
              "      <td>1151440680</td>\n",
              "      <td>...</td>\n",
              "      <td>['Africa', 'Asia', 'Google', 'demo', 'economic...</td>\n",
              "      <td>The best stats you've ever seen</td>\n",
              "      <td>https://www.ted.com/talks/hans_rosling_shows_t...</td>\n",
              "      <td>12005869</td>\n",
              "      <td>20245.984823</td>\n",
              "      <td>2006-02-22</td>\n",
              "      <td>[{'id': 9, 'name': 'Ingenious', 'count': 3202}...</td>\n",
              "      <td>25620</td>\n",
              "      <td>25620</td>\n",
              "      <td>1390</td>\n",
              "    </tr>\n",
              "  </tbody>\n",
              "</table>\n",
              "<p>5 rows × 23 columns</p>\n",
              "</div>\n",
              "      <button class=\"colab-df-convert\" onclick=\"convertToInteractive('df-328ad50a-429b-41e0-bda0-372685ebcc56')\"\n",
              "              title=\"Convert this dataframe to an interactive table.\"\n",
              "              style=\"display:none;\">\n",
              "        \n",
              "  <svg xmlns=\"http://www.w3.org/2000/svg\" height=\"24px\"viewBox=\"0 0 24 24\"\n",
              "       width=\"24px\">\n",
              "    <path d=\"M0 0h24v24H0V0z\" fill=\"none\"/>\n",
              "    <path d=\"M18.56 5.44l.94 2.06.94-2.06 2.06-.94-2.06-.94-.94-2.06-.94 2.06-2.06.94zm-11 1L8.5 8.5l.94-2.06 2.06-.94-2.06-.94L8.5 2.5l-.94 2.06-2.06.94zm10 10l.94 2.06.94-2.06 2.06-.94-2.06-.94-.94-2.06-.94 2.06-2.06.94z\"/><path d=\"M17.41 7.96l-1.37-1.37c-.4-.4-.92-.59-1.43-.59-.52 0-1.04.2-1.43.59L10.3 9.45l-7.72 7.72c-.78.78-.78 2.05 0 2.83L4 21.41c.39.39.9.59 1.41.59.51 0 1.02-.2 1.41-.59l7.78-7.78 2.81-2.81c.8-.78.8-2.07 0-2.86zM5.41 20L4 18.59l7.72-7.72 1.47 1.35L5.41 20z\"/>\n",
              "  </svg>\n",
              "      </button>\n",
              "      \n",
              "  <style>\n",
              "    .colab-df-container {\n",
              "      display:flex;\n",
              "      flex-wrap:wrap;\n",
              "      gap: 12px;\n",
              "    }\n",
              "\n",
              "    .colab-df-convert {\n",
              "      background-color: #E8F0FE;\n",
              "      border: none;\n",
              "      border-radius: 50%;\n",
              "      cursor: pointer;\n",
              "      display: none;\n",
              "      fill: #1967D2;\n",
              "      height: 32px;\n",
              "      padding: 0 0 0 0;\n",
              "      width: 32px;\n",
              "    }\n",
              "\n",
              "    .colab-df-convert:hover {\n",
              "      background-color: #E2EBFA;\n",
              "      box-shadow: 0px 1px 2px rgba(60, 64, 67, 0.3), 0px 1px 3px 1px rgba(60, 64, 67, 0.15);\n",
              "      fill: #174EA6;\n",
              "    }\n",
              "\n",
              "    [theme=dark] .colab-df-convert {\n",
              "      background-color: #3B4455;\n",
              "      fill: #D2E3FC;\n",
              "    }\n",
              "\n",
              "    [theme=dark] .colab-df-convert:hover {\n",
              "      background-color: #434B5C;\n",
              "      box-shadow: 0px 1px 3px 1px rgba(0, 0, 0, 0.15);\n",
              "      filter: drop-shadow(0px 1px 2px rgba(0, 0, 0, 0.3));\n",
              "      fill: #FFFFFF;\n",
              "    }\n",
              "  </style>\n",
              "\n",
              "      <script>\n",
              "        const buttonEl =\n",
              "          document.querySelector('#df-328ad50a-429b-41e0-bda0-372685ebcc56 button.colab-df-convert');\n",
              "        buttonEl.style.display =\n",
              "          google.colab.kernel.accessAllowed ? 'block' : 'none';\n",
              "\n",
              "        async function convertToInteractive(key) {\n",
              "          const element = document.querySelector('#df-328ad50a-429b-41e0-bda0-372685ebcc56');\n",
              "          const dataTable =\n",
              "            await google.colab.kernel.invokeFunction('convertToInteractive',\n",
              "                                                     [key], {});\n",
              "          if (!dataTable) return;\n",
              "\n",
              "          const docLinkHtml = 'Like what you see? Visit the ' +\n",
              "            '<a target=\"_blank\" href=https://colab.research.google.com/notebooks/data_table.ipynb>data table notebook</a>'\n",
              "            + ' to learn more about interactive tables.';\n",
              "          element.innerHTML = '';\n",
              "          dataTable['output_type'] = 'display_data';\n",
              "          await google.colab.output.renderOutput(dataTable, element);\n",
              "          const docLink = document.createElement('div');\n",
              "          docLink.innerHTML = docLinkHtml;\n",
              "          element.appendChild(docLink);\n",
              "        }\n",
              "      </script>\n",
              "    </div>\n",
              "  </div>\n",
              "  "
            ]
          },
          "metadata": {},
          "execution_count": 184
        }
      ]
    },
    {
      "cell_type": "code",
      "source": [
        "df['funny_rate_pct'] = df.funny_ratings / df.total_ratings"
      ],
      "metadata": {
        "id": "5JYc_hzOaG3P"
      },
      "execution_count": 185,
      "outputs": []
    },
    {
      "cell_type": "code",
      "source": [
        "df.sort_values('funny_rate_pct').speaker_occupation.tail(20)"
      ],
      "metadata": {
        "colab": {
          "base_uri": "https://localhost:8080/"
        },
        "id": "5oUpgNdaaT2J",
        "outputId": "2d46c72b-fb8e-4fa4-df19-cb91e823c2b7"
      },
      "execution_count": 187,
      "outputs": [
        {
          "output_type": "execute_result",
          "data": {
            "text/plain": [
              "1849                       Science humorist\n",
              "337                                Comedian\n",
              "124     Performance poet, multimedia artist\n",
              "315                                  Expert\n",
              "1168             Social energy entrepreneur\n",
              "1468                          Ornithologist\n",
              "595                  Comedian, voice artist\n",
              "1534                         Cartoon editor\n",
              "97                                 Satirist\n",
              "2297                          Actor, writer\n",
              "568                                Comedian\n",
              "675                          Data scientist\n",
              "21                     Humorist, web artist\n",
              "194                                Jugglers\n",
              "2273                    Comedian and writer\n",
              "2114                    Comedian and writer\n",
              "173                                Investor\n",
              "747                                Comedian\n",
              "1398                               Comedian\n",
              "685             Actor, comedian, playwright\n",
              "Name: speaker_occupation, dtype: object"
            ]
          },
          "metadata": {},
          "execution_count": 187
        }
      ]
    },
    {
      "cell_type": "markdown",
      "source": [
        "## Analyze the Funny Rate by occupation"
      ],
      "metadata": {
        "id": "P6eaLgBzau-A"
      }
    },
    {
      "cell_type": "code",
      "source": [
        "df.groupby(['speaker_occupation']).funny_rate_pct.agg(['mean', 'count', 'sum']).sort_values('mean').tail()"
      ],
      "metadata": {
        "colab": {
          "base_uri": "https://localhost:8080/",
          "height": 237
        },
        "id": "iI1mhy3rat8i",
        "outputId": "a4161bc7-9177-441c-c880-8c0223c682ad"
      },
      "execution_count": 189,
      "outputs": [
        {
          "output_type": "execute_result",
          "data": {
            "text/plain": [
              "                                 mean  count       sum\n",
              "speaker_occupation                                    \n",
              "Comedian                     0.512457      6  3.074740\n",
              "Actor, writer                0.515152      1  0.515152\n",
              "Actor, comedian, playwright  0.558107      2  1.116214\n",
              "Jugglers                     0.566828      1  0.566828\n",
              "Comedian and writer          0.602085      2  1.204171"
            ],
            "text/html": [
              "\n",
              "  <div id=\"df-f0a86b83-ceb7-4402-9b2f-d08c008eb339\">\n",
              "    <div class=\"colab-df-container\">\n",
              "      <div>\n",
              "<style scoped>\n",
              "    .dataframe tbody tr th:only-of-type {\n",
              "        vertical-align: middle;\n",
              "    }\n",
              "\n",
              "    .dataframe tbody tr th {\n",
              "        vertical-align: top;\n",
              "    }\n",
              "\n",
              "    .dataframe thead th {\n",
              "        text-align: right;\n",
              "    }\n",
              "</style>\n",
              "<table border=\"1\" class=\"dataframe\">\n",
              "  <thead>\n",
              "    <tr style=\"text-align: right;\">\n",
              "      <th></th>\n",
              "      <th>mean</th>\n",
              "      <th>count</th>\n",
              "      <th>sum</th>\n",
              "    </tr>\n",
              "    <tr>\n",
              "      <th>speaker_occupation</th>\n",
              "      <th></th>\n",
              "      <th></th>\n",
              "      <th></th>\n",
              "    </tr>\n",
              "  </thead>\n",
              "  <tbody>\n",
              "    <tr>\n",
              "      <th>Comedian</th>\n",
              "      <td>0.512457</td>\n",
              "      <td>6</td>\n",
              "      <td>3.074740</td>\n",
              "    </tr>\n",
              "    <tr>\n",
              "      <th>Actor, writer</th>\n",
              "      <td>0.515152</td>\n",
              "      <td>1</td>\n",
              "      <td>0.515152</td>\n",
              "    </tr>\n",
              "    <tr>\n",
              "      <th>Actor, comedian, playwright</th>\n",
              "      <td>0.558107</td>\n",
              "      <td>2</td>\n",
              "      <td>1.116214</td>\n",
              "    </tr>\n",
              "    <tr>\n",
              "      <th>Jugglers</th>\n",
              "      <td>0.566828</td>\n",
              "      <td>1</td>\n",
              "      <td>0.566828</td>\n",
              "    </tr>\n",
              "    <tr>\n",
              "      <th>Comedian and writer</th>\n",
              "      <td>0.602085</td>\n",
              "      <td>2</td>\n",
              "      <td>1.204171</td>\n",
              "    </tr>\n",
              "  </tbody>\n",
              "</table>\n",
              "</div>\n",
              "      <button class=\"colab-df-convert\" onclick=\"convertToInteractive('df-f0a86b83-ceb7-4402-9b2f-d08c008eb339')\"\n",
              "              title=\"Convert this dataframe to an interactive table.\"\n",
              "              style=\"display:none;\">\n",
              "        \n",
              "  <svg xmlns=\"http://www.w3.org/2000/svg\" height=\"24px\"viewBox=\"0 0 24 24\"\n",
              "       width=\"24px\">\n",
              "    <path d=\"M0 0h24v24H0V0z\" fill=\"none\"/>\n",
              "    <path d=\"M18.56 5.44l.94 2.06.94-2.06 2.06-.94-2.06-.94-.94-2.06-.94 2.06-2.06.94zm-11 1L8.5 8.5l.94-2.06 2.06-.94-2.06-.94L8.5 2.5l-.94 2.06-2.06.94zm10 10l.94 2.06.94-2.06 2.06-.94-2.06-.94-.94-2.06-.94 2.06-2.06.94z\"/><path d=\"M17.41 7.96l-1.37-1.37c-.4-.4-.92-.59-1.43-.59-.52 0-1.04.2-1.43.59L10.3 9.45l-7.72 7.72c-.78.78-.78 2.05 0 2.83L4 21.41c.39.39.9.59 1.41.59.51 0 1.02-.2 1.41-.59l7.78-7.78 2.81-2.81c.8-.78.8-2.07 0-2.86zM5.41 20L4 18.59l7.72-7.72 1.47 1.35L5.41 20z\"/>\n",
              "  </svg>\n",
              "      </button>\n",
              "      \n",
              "  <style>\n",
              "    .colab-df-container {\n",
              "      display:flex;\n",
              "      flex-wrap:wrap;\n",
              "      gap: 12px;\n",
              "    }\n",
              "\n",
              "    .colab-df-convert {\n",
              "      background-color: #E8F0FE;\n",
              "      border: none;\n",
              "      border-radius: 50%;\n",
              "      cursor: pointer;\n",
              "      display: none;\n",
              "      fill: #1967D2;\n",
              "      height: 32px;\n",
              "      padding: 0 0 0 0;\n",
              "      width: 32px;\n",
              "    }\n",
              "\n",
              "    .colab-df-convert:hover {\n",
              "      background-color: #E2EBFA;\n",
              "      box-shadow: 0px 1px 2px rgba(60, 64, 67, 0.3), 0px 1px 3px 1px rgba(60, 64, 67, 0.15);\n",
              "      fill: #174EA6;\n",
              "    }\n",
              "\n",
              "    [theme=dark] .colab-df-convert {\n",
              "      background-color: #3B4455;\n",
              "      fill: #D2E3FC;\n",
              "    }\n",
              "\n",
              "    [theme=dark] .colab-df-convert:hover {\n",
              "      background-color: #434B5C;\n",
              "      box-shadow: 0px 1px 3px 1px rgba(0, 0, 0, 0.15);\n",
              "      filter: drop-shadow(0px 1px 2px rgba(0, 0, 0, 0.3));\n",
              "      fill: #FFFFFF;\n",
              "    }\n",
              "  </style>\n",
              "\n",
              "      <script>\n",
              "        const buttonEl =\n",
              "          document.querySelector('#df-f0a86b83-ceb7-4402-9b2f-d08c008eb339 button.colab-df-convert');\n",
              "        buttonEl.style.display =\n",
              "          google.colab.kernel.accessAllowed ? 'block' : 'none';\n",
              "\n",
              "        async function convertToInteractive(key) {\n",
              "          const element = document.querySelector('#df-f0a86b83-ceb7-4402-9b2f-d08c008eb339');\n",
              "          const dataTable =\n",
              "            await google.colab.kernel.invokeFunction('convertToInteractive',\n",
              "                                                     [key], {});\n",
              "          if (!dataTable) return;\n",
              "\n",
              "          const docLinkHtml = 'Like what you see? Visit the ' +\n",
              "            '<a target=\"_blank\" href=https://colab.research.google.com/notebooks/data_table.ipynb>data table notebook</a>'\n",
              "            + ' to learn more about interactive tables.';\n",
              "          element.innerHTML = '';\n",
              "          dataTable['output_type'] = 'display_data';\n",
              "          await google.colab.output.renderOutput(dataTable, element);\n",
              "          const docLink = document.createElement('div');\n",
              "          docLink.innerHTML = docLinkHtml;\n",
              "          element.appendChild(docLink);\n",
              "        }\n",
              "      </script>\n",
              "    </div>\n",
              "  </div>\n",
              "  "
            ]
          },
          "metadata": {},
          "execution_count": 189
        }
      ]
    },
    {
      "cell_type": "code",
      "source": [
        "df.speaker_occupation.describe()"
      ],
      "metadata": {
        "colab": {
          "base_uri": "https://localhost:8080/"
        },
        "id": "5WgcuMQybN_3",
        "outputId": "bb03a47e-4c00-4ce9-eaba-1a257ca329f6"
      },
      "execution_count": 190,
      "outputs": [
        {
          "output_type": "execute_result",
          "data": {
            "text/plain": [
              "count       2544\n",
              "unique      1458\n",
              "top       Writer\n",
              "freq          45\n",
              "Name: speaker_occupation, dtype: object"
            ]
          },
          "metadata": {},
          "execution_count": 190
        }
      ]
    },
    {
      "cell_type": "markdown",
      "source": [
        "## Focus on occupations that are well represented in the data"
      ],
      "metadata": {
        "id": "CtvcEBjRbUBL"
      }
    },
    {
      "cell_type": "code",
      "source": [
        "df.speaker_occupation.value_counts().head(20).plot(kind='bar')"
      ],
      "metadata": {
        "colab": {
          "base_uri": "https://localhost:8080/",
          "height": 353
        },
        "id": "_OLXeX7NbdUW",
        "outputId": "3aafb06c-3f3e-4def-ac51-046831519c71"
      },
      "execution_count": 193,
      "outputs": [
        {
          "output_type": "execute_result",
          "data": {
            "text/plain": [
              "<matplotlib.axes._subplots.AxesSubplot at 0x7f3668293d10>"
            ]
          },
          "metadata": {},
          "execution_count": 193
        },
        {
          "output_type": "display_data",
          "data": {
            "text/plain": [
              "<Figure size 432x288 with 1 Axes>"
            ],
            "image/png": "[encoded data removed]"
          },
          "metadata": {
            "needs_background": "light"
          }
        }
      ]
    },
    {
      "cell_type": "markdown",
      "source": [
        "## Lessons to be learnt:\n",
        "1. Check your assumptions about your data\n",
        "2. Check whether your results are reasonable\n",
        "3. Take advantage of the fact that padas operations often output a DataFrame or a Series\n",
        "4. Watch ouf for small sample sizes\n",
        "5. Consider the impact of missing data\n",
        "6. Data scientists are hilarious"
      ],
      "metadata": {
        "id": "zr9Ym-7mdQub"
      }
    }
  ]
}